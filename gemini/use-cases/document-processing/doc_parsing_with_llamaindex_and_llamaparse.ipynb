{
 "cells": [
  {
   "cell_type": "markdown",
   "metadata": {},
   "source": [
    "# Comparing LlamaIndex and LlamaParse for Dense Document Questioning Answering on Vertex AI\n",
    "<table align=\"left\">\n",
    "  <td style=\"text-align: center\">\n",
    "    <a href=\"https://colab.research.google.com/github/GoogleCloudPlatform/generative-ai/blob/main/doc_parsing_with_llamaindex_and_llamaparse.ipynb\">\n",
    "      <img width=\"32px\" src=\"https://www.gstatic.com/pantheon/images/bigquery/welcome_page/colab-logo.svg\" alt=\"Google Colaboratory logo\"><br> Open in Colab\n",
    "    </a>\n",
    "  </td>\n",
    "  <td style=\"text-align: center\">\n",
    "    <a href=\"https://console.cloud.google.com/vertex-ai/colab/import/https:%2F%2Fraw.githubusercontent.com%2FGoogleCloudPlatform%2Fgenerative-ai%2Fmain%2Fdoc_parsing_with_llamaindex_and_llamaparse.ipynb\">\n",
    "      <img width=\"32px\" src=\"https://lh3.googleusercontent.com/JmcxdQi-qOpctIvWKgPtrzZdJJK-J3sWE1RsfjZNwshCFgE_9fULcNpuXYTilIR2hjwN\" alt=\"Google Cloud Colab Enterprise logo\"><br> Open in Colab Enterprise\n",
    "    </a>\n",
    "  </td>\n",
    "  <td style=\"text-align: center\">\n",
    "    <a href=\"https://console.cloud.google.com/vertex-ai/workbench/deploy-notebook?download_url=https://raw.githubusercontent.com/GoogleCloudPlatform/generative-ai/main/doc_parsing_with_llamaindex_and_llamaparse.ipynb\">\n",
    "      <img src=\"https://www.gstatic.com/images/branding/gcpiconscolors/vertexai/v1/32px.svg\" alt=\"Vertex AI logo\"><br> Open in Vertex AI Workbench\n",
    "    </a>\n",
    "  </td>\n",
    "  <td style=\"text-align: center\">\n",
    "    <a href=\"https://github.com/GoogleCloudPlatform/generative-ai/blob/main/doc_parsing_with_llamaindex_and_llamaparse.ipynb\">\n",
    "      <img width=\"32px\" src=\"https://upload.wikimedia.org/wikipedia/commons/9/91/Octicons-mark-github.svg\" alt=\"GitHub logo\"><br> View on GitHub\n",
    "    </a>\n",
    "  </td>\n",
    "</table>"
   ]
  },
  {
   "cell_type": "markdown",
   "metadata": {},
   "source": [
    "\n",
    "| | |\n",
    "|-|-|\n",
    "| Author(s) | [Noa Ben-Efraim](https://github.com/noabenefraim/) |"
   ]
  },
  {
   "cell_type": "markdown",
   "metadata": {},
   "source": [
    "## Overview\n",
    "There are many ways to customize RAG pipelines by choosing how to ingest, parse, chunk, and retrieve your data. This notebook focuses on comparing different document parsing capabilities offered by LlamaIndex.\n",
    "\n",
    "We will compare document parsing with LlamaIndex and LlamaParse on a 10-Q financial document, which is heavily populated with complex tables.\n",
    "\n",
    "### Objectives\n",
    "This notebook compare using LlamaIndex and LlamaParse for ingesting and indexing a complex document. \n",
    "\n",
    "You will complete the following tasks:\n",
    "1. Ingest and parse document using LlamaIndex SimpleDataReader, LlamaIndex LangchainNodeParser, and LlamaParse Parser using Gemini models.\n",
    "2. Index your parsed document in a VectorStore.\n",
    "3. Create a a query agent for each parsing technique that can answer questions against the input document.\n",
    "4. Compare results across LlamaIndex and LlamaParse.\n",
    "\n",
    "### LlamaIndex\n",
    "LlamaIndex is a foundational data framework for building LLM applications. A few of its main capabilities are:\n",
    "\n",
    "+ Data Ingestion: Loads your data from various sources (documents, databases, APIs).   \n",
    "+ Indexing: Structures your data into efficient formats for LLM retrieval (e.g., vector stores, tree structures).   \n",
    "+ Querying: Enables you to ask questions or give instructions to the LLM, referencing your indexed data for answers.   \n",
    "+ Integration: Connects with various LLMs, vector databases, and other tools.   \n",
    "  \n",
    "\n",
    "### LlamaParse\n",
    "LlamaParse is a tool within the LlamaIndex ecosystem, focused on parsing complex documents:\n",
    "\n",
    "+ PDFs: Handles PDFs with tables, charts, and other embedded elements that can be challenging for standard parsing.  \n",
    "+ Semi-structured Data: Extracts structured information from documents that aren't fully formatted databases.   \n",
    "+ Enhanced Retrieval: Works seamlessly with LlamaIndex to improve retrieval accuracy for complex documents."
   ]
  },
  {
   "cell_type": "markdown",
   "metadata": {},
   "source": [
    "## Getting Started\n",
    "\n",
    "### Authenticate your notebook environment\n",
    "\n",
    "This notebook expects the following resources to exists:\n",
    "+ initialized Google Cloud project \n",
    "+ Vertex AI API enabled\n",
    "+ A LlamaParse API Key [request a key here](https://docs.cloud.llamaindex.ai/llamacloud/getting_started/api_key)"
   ]
  },
  {
   "cell_type": "code",
   "execution_count": 2,
   "metadata": {},
   "outputs": [],
   "source": [
    "PROJECT_ID = \"genai-noabe\" # @param {type:\"string\"}\n",
    "REGION = \"us-central1\"  # @param {type:\"string\"}\n",
    "GCS_BUCKET = \"llama_gcs_bucket\"  # @param {type:\"string\"}\n",
    "VS_INDEX_NAME = \"llamaparse_doc_index\"  # @param {type:\"string\"}\n",
    "VS_INDEX_ENDPOINT_NAME = \"llamaparse_doc_endpoint\"  # @param {type:\"string\"}\n",
    "DATA_FOLDER = \"./data\"  # @param {type:\"string\"}"
   ]
  },
  {
   "cell_type": "markdown",
   "metadata": {},
   "source": [
    "### Set Google Cloud project information and initialize Vertex AI SDK\n",
    "\n",
    "To get started using Vertex AI, you must have an existing Google Cloud project and [enable the Vertex AI API](https://console.cloud.google.com/flows/enableapi?apiid=aiplatform.googleapis.com).\n",
    "\n",
    "Learn more about [setting up a project and a development environment](https://cloud.google.com/vertex-ai/docs/start/cloud-environment)."
   ]
  },
  {
   "cell_type": "code",
   "execution_count": 3,
   "metadata": {},
   "outputs": [],
   "source": [
    "PROJECT_ID = \"genai-noabe\"  # @param {type:\"string\"}\n",
    "LOCATION = \"us-central1\"  # @param {type:\"string\"}\n",
    "\n",
    "import vertexai\n",
    "\n",
    "vertexai.init(project=PROJECT_ID, location=LOCATION)"
   ]
  },
  {
   "cell_type": "markdown",
   "metadata": {},
   "source": [
    "### Setting up the Environment\n",
    "Install dependencies"
   ]
  },
  {
   "cell_type": "code",
   "execution_count": 4,
   "metadata": {},
   "outputs": [
    {
     "name": "stdout",
     "output_type": "stream",
     "text": [
      "Note: you may need to restart the kernel to use updated packages.\n"
     ]
    }
   ],
   "source": [
    "%pip install google-cloud-aiplatform \\\n",
    "  llama-index \\\n",
    "  langchain-community \\\n",
    "  llama-index-embeddings-vertex \\\n",
    "  llama-index-llms-vertex \\\n",
    "  termcolor \\\n",
    "  llama-index-core -q"
   ]
  },
  {
   "cell_type": "markdown",
   "metadata": {},
   "source": [
    "Set up imports"
   ]
  },
  {
   "cell_type": "code",
   "execution_count": 5,
   "metadata": {},
   "outputs": [],
   "source": [
    "import os\n",
    "from llama_parse import LlamaParse \n",
    "from llama_index.embeddings.vertex import VertexTextEmbedding\n",
    "from llama_index.llms.vertex import Vertex\n",
    "from langchain.text_splitter import RecursiveCharacterTextSplitter\n",
    "from llama_index.core.node_parser import LangchainNodeParser\n",
    "from llama_index.core import VectorStoreIndex\n",
    "from llama_index.vector_stores.vertexaivectorsearch import VertexAIVectorStore\n",
    "from llama_index.core.ingestion import IngestionPipeline\n",
    "from llama_index.core.node_parser import (\n",
    "    LangchainNodeParser\n",
    ") \n",
    "from llama_index.core import (\n",
    "    SimpleDirectoryReader,\n",
    "    Settings\n",
    ")\n",
    "from llama_index.core.extractors import (\n",
    "    QuestionsAnsweredExtractor,\n",
    "    KeywordExtractor\n",
    ")\n",
    "from llama_index.core.base.response.schema import Response"
   ]
  },
  {
   "cell_type": "markdown",
   "metadata": {},
   "source": [
    "Generate credentials"
   ]
  },
  {
   "cell_type": "code",
   "execution_count": 6,
   "metadata": {},
   "outputs": [],
   "source": [
    "import google.auth\n",
    "import google.auth.transport.requests\n",
    "\n",
    "# credentials will now have an api token\n",
    "credentials = google.auth.default(quota_project_id='genai-noabe')[0]\n",
    "request = google.auth.transport.requests.Request()\n",
    "credentials.refresh(request)"
   ]
  },
  {
   "cell_type": "code",
   "execution_count": 7,
   "metadata": {},
   "outputs": [
    {
     "name": "stderr",
     "output_type": "stream",
     "text": [
      "WARNING: All log messages before absl::InitializeLog() is called are written to STDERR\n",
      "I0000 00:00:1725640900.746167    2172 config.cc:230] gRPC experiments enabled: call_status_override_on_cancellation, event_engine_dns, event_engine_listener, http2_stats_fix, monitoring_experiment, pick_first_new, trace_record_callops, work_serializer_clears_time_cache\n"
     ]
    }
   ],
   "source": [
    "gemini_embedding_model = VertexTextEmbedding(\"text-embedding-004\", credentials=credentials)\n",
    "llm = Vertex(model=\"gemini-pro\", temperature=0.0, max_tokens=5000)\n",
    "\n",
    "Settings.embed_model = gemini_embedding_model\n",
    "Settings.llm=llm"
   ]
  },
  {
   "cell_type": "markdown",
   "metadata": {},
   "source": [
    "Set up LlamaIndex settings to point to Gemini models."
   ]
  },
  {
   "cell_type": "code",
   "execution_count": null,
   "metadata": {},
   "outputs": [],
   "source": [
    "import IPython\n",
    "\n",
    "app = IPython.Application.instance()\n",
    "app.kernel.do_shutdown(True)"
   ]
  },
  {
   "cell_type": "markdown",
   "metadata": {},
   "source": [
    "### Authenticate your notebook environment (Colab only)\n",
    "\n",
    "If you're running this notebook on Google Colab, run the cell below to authenticate your environment."
   ]
  },
  {
   "cell_type": "code",
   "execution_count": 7,
   "metadata": {},
   "outputs": [],
   "source": [
    "import sys\n",
    "\n",
    "if \"google.colab\" in sys.modules:\n",
    "    from google.colab import auth\n",
    "\n",
    "    auth.authenticate_user()"
   ]
  },
  {
   "cell_type": "markdown",
   "metadata": {},
   "source": [
    "### Download sample data\n",
    "\n",
    "For the remainder of the notebook we will examine Alphabet Inc. 10Q document. A 10Q is a financial document that is dense with tables with financial figures. This document is a great candidate to to investigate document parsing capabilities."
   ]
  },
  {
   "cell_type": "code",
   "execution_count": 8,
   "metadata": {},
   "outputs": [
    {
     "name": "stdout",
     "output_type": "stream",
     "text": [
      "mkdir: cannot create directory ‘./data’: File exists\n",
      "--2024-09-06 16:41:54--  https://abc.xyz/assets/ae/e9/753110054014b6de4d620a2853f6/goog-10-q-q2-2024.pdf\n",
      "Resolving abc.xyz (abc.xyz)... 74.125.142.100, 74.125.142.113, 74.125.142.138, ...\n",
      "Connecting to abc.xyz (abc.xyz)|74.125.142.100|:443... connected.\n",
      "HTTP request sent, awaiting response... 200 OK\n",
      "Length: 648418 (633K) [application/pdf]\n",
      "Saving to: ‘./data/goog-10-q-q2-2024.pdf.1’\n",
      "\n",
      "goog-10-q-q2-2024.p 100%[===================>] 633.22K  --.-KB/s    in 0.02s   \n",
      "\n",
      "2024-09-06 16:41:54 (30.3 MB/s) - ‘./data/goog-10-q-q2-2024.pdf.1’ saved [648418/648418]\n",
      "\n"
     ]
    }
   ],
   "source": [
    "!mkdir {DATA_FOLDER}\n",
    "!wget \"https://abc.xyz/assets/ae/e9/753110054014b6de4d620a2853f6/goog-10-q-q2-2024.pdf\" -P {DATA_FOLDER}"
   ]
  },
  {
   "cell_type": "markdown",
   "metadata": {},
   "source": [
    "##  Document Parsing with LlamaIndex\n",
    "\n",
    "This section will ingest and parse the 10Q using LlamaIndex tools, specifically focusing on SimpleDirectoryReader and LangChainNodeParser.\n",
    "\n",
    "### Option 1: SimpleDirectoryReader\n",
    "The SimpleDirectoryReader is the core data ingestion tool in LlamaIndex. It's designed to load data from a variety of sources and convert it into a format suitable for further processing and indexing by LlamaIndex."
   ]
  },
  {
   "cell_type": "code",
   "execution_count": 9,
   "metadata": {},
   "outputs": [
    {
     "name": "stderr",
     "output_type": "stream",
     "text": [
      "Loading files:   0%|          | 0/1 [00:00<?, ?file/s]"
     ]
    },
    {
     "name": "stderr",
     "output_type": "stream",
     "text": [
      "Loading files: 100%|██████████| 1/1 [00:05<00:00,  5.11s/file]"
     ]
    },
    {
     "name": "stdout",
     "output_type": "stream",
     "text": [
      "Doc ID: d569bf24-e740-4b11-abfc-32a380d709da\n",
      "Text: UNITED STATES SECURITIES AND EXCHANGE COMMISSION Washington,\n",
      "D.C. 20549 ___________________________________________________________\n",
      "_____________________________ FORM 10-Q   ____________________________\n",
      "____________________________________________________________ (Mark\n",
      "One) ☒ QUARTERLY REPORT PURSUANT TO SECTION 13 OR 15(d) OF THE\n",
      "SECURITIES EXCHA...\n"
     ]
    },
    {
     "name": "stderr",
     "output_type": "stream",
     "text": [
      "\n"
     ]
    }
   ],
   "source": [
    "reader = SimpleDirectoryReader(\"./data\")\n",
    "documents = reader.load_data(show_progress=True)\n",
    "print(documents[0])"
   ]
  },
  {
   "cell_type": "code",
   "execution_count": 10,
   "metadata": {},
   "outputs": [],
   "source": [
    "# Index the parsed document\n",
    "simpledirectory_index = VectorStoreIndex.from_documents(documents)\n",
    "\n",
    "# Generate a query engine based on the SimpleDataReader\n",
    "simple_query_engine = simpledirectory_index.as_query_engine(\n",
    "    similarity_top_k=2\n",
    ")"
   ]
  },
  {
   "cell_type": "markdown",
   "metadata": {},
   "source": [
    "### Option 2: LangChainNodeParser with LlamaIndex\n",
    "The LangChainNodeParser is a part of LlamaIndex. It is a specialized parser designed to extract structured information from text documents using the power of Langchain.\n",
    "\n",
    "Key Features:\n",
    "+ Langchain Integration: Leverages Langchain's powerful language models and tools to parse text.\n",
    "+ Node-Based Output: Converts unstructured text into a structured format based on a defined schema, represented as a hierarchy of nodes. This enables more sophisticated querying and analysis of the extracted information.\n",
    "+ Customization: Supports defining custom parsing schemas to match the structure of your specific documents.\n",
    "+ Flexibility: Can be used in combination with other LlamaIndex components, such as the SimpleDataReader, to process and index the extracted structured data."
   ]
  },
  {
   "cell_type": "code",
   "execution_count": 11,
   "metadata": {},
   "outputs": [],
   "source": [
    "parser = LangchainNodeParser(RecursiveCharacterTextSplitter())\n",
    "langchain_nodes = parser.get_nodes_from_documents(documents)"
   ]
  },
  {
   "cell_type": "code",
   "execution_count": 12,
   "metadata": {},
   "outputs": [
    {
     "data": {
      "text/plain": [
       "TextNode(id_='7eb25d0f-a527-47d8-9542-83111e6d7c43', embedding=None, metadata={'page_label': '1', 'file_name': 'goog-10-q-q2-2024.pdf', 'file_path': '/home/noabe/generative-ai/gemini/use-cases/document-processing/data/goog-10-q-q2-2024.pdf', 'file_type': 'application/pdf', 'file_size': 648418, 'creation_date': '2024-09-05', 'last_modified_date': '2024-07-24'}, excluded_embed_metadata_keys=['file_name', 'file_type', 'file_size', 'creation_date', 'last_modified_date', 'last_accessed_date'], excluded_llm_metadata_keys=['file_name', 'file_type', 'file_size', 'creation_date', 'last_modified_date', 'last_accessed_date'], relationships={<NodeRelationship.SOURCE: '1'>: RelatedNodeInfo(node_id='d569bf24-e740-4b11-abfc-32a380d709da', node_type=<ObjectType.DOCUMENT: '4'>, metadata={'page_label': '1', 'file_name': 'goog-10-q-q2-2024.pdf', 'file_path': '/home/noabe/generative-ai/gemini/use-cases/document-processing/data/goog-10-q-q2-2024.pdf', 'file_type': 'application/pdf', 'file_size': 648418, 'creation_date': '2024-09-05', 'last_modified_date': '2024-07-24'}, hash='f58ca9f9b184ffb5c8992ff42856f2f1c2fff450d8186389ba5537d38ed8b37e')}, text='UNITED STATES\\nSECURITIES AND EXCHANGE COMMISSION\\nWashington, D.C. 20549\\n________________________________________________________________________________________\\nFORM 10-Q  \\n________________________________________________________________________________________\\n(Mark One)\\n☒ QUARTERLY REPORT PURSUANT TO SECTION 13 OR 15(d) OF THE SECURITIES EXCHANGE ACT OF 1934\\nFor the quarterly period ended June 30, 2024\\nOR\\n☐ TRANSITION REPORT PURSUANT TO SECTION 13 OR 15(d) OF THE SECURITIES EXCHANGE ACT OF 1934\\nFor the transition period from _______ to _______\\nCommission file number: 001-37580  \\n________________________________________________________________________________________\\nAlphabet Inc.  \\n(Exact name of registrant as specified in its charter)\\n________________________________________________________________________________________\\nDelaware 61-1767919\\n(State or other jurisdiction of incorporation or organization) (I.R.S. Employer Identification Number)\\n1600 Amphitheatre Parkway\\nMountain View , CA 94043\\n(Address of principal executive offices, including zip code)\\n(650) 253-0000\\n(Registrant\\'s telephone number, including area code)\\nSecurities registered pursuant to Section 12(b) of the Act:\\nTitle of each class Trading Symbol(s) Name of each exchange on which registered\\nClass A Common Stock, $0.001 par value GOOGL Nasdaq Stock Market LLC\\n(Nasdaq Global Select Market)\\nClass C Capital Stock, $0.001 par value GOOG Nasdaq Stock Market LLC\\n(Nasdaq Global Select Market)\\n________________________________________________________________________________________\\nIndicate by check mark whether the registrant: (1) has filed all reports required to be filed by Section 13 or 15(d) of the Securities \\nExchange Act of 1934 during the preceding 12 months (or for such shorter period that the registrant was required to file such \\nreports), and (2) has been subject to such filing requirements for the past 90 days.    Yes  ☒    No  ☐\\nIndicate by check mark whether the registrant has submitted electronically every Interactive Data File required to be submitted \\npursuant to Rule 405 of Regulation S-T (§232.405 of this chapter) during the preceding 12 months (or for such shorter period \\nthat the registrant was required to submit such files).    Yes  ☒    No  ☐\\nIndicate by check mark whether the registrant is a large accelerated filer, an accelerated filer, a non-accelerated filer, a smaller \\nreporting company, or an emerging growth company. See the definitions of “large accelerated filer,” “accelerated filer,” “smaller \\nreporting company,” and \"emerging growth company\" in Rule 12b-2 of the Exchange Act.\\nLarge accelerated filer ☒  Accelerated filer ☐\\nNon-accelerated filer ☐ Smaller reporting company ☐\\nEmerging growth company ☐\\nIf an emerging growth company, indicate by check mark if the registrant has elected not to use the extended transition period for \\ncomplying with any new or revised financial accounting standards provided pursuant to Section 13(a) of the Exchange Act.    ☐\\nIndicate by check mark whether the registrant is a shell company (as defined in Rule 12b-2 of the Exchange Act).    Yes  ☐    No  \\n☒\\nAs of July 16, 2024 , there we re 5,859 million  shares of Alphabet’s Class A stock outstanding, 866 million  shares of Alphabet\\'s \\nClass B stock outstanding, and 5,585 million  shares of Alphabet\\'s Class C stock outstanding.', mimetype='text/plain', start_char_idx=0, end_char_idx=3354, text_template='{metadata_str}\\n\\n{content}', metadata_template='{key}: {value}', metadata_seperator='\\n')"
      ]
     },
     "execution_count": 12,
     "metadata": {},
     "output_type": "execute_result"
    }
   ],
   "source": [
    "# An example node that was generated using the LangChainNodeParser and the associated metadata\n",
    "langchain_nodes[0]"
   ]
  },
  {
   "cell_type": "code",
   "execution_count": 13,
   "metadata": {},
   "outputs": [],
   "source": [
    "#Index the document based on the LangChain nodes generated above\n",
    "langchainparser_index = VectorStoreIndex(nodes=langchain_nodes)\n",
    "\n",
    "#Create a query engine based off the the LangChainNodeParser\n",
    "lg_query_engine = langchainparser_index.as_query_engine(\n",
    "    similarity_top_k=2\n",
    ")"
   ]
  },
  {
   "cell_type": "markdown",
   "metadata": {},
   "source": [
    "## LlamaParse\n",
    "\n",
    "LLamaParse Parser is a powerful tool for extracting structured data from unstructured or semi-structured text, offering flexibility, customization, and seamless integration within the LlamaIndex framework.It can take an unstructured or semi-structured text document and, using a defined schema, extract structured information from it. This structured output is represented as a nested hierarchy of nodes, facilitating further processing and analysis.\n",
    "\n",
    "A few key features include:\n",
    "\n",
    "+ JSON Schema: Leverages the standardized JSON Schema format for more complex schemas.\n",
    "+ Prompt Templates: Allows you to craft custom prompts to guide the language model's parsing behavior, offering greater control and adaptability.\n",
    "+ LLM Selection: You have the flexibility to choose the specific LLM you want to use for parsing, enabling you to tailor the performance to your specific needs and budget.\n",
    "+ Node-Based Output:\n",
    "    + Structured Representation: The parsed output is organized into a hierarchy of nodes, each representing a piece of extracted information.\n",
    "    + Nested Structure: Nodes can contain other nodes, allowing for the representation of complex relationships and nested data structures within the document.\n",
    "    + Metadata: Nodes can also include additional metadata, such as confidence scores or source information, enriching the extracted data.\n",
    "+ Integration with LlamaIndex: The structured output from parser() seamlessly integrates with other LlamaIndex components, such as indexing and querying, facilitating efficient retrieval and analysis of the extracted information.\n",
    "\n",
    "#### Define a Parser\n",
    "\n",
    "Here we will define a LlamaParse() parser with specific parsing instructions, and ingest the data."
   ]
  },
  {
   "cell_type": "code",
   "execution_count": 14,
   "metadata": {},
   "outputs": [],
   "source": [
    "parser = LlamaParse(\n",
    "    parsing_instruction=\"You are a financial analyst working specifically with 10Q documents. Not all pages have titles. Try to reconstruct the dialogue spoken in a cohesive way.\",\n",
    "    api_key=\"\",\n",
    "    result_type=\"text\",  # \"markdown\" and \"text\" are available\n",
    "    language='en',\n",
    "    invalidate_cache=True\n",
    ")"
   ]
  },
  {
   "cell_type": "markdown",
   "metadata": {},
   "source": [
    "### Option 1 - LlamaParse with SimpleDirectoryReader\n",
    "\n",
    "This is the apples to apples comparison with LlamaIndex. We are using the SimpleDirectoryReader with the LlamaParse file extractor, and then loading the data directly from documents to a Vector Store for retrieval."
   ]
  },
  {
   "cell_type": "code",
   "execution_count": 15,
   "metadata": {},
   "outputs": [
    {
     "name": "stdout",
     "output_type": "stream",
     "text": [
      "Started parsing the file under job_id 589d1115-c0c5-42be-994f-ab2195c30414\n",
      "."
     ]
    }
   ],
   "source": [
    "import nest_asyncio; nest_asyncio.apply()\n",
    "file_extractor = {\".pdf\": parser}\n",
    "documents = SimpleDirectoryReader(input_files=[\"./data/goog-10-q-q2-2024.pdf\"], file_extractor=file_extractor).load_data()"
   ]
  },
  {
   "cell_type": "code",
   "execution_count": 16,
   "metadata": {},
   "outputs": [],
   "source": [
    "lp_simple = VectorStoreIndex.from_documents(documents)\n",
    "lp_simple_engine = lp_simple.as_query_engine(\n",
    "    similarity_top_k=2\n",
    ")"
   ]
  },
  {
   "cell_type": "markdown",
   "metadata": {},
   "source": [
    "### Option 2 - LlamaParse and Vertex AI Vector Search\n",
    "\n",
    "This approach is a more customized approach by defining the Vector Search mechanism through Vertex AI and extracting metadata that will be embedded and stored in the search index. \n",
    "\n",
    "Using metadata in Retrieval Augmented Generation (RAG) improves accuracy and context by focusing searches and providing additional information. This leads to efficient filtering, ranking, and personalized responses tailored to user needs and history. Metadata also facilitates handling complex multi-criteria queries, making RAG systems more versatile and effective.\n",
    "\n",
    "The following section will:\n",
    "+ Parse the documents using LlamaParse\n",
    "+ Extract metadata from documents returned from LlamaParse\n",
    "+ Create metadata embeddings attached to each document\n",
    "+ Create index in Vertex AI Vector Store\n",
    "+ Query against the Vector Store"
   ]
  },
  {
   "cell_type": "markdown",
   "metadata": {},
   "source": [
    "#### Parse data using LlamaParse"
   ]
  },
  {
   "cell_type": "code",
   "execution_count": 20,
   "metadata": {},
   "outputs": [
    {
     "name": "stdout",
     "output_type": "stream",
     "text": [
      "Started parsing the file under job_id e47cedeb-2356-467e-80a6-0ae96253a5c9\n",
      "."
     ]
    }
   ],
   "source": [
    "documents = parser.load_data(\"./data/goog-10-q-q2-2024.pdf\")"
   ]
  },
  {
   "cell_type": "markdown",
   "metadata": {},
   "source": [
    "#### Create Metadata from Nodes\n",
    "\n",
    "Using extractors we will generate meta-data for each node. The metadata is generated using Gemini-Pro and focuses on what questions can this text answer and what key words are meaningful in this section. Each metadata piece will be embedded with Gemini text-embedding model. \n",
    "\n",
    "Creating metadata can be useful for another lookup criteria during RAG based search."
   ]
  },
  {
   "cell_type": "code",
   "execution_count": 21,
   "metadata": {},
   "outputs": [],
   "source": [
    "extractors = [\n",
    "    QuestionsAnsweredExtractor(questions=3, llm=llm),\n",
    "    KeywordExtractor(keywords=10, llm=llm)]"
   ]
  },
  {
   "cell_type": "code",
   "execution_count": 22,
   "metadata": {},
   "outputs": [
    {
     "name": "stderr",
     "output_type": "stream",
     "text": [
      "  0%|          | 0/52 [00:00<?, ?it/s]"
     ]
    },
    {
     "name": "stderr",
     "output_type": "stream",
     "text": [
      "100%|██████████| 52/52 [00:59<00:00,  1.14s/it]\n",
      "100%|██████████| 52/52 [00:21<00:00,  2.47it/s]\n"
     ]
    }
   ],
   "source": [
    "#Run metadata transformation pipeline.\n",
    "pipeline = IngestionPipeline(\n",
    "    transformations=extractors,\n",
    ")\n",
    "nodes = await pipeline.arun(documents=documents, in_place=False)"
   ]
  },
  {
   "cell_type": "markdown",
   "metadata": {},
   "source": [
    "Example metadata that was generated:"
   ]
  },
  {
   "cell_type": "code",
   "execution_count": 23,
   "metadata": {},
   "outputs": [
    {
     "name": "stdout",
     "output_type": "stream",
     "text": [
      "{'questions_this_excerpt_can_answer': \"## 3 Questions this context can answer:\\n\\n1. **What was the total revenue of Alphabet Inc. for the six months ended June 30, 2024?** This information can be found in the Consolidated Statements of Income on page 6 of the 10-Q report.\\n2. **What were the major factors contributing to the change in Alphabet Inc.'s net income between the three months ended June 30, 2023 and 2024?** This information can be found in the Management's Discussion and Analysis (MD&A) section of the 10-Q report, specifically in the section discussing the company's financial performance.\\n3. **What are the key risks that Alphabet Inc. faces, as identified by the company itself?** This information can be found in the Risk Factors section of the 10-Q report, which outlines the potential challenges and uncertainties that could impact the company's future performance.\\n\\n## Higher-level summaries of surrounding context:\\n\\n* This document is the 10-Q report for Alphabet Inc. for the quarterly period ended June 30, 2024.\\n* The report provides detailed financial information about the company, including its balance sheets, income statements, and cash flow statements.\\n* The report also includes a Management's Discussion and Analysis (MD&A) section, which provides additional insights into the company's financial performance and outlook.\\n* The report is a valuable resource for investors and analysts who are interested in learning more about Alphabet Inc.'s financial health and future prospects.\\n\\n## Additional notes:\\n\\n* The questions generated are specific to the provided context and are unlikely to be found elsewhere.\\n* The questions are open-ended and allow for detailed and informative answers.\\n* The questions are relevant to the interests of investors and analysts who are interested in Alphabet Inc.'s financial performance.\", 'excerpt_keywords': \"## Keywords:\\n\\n1. Alphabet Inc.\\n2. 10-Q report\\n3. June 30, 2024\\n4. Financial statements\\n5. Management's Discussion and Analysis (MD&A)\\n6. Revenue\\n7. Net income\\n8. Risks\\n9. Investors\\n10. Analysts\"}\n"
     ]
    }
   ],
   "source": [
    "print(nodes[1].metadata)"
   ]
  },
  {
   "cell_type": "code",
   "execution_count": 24,
   "metadata": {},
   "outputs": [],
   "source": [
    "#Generate embeddings for each metadata node\n",
    "for node in nodes:\n",
    "    node_embedding = gemini_embedding_model.get_text_embedding(\n",
    "        node.get_content(metadata_mode=\"all\")\n",
    "    )\n",
    "    node.embedding = node_embedding"
   ]
  },
  {
   "cell_type": "markdown",
   "metadata": {},
   "source": [
    "#### Load Nodes into Predefined Vector Store\n",
    "\n",
    "This following section required a pre existing Vertex AI Vector Store. Vector stores contain embedding vectors of ingested document chunks.\n",
    "\n",
    "For information to create a vector store, refer to this link https://docs.llamaindex.ai/en/stable/examples/vector_stores/VertexAIVectorSearchDemo/"
   ]
  },
  {
   "cell_type": "code",
   "execution_count": 25,
   "metadata": {},
   "outputs": [
    {
     "name": "stdout",
     "output_type": "stream",
     "text": [
      "Upserting datapoints MatchingEngineIndex index: projects/726844691572/locations/us-central1/indexes/3234512520265859072\n",
      "MatchingEngineIndex index Upserted datapoints. Resource name: projects/726844691572/locations/us-central1/indexes/3234512520265859072\n"
     ]
    },
    {
     "data": {
      "text/plain": [
       "['802119f0-ad67-47b6-88ec-72a16070efd6',\n",
       " 'eed74f9c-a79c-4637-8551-fcca69a364b2',\n",
       " '99bf3120-060a-4315-824a-4243da5bccfc',\n",
       " '60e8fe11-8a4a-4a79-907e-0df349d2959b',\n",
       " 'd99ab15d-c86a-43f8-953d-7fe3274a0cb3',\n",
       " '04c61bcd-6b05-4697-abeb-9c5c0011f555',\n",
       " '4b1de6c6-3d52-4227-9c39-6b57df93d16a',\n",
       " '21d30c9e-507a-43af-b786-58acc7755fc6',\n",
       " 'c147838a-fa97-4b1c-8ea1-b94c305e05eb',\n",
       " '4b14653e-6430-4886-9c1b-091d2ad3ff2e',\n",
       " '674bcb86-9f7a-4f1d-8b30-8b4655b67ad8',\n",
       " '35ab5c0f-95fb-4717-9d77-2b227c5e1fd9',\n",
       " '234fc980-9ed1-436c-ac61-9bbed8007e16',\n",
       " 'a187bbd9-bf6f-47ce-b295-ebab99031eea',\n",
       " 'b8da92f6-4469-4059-a39a-107921a2e8dc',\n",
       " '4dd14e19-e2b5-4716-b9c2-413d24b743ee',\n",
       " 'a2af9cdb-ee05-465a-b9bc-019e4119b76c',\n",
       " '34e6bab7-7e5b-478c-a21c-239b07678cb1',\n",
       " 'ad207ca0-a4c3-4a7b-b9d0-1f39de1c9a55',\n",
       " '73f24325-2a41-4b5e-8c0e-fe49935566e6',\n",
       " 'f0d70ef4-cc18-45f0-8005-a89a7927d123',\n",
       " 'bb0ce131-d797-4e3c-8ea7-3112c3dd30bd',\n",
       " '2b8e7d27-c974-4d78-bd57-995a5aeba114',\n",
       " '7d508589-37e6-46a0-94a6-347ec131c00d',\n",
       " 'd150bdfe-09e4-46e5-87ca-efb2629e9a99',\n",
       " 'fc619e1c-d758-4f21-9fdd-408c9189808f',\n",
       " '5898bdad-b6f7-444d-a466-10321b958775',\n",
       " '1a4592ec-a936-4ce5-9d5f-22720e4550bc',\n",
       " 'bf4d89b7-49c8-4412-9f6f-33d8fb835f75',\n",
       " 'd90939ed-eebf-48b4-8a1a-2d86c1f3c295',\n",
       " 'a206518d-9a98-488f-b4db-c549ecbb31a2',\n",
       " 'd0a40128-1b87-4013-9fea-98e60064fba9',\n",
       " 'b3288298-36ef-4ffe-ad4a-4294ad66e780',\n",
       " '2c1c138a-73a7-4d8f-a6b1-5b017c28706c',\n",
       " '5acc6a23-e90a-4853-a095-5f645856ef09',\n",
       " '4c4b958c-563f-47d4-9a43-a644e96ff554',\n",
       " '68a4f90c-ae45-436e-b3ae-2b84e10551a6',\n",
       " 'd71d6297-731f-4dfc-8e28-102bf0e627e2',\n",
       " '67d98172-cb0e-404b-a2e6-0fb8d775d298',\n",
       " 'b4c1497e-df22-49c0-8a8f-c50bf926ac39',\n",
       " '0bfb0fc9-e56c-4e77-a044-b32ddaeaa68e',\n",
       " 'ee09696a-6a03-4a00-a701-166ab011a550',\n",
       " 'b7d4683f-1040-4ae7-9651-d7cce27e8b01',\n",
       " 'e6c89522-fec3-4442-85db-9a7678f9c7e8',\n",
       " 'fa4e87ac-4298-44f5-9b75-3a9ca414f4c9',\n",
       " '702f1bab-dc89-4254-90d6-cab944c698c4',\n",
       " '9a9f89f7-e38f-45d7-a89b-cf74b0d9be34',\n",
       " '79a9ae18-12f9-4f90-a953-c5a96074c256',\n",
       " '101189ea-dbb4-46ad-9ed1-c4bf490c29d5',\n",
       " '5634fc0f-4d4d-4376-a828-fce076403d82',\n",
       " '85c89925-2669-4441-816e-dd3ce788191a',\n",
       " '6c46eb2a-ab6d-4452-b65e-dc92f16f4a83']"
      ]
     },
     "execution_count": 25,
     "metadata": {},
     "output_type": "execute_result"
    }
   ],
   "source": [
    "vector_store = VertexAIVectorStore(\n",
    "        project_id=PROJECT_ID,\n",
    "        region=REGION,\n",
    "        index_id=\"3234512520265859072\",\n",
    "        endpoint_id=\"137232245285978112\",\n",
    "        gcs_bucket_name=GCS_BUCKET,\n",
    "    )\n",
    "\n",
    "# Only need to run once\n",
    "vector_store.add(nodes)"
   ]
  },
  {
   "cell_type": "markdown",
   "metadata": {},
   "source": [
    "#### Create a search index and search and query the Vector Store"
   ]
  },
  {
   "cell_type": "code",
   "execution_count": 26,
   "metadata": {},
   "outputs": [],
   "source": [
    "lp_index = VectorStoreIndex.from_vector_store(vector_store)\n",
    "lp_query_engine = lp_index.as_query_engine(\n",
    "    similarity_top_k=2\n",
    ")"
   ]
  },
  {
   "cell_type": "markdown",
   "metadata": {},
   "source": [
    "## Query Comparison between LlamaIndex and LlamaParse\n",
    "Below are queries that responses can be found in the 10Q document within complex tables. Let's see how each approach compares."
   ]
  },
  {
   "cell_type": "code",
   "execution_count": 27,
   "metadata": {},
   "outputs": [],
   "source": [
    "queries = [\n",
    "    \"What are the total cash, cash equivalents, and marketable securities as of Dec 23 2023\",\n",
    "    \"Total investments with fair value change reflected in other comprehensive income as of Dec 23 2023\",\n",
    "    \"What is the corporate debt securities unrealized loss as of Dec 31 2023 for 12 months or greater?\",\n",
    "    \"What is the coupon rate for total outstanding debt\",\n",
    "    \"Provide the table of share repurchases\"]"
   ]
  },
  {
   "cell_type": "code",
   "execution_count": 28,
   "metadata": {},
   "outputs": [],
   "source": [
    "from termcolor import colored\n",
    "\n",
    "def print_output(response: Response):\n",
    "    print(f\"Response:\")\n",
    "    print(\"-\" * 80)\n",
    "    print(colored(response.response, color=\"red\"))\n",
    "    print(\"-\" * 80)\n",
    "    print(f\"Source Documents:\")\n",
    "    print(\"-\" * 80)\n",
    "    for source in response.source_nodes:\n",
    "        print(f\"Sample Text: {source.text[:100]}\")\n",
    "        print(f\"Relevance score: {source.get_score():.3f}\")\n",
    "        print(f\"File Name: {source.metadata.get('file_name')}\")\n",
    "        print(f\"Page #: {source.metadata.get('page_label')}\")\n",
    "        print(f\"File Path: {source.metadata.get('file_path')}\")\n",
    "        print(\"-\" * 80)\n",
    "    \n",
    "def run_query(query_idx: int):\n",
    "    query = queries[query_idx]\n",
    "    print(\"Query: \" + query)\n",
    "    print(colored(\"LlamaIndex SimpleDirectoryReader response....\\n\", color=\"blue\"))\n",
    "    print_output(simple_query_engine.query(query))\n",
    "    \n",
    "    print(colored(\"LlamaIndex LangChainNodeParser on LlamaIndex response....\\n\", color=\"blue\"))\n",
    "    print_output(lg_query_engine.query(query))\n",
    "\n",
    "    print(colored(\"LlamaParse Simple response....\\n\", color=\"blue\"))\n",
    "    print_output(lp_simple_engine.query(query))\n",
    "\n",
    "    print(colored(\"LlamaParse on Vertex AI response....\\n\", color=\"blue\"))\n",
    "    print_output(lp_query_engine.query(query))\n",
    "    print(\"###################################################\\n\\n\")\n",
    "\n"
   ]
  },
  {
   "cell_type": "code",
   "execution_count": 29,
   "metadata": {},
   "outputs": [
    {
     "name": "stdout",
     "output_type": "stream",
     "text": [
      "Query: What are the total cash, cash equivalents, and marketable securities as of Dec 23 2023\n",
      "\u001b[34mLlamaIndex SimpleDirectoryReader response....\n",
      "\u001b[0m\n",
      "Response:\n",
      "--------------------------------------------------------------------------------\n",
      "\u001b[31mThe total cash, cash equivalents, and marketable securities as of December 31, 2023 is $110,916 million.\u001b[0m\n",
      "--------------------------------------------------------------------------------\n",
      "Source Documents:\n",
      "--------------------------------------------------------------------------------\n",
      "Sample Text: PART I. FINANCIAL INFORMATION\n",
      "ITEM 1. FINANCIAL STATEMENTS\n",
      "Alphabet Inc.\n",
      "CONSOLIDATED BALANCE SHEETS\n",
      "Relevance score: 0.623\n",
      "File Name: goog-10-q-q2-2024.pdf\n",
      "Page #: 5\n",
      "File Path: /home/noabe/generative-ai/gemini/use-cases/document-processing/data/goog-10-q-q2-2024.pdf\n",
      "--------------------------------------------------------------------------------\n",
      "Sample Text: or inputs that are based upon quoted prices for similar instruments in active markets. \n",
      "Debt securit\n",
      "Relevance score: 0.612\n",
      "File Name: goog-10-q-q2-2024.pdf\n",
      "Page #: 13\n",
      "File Path: /home/noabe/generative-ai/gemini/use-cases/document-processing/data/goog-10-q-q2-2024.pdf\n",
      "--------------------------------------------------------------------------------\n",
      "\u001b[34mLlamaIndex LangChainNodeParser on LlamaIndex response....\n",
      "\u001b[0m\n",
      "Response:\n",
      "--------------------------------------------------------------------------------\n",
      "\u001b[31mThe total cash, cash equivalents, and marketable securities as of December 31, 2023 is $110,916 million. \n",
      "\u001b[0m\n",
      "--------------------------------------------------------------------------------\n",
      "Source Documents:\n",
      "--------------------------------------------------------------------------------\n",
      "Sample Text: PART I. FINANCIAL INFORMATION\n",
      "ITEM 1. FINANCIAL STATEMENTS\n",
      "Alphabet Inc.\n",
      "CONSOLIDATED BALANCE SHEETS\n",
      "Relevance score: 0.623\n",
      "File Name: goog-10-q-q2-2024.pdf\n",
      "Page #: 5\n",
      "File Path: /home/noabe/generative-ai/gemini/use-cases/document-processing/data/goog-10-q-q2-2024.pdf\n",
      "--------------------------------------------------------------------------------\n",
      "Sample Text: or inputs that are based upon quoted prices for similar instruments in active markets. \n",
      "Debt securit\n",
      "Relevance score: 0.612\n",
      "File Name: goog-10-q-q2-2024.pdf\n",
      "Page #: 13\n",
      "File Path: /home/noabe/generative-ai/gemini/use-cases/document-processing/data/goog-10-q-q2-2024.pdf\n",
      "--------------------------------------------------------------------------------\n",
      "\u001b[34mLlamaParse Simple response....\n",
      "\u001b[0m\n",
      "Response:\n",
      "--------------------------------------------------------------------------------\n",
      "\u001b[31mThe total cash, cash equivalents, and marketable securities as of December 23, 2023, was $110,916 million. \n",
      "\u001b[0m\n",
      "--------------------------------------------------------------------------------\n",
      "Source Documents:\n",
      "--------------------------------------------------------------------------------\n",
      "Sample Text: Table of Contents                                                                                   \n",
      "Relevance score: 0.624\n",
      "File Name: goog-10-q-q2-2024.pdf\n",
      "Page #: None\n",
      "File Path: data/goog-10-q-q2-2024.pdf\n",
      "--------------------------------------------------------------------------------\n",
      "Sample Text: Table of Contents                                                                                   \n",
      "Relevance score: 0.621\n",
      "File Name: goog-10-q-q2-2024.pdf\n",
      "Page #: None\n",
      "File Path: data/goog-10-q-q2-2024.pdf\n",
      "--------------------------------------------------------------------------------\n",
      "\u001b[34mLlamaParse on Vertex AI response....\n",
      "\u001b[0m\n",
      "Response:\n",
      "--------------------------------------------------------------------------------\n",
      "\u001b[31mThe total cash, cash equivalents, and marketable securities as of December 31, 2023, was $110,916 million. This information can be found in the table provided in the context. \n",
      "\u001b[0m\n",
      "--------------------------------------------------------------------------------\n",
      "Source Documents:\n",
      "--------------------------------------------------------------------------------\n",
      "Sample Text:  Table of Contents                                                                                  \n",
      "Relevance score: 0.652\n",
      "File Name: None\n",
      "Page #: None\n",
      "File Path: None\n",
      "--------------------------------------------------------------------------------\n",
      "Sample Text:  Table of Contents                                                                                  \n",
      "Relevance score: 0.646\n",
      "File Name: None\n",
      "Page #: None\n",
      "File Path: None\n",
      "--------------------------------------------------------------------------------\n",
      "###################################################\n",
      "\n",
      "\n"
     ]
    }
   ],
   "source": [
    "run_query(query_idx=0)"
   ]
  },
  {
   "cell_type": "code",
   "execution_count": 33,
   "metadata": {},
   "outputs": [
    {
     "name": "stdout",
     "output_type": "stream",
     "text": [
      "Query: Total investments with fair value change reflected in other comprehensive income as of Dec 23 2023\n",
      "\u001b[34mLlamaIndex SimpleDirectoryReader response....\n",
      "\u001b[0m\n",
      "Response:\n",
      "--------------------------------------------------------------------------------\n",
      "\u001b[31mThe total investments with fair value change reflected in other comprehensive income as of December 31, 2023 is $78,917 million. \n",
      "\u001b[0m\n",
      "--------------------------------------------------------------------------------\n",
      "Source Documents:\n",
      "--------------------------------------------------------------------------------\n",
      "Sample Text: or inputs that are based upon quoted prices for similar instruments in active markets. \n",
      "Debt securit\n",
      "Relevance score: 0.693\n",
      "File Name: google_2024_q2.pdf\n",
      "Page #: 13\n",
      "File Path: /usr/local/google/home/noabe/projects/llama/llama_parse_rag/run_parse/data/google_2024_q2.pdf\n",
      "--------------------------------------------------------------------------------\n",
      "Sample Text: As of June 30, 2024\n",
      "Fair Value \n",
      "HierarchyAdjusted \n",
      "CostGross \n",
      "Unrealized \n",
      "GainsGross \n",
      "Unrealized \n",
      "Lo\n",
      "Relevance score: 0.676\n",
      "File Name: google_2024_q2.pdf\n",
      "Page #: 14\n",
      "File Path: /usr/local/google/home/noabe/projects/llama/llama_parse_rag/run_parse/data/google_2024_q2.pdf\n",
      "--------------------------------------------------------------------------------\n",
      "\u001b[34mLlamaIndex LangChainNodeParser on LlamaIndex response....\n",
      "\u001b[0m\n",
      "Response:\n",
      "--------------------------------------------------------------------------------\n",
      "\u001b[31mThe total investments with fair value change reflected in other comprehensive income as of December 31, 2023 is $78,917 million. \n",
      "\u001b[0m\n",
      "--------------------------------------------------------------------------------\n",
      "Source Documents:\n",
      "--------------------------------------------------------------------------------\n",
      "Sample Text: or inputs that are based upon quoted prices for similar instruments in active markets. \n",
      "Debt securit\n",
      "Relevance score: 0.693\n",
      "File Name: google_2024_q2.pdf\n",
      "Page #: 13\n",
      "File Path: /usr/local/google/home/noabe/projects/llama/llama_parse_rag/run_parse/data/google_2024_q2.pdf\n",
      "--------------------------------------------------------------------------------\n",
      "Sample Text: As of June 30, 2024\n",
      "Fair Value \n",
      "HierarchyAdjusted \n",
      "CostGross \n",
      "Unrealized \n",
      "GainsGross \n",
      "Unrealized \n",
      "Lo\n",
      "Relevance score: 0.676\n",
      "File Name: google_2024_q2.pdf\n",
      "Page #: 14\n",
      "File Path: /usr/local/google/home/noabe/projects/llama/llama_parse_rag/run_parse/data/google_2024_q2.pdf\n",
      "--------------------------------------------------------------------------------\n",
      "\u001b[34mLlamaParse Simple response....\n",
      "\u001b[0m\n",
      "Response:\n",
      "--------------------------------------------------------------------------------\n",
      "\u001b[31mThe total investments with fair value change reflected in other comprehensive income as of December 31, 2023 is $78,917 million. This information can be found in the table on page 13 of the provided document. \n",
      "\u001b[0m\n",
      "--------------------------------------------------------------------------------\n",
      "Source Documents:\n",
      "--------------------------------------------------------------------------------\n",
      "Sample Text: Table of Contents                                                                                   \n",
      "Relevance score: 0.682\n",
      "File Name: google_2024_q2.pdf\n",
      "Page #: None\n",
      "File Path: data/google_2024_q2.pdf\n",
      "--------------------------------------------------------------------------------\n",
      "Sample Text: Table of Contents                                                                                   \n",
      "Relevance score: 0.675\n",
      "File Name: google_2024_q2.pdf\n",
      "Page #: None\n",
      "File Path: data/google_2024_q2.pdf\n",
      "--------------------------------------------------------------------------------\n",
      "\u001b[34mLlamaParse on Vertex AI response....\n",
      "\u001b[0m\n",
      "Response:\n",
      "--------------------------------------------------------------------------------\n",
      "\u001b[31mThe total investments with fair value change reflected in other comprehensive income as of December 31, 2023 is $78,917 million. This information can be found in the table provided in the context. \n",
      "\u001b[0m\n",
      "--------------------------------------------------------------------------------\n",
      "Source Documents:\n",
      "--------------------------------------------------------------------------------\n",
      "Sample Text:  Table of Contents                                                                                  \n",
      "Relevance score: 0.716\n",
      "File Name: None\n",
      "Page #: None\n",
      "File Path: None\n",
      "--------------------------------------------------------------------------------\n",
      "Sample Text: Table of Contents                                                                                   \n",
      "Relevance score: 0.707\n",
      "File Name: None\n",
      "Page #: None\n",
      "File Path: None\n",
      "--------------------------------------------------------------------------------\n",
      "###################################################\n",
      "\n",
      "\n"
     ]
    }
   ],
   "source": [
    "run_query(query_idx=1)"
   ]
  },
  {
   "cell_type": "code",
   "execution_count": 34,
   "metadata": {},
   "outputs": [
    {
     "name": "stdout",
     "output_type": "stream",
     "text": [
      "Query: What is the corporate debt securities unrealized loss as of Dec 31 2023 for 12 months or greater?\n",
      "\u001b[34mLlamaIndex SimpleDirectoryReader response....\n",
      "\u001b[0m\n",
      "Response:\n",
      "--------------------------------------------------------------------------------\n",
      "\u001b[31mThe corporate debt securities unrealized loss as of Dec 31 2023 for 12 months or greater is $592 million. \n",
      "\u001b[0m\n",
      "--------------------------------------------------------------------------------\n",
      "Source Documents:\n",
      "--------------------------------------------------------------------------------\n",
      "Sample Text: Debt  Securiti es\n",
      "The following table summarizes the estimated fair value of investments in availabl\n",
      "Relevance score: 0.704\n",
      "File Name: google_2024_q2.pdf\n",
      "Page #: 15\n",
      "File Path: /usr/local/google/home/noabe/projects/llama/llama_parse_rag/run_parse/data/google_2024_q2.pdf\n",
      "--------------------------------------------------------------------------------\n",
      "Sample Text: Equity Investments\n",
      "The carrying value of equity securities is measured as the total initial cost plu\n",
      "Relevance score: 0.636\n",
      "File Name: google_2024_q2.pdf\n",
      "Page #: 16\n",
      "File Path: /usr/local/google/home/noabe/projects/llama/llama_parse_rag/run_parse/data/google_2024_q2.pdf\n",
      "--------------------------------------------------------------------------------\n",
      "\u001b[34mLlamaIndex LangChainNodeParser on LlamaIndex response....\n",
      "\u001b[0m\n",
      "Response:\n",
      "--------------------------------------------------------------------------------\n",
      "\u001b[31mThe unrealized loss for corporate debt securities as of December 31, 2023 for 12 months or greater is $592 million. \n",
      "\u001b[0m\n",
      "--------------------------------------------------------------------------------\n",
      "Source Documents:\n",
      "--------------------------------------------------------------------------------\n",
      "Sample Text: Debt  Securiti es\n",
      "The following table summarizes the estimated fair value of investments in availabl\n",
      "Relevance score: 0.704\n",
      "File Name: google_2024_q2.pdf\n",
      "Page #: 15\n",
      "File Path: /usr/local/google/home/noabe/projects/llama/llama_parse_rag/run_parse/data/google_2024_q2.pdf\n",
      "--------------------------------------------------------------------------------\n",
      "Sample Text: Equity Investments\n",
      "The carrying value of equity securities is measured as the total initial cost plu\n",
      "Relevance score: 0.636\n",
      "File Name: google_2024_q2.pdf\n",
      "Page #: 16\n",
      "File Path: /usr/local/google/home/noabe/projects/llama/llama_parse_rag/run_parse/data/google_2024_q2.pdf\n",
      "--------------------------------------------------------------------------------\n",
      "\u001b[34mLlamaParse Simple response....\n",
      "\u001b[0m\n",
      "Response:\n",
      "--------------------------------------------------------------------------------\n",
      "\u001b[31mThe unrealized loss for corporate debt securities as of December 31, 2023 for 12 months or greater is $592 million. \n",
      "\u001b[0m\n",
      "--------------------------------------------------------------------------------\n",
      "Source Documents:\n",
      "--------------------------------------------------------------------------------\n",
      "Sample Text: Table of Contents                                                                                   \n",
      "Relevance score: 0.702\n",
      "File Name: google_2024_q2.pdf\n",
      "Page #: None\n",
      "File Path: data/google_2024_q2.pdf\n",
      "--------------------------------------------------------------------------------\n",
      "Sample Text: Table of Contents                                                                                   \n",
      "Relevance score: 0.629\n",
      "File Name: google_2024_q2.pdf\n",
      "Page #: None\n",
      "File Path: data/google_2024_q2.pdf\n",
      "--------------------------------------------------------------------------------\n",
      "\u001b[34mLlamaParse on Vertex AI response....\n",
      "\u001b[0m\n",
      "Response:\n",
      "--------------------------------------------------------------------------------\n",
      "\u001b[31mThe unrealized loss for corporate debt securities as of December 31, 2023, for 12 months or greater is $592 million. This information can be found in the table titled \"Fair Values and Gross Unrealized Losses Recorded to AOCI, Aggregated by Investment Category and the Length of Time that Individual Securities Have Been in a Continuous Loss Position (in millions)\" under the \"As of December 31, 2023\" section. \n",
      "\u001b[0m\n",
      "--------------------------------------------------------------------------------\n",
      "Source Documents:\n",
      "--------------------------------------------------------------------------------\n",
      "Sample Text: Table of Contents                                                                                   \n",
      "Relevance score: 0.694\n",
      "File Name: None\n",
      "Page #: None\n",
      "File Path: None\n",
      "--------------------------------------------------------------------------------\n",
      "Sample Text:  Table of Contents                                                                                  \n",
      "Relevance score: 0.691\n",
      "File Name: None\n",
      "Page #: None\n",
      "File Path: None\n",
      "--------------------------------------------------------------------------------\n",
      "###################################################\n",
      "\n",
      "\n"
     ]
    }
   ],
   "source": [
    "run_query(query_idx=2)"
   ]
  },
  {
   "cell_type": "code",
   "execution_count": 35,
   "metadata": {},
   "outputs": [
    {
     "name": "stdout",
     "output_type": "stream",
     "text": [
      "Query: What is the coupon rate for total outstanding debt\n",
      "\u001b[34mLlamaIndex SimpleDirectoryReader response....\n",
      "\u001b[0m\n",
      "Response:\n",
      "--------------------------------------------------------------------------------\n",
      "\u001b[31mThe coupon rate for total outstanding debt is 0.45% to 2.25% as of December 31, 2023 and 0.57% to 2.33% as of June 30, 2024.\u001b[0m\n",
      "--------------------------------------------------------------------------------\n",
      "Source Documents:\n",
      "--------------------------------------------------------------------------------\n",
      "Sample Text: Long-Term Debt\n",
      " Total outstanding debt is summarized below (in millions, except percentages):\n",
      "Maturi\n",
      "Relevance score: 0.631\n",
      "File Name: google_2024_q2.pdf\n",
      "Page #: 22\n",
      "File Path: /usr/local/google/home/noabe/projects/llama/llama_parse_rag/run_parse/data/google_2024_q2.pdf\n",
      "--------------------------------------------------------------------------------\n",
      "Sample Text: Debt  Securiti es\n",
      "The following table summarizes the estimated fair value of investments in availabl\n",
      "Relevance score: 0.545\n",
      "File Name: google_2024_q2.pdf\n",
      "Page #: 15\n",
      "File Path: /usr/local/google/home/noabe/projects/llama/llama_parse_rag/run_parse/data/google_2024_q2.pdf\n",
      "--------------------------------------------------------------------------------\n",
      "\u001b[34mLlamaIndex LangChainNodeParser on LlamaIndex response....\n",
      "\u001b[0m\n",
      "Response:\n",
      "--------------------------------------------------------------------------------\n",
      "\u001b[31mThe coupon rate for total outstanding debt is 0.45% to 2.25%.\u001b[0m\n",
      "--------------------------------------------------------------------------------\n",
      "Source Documents:\n",
      "--------------------------------------------------------------------------------\n",
      "Sample Text: Long-Term Debt\n",
      " Total outstanding debt is summarized below (in millions, except percentages):\n",
      "Maturi\n",
      "Relevance score: 0.631\n",
      "File Name: google_2024_q2.pdf\n",
      "Page #: 22\n",
      "File Path: /usr/local/google/home/noabe/projects/llama/llama_parse_rag/run_parse/data/google_2024_q2.pdf\n",
      "--------------------------------------------------------------------------------\n",
      "Sample Text: Debt  Securiti es\n",
      "The following table summarizes the estimated fair value of investments in availabl\n",
      "Relevance score: 0.545\n",
      "File Name: google_2024_q2.pdf\n",
      "Page #: 15\n",
      "File Path: /usr/local/google/home/noabe/projects/llama/llama_parse_rag/run_parse/data/google_2024_q2.pdf\n",
      "--------------------------------------------------------------------------------\n",
      "\u001b[34mLlamaParse Simple response....\n",
      "\u001b[0m\n",
      "Response:\n",
      "--------------------------------------------------------------------------------\n",
      "\u001b[31mThe coupon rate for total outstanding debt is 0.45% to 2.25%.\u001b[0m\n",
      "--------------------------------------------------------------------------------\n",
      "Source Documents:\n",
      "--------------------------------------------------------------------------------\n",
      "Sample Text: Long-Term Debt\n",
      "       Total outstanding debt is summarized below (in millions, except percentages):\n",
      "\n",
      "Relevance score: 0.633\n",
      "File Name: google_2024_q2.pdf\n",
      "Page #: None\n",
      "File Path: data/google_2024_q2.pdf\n",
      "--------------------------------------------------------------------------------\n",
      "Sample Text: Table of Contents                                                                                   \n",
      "Relevance score: 0.544\n",
      "File Name: google_2024_q2.pdf\n",
      "Page #: None\n",
      "File Path: data/google_2024_q2.pdf\n",
      "--------------------------------------------------------------------------------\n",
      "\u001b[34mLlamaParse on Vertex AI response....\n",
      "\u001b[0m\n",
      "Response:\n",
      "--------------------------------------------------------------------------------\n",
      "\u001b[31mThe coupon rate for total outstanding debt is not explicitly stated in the provided context. However, the table shows the coupon rate for each individual debt issuance, ranging from 0.45% to 2.25%. \n",
      "\n",
      "To determine the overall coupon rate for total outstanding debt, you would need to calculate a weighted average based on the amount of each debt issuance. \n",
      "\u001b[0m\n",
      "--------------------------------------------------------------------------------\n",
      "Source Documents:\n",
      "--------------------------------------------------------------------------------\n",
      "Sample Text: Long-Term Debt\n",
      "       Total outstanding debt is summarized below (in millions, except percentages):\n",
      "\n",
      "Relevance score: 0.645\n",
      "File Name: None\n",
      "Page #: None\n",
      "File Path: None\n",
      "--------------------------------------------------------------------------------\n",
      "Sample Text: Long-Term Debt\n",
      "       Total outstanding debt is summarized below (in millions, except percentages):\n",
      "\n",
      "Relevance score: 0.635\n",
      "File Name: None\n",
      "Page #: None\n",
      "File Path: None\n",
      "--------------------------------------------------------------------------------\n",
      "###################################################\n",
      "\n",
      "\n"
     ]
    }
   ],
   "source": [
    "run_query(query_idx=3)"
   ]
  },
  {
   "cell_type": "code",
   "execution_count": 36,
   "metadata": {},
   "outputs": [
    {
     "name": "stdout",
     "output_type": "stream",
     "text": [
      "Query: Provide the table of share repurchases\n",
      "\u001b[34mLlamaIndex SimpleDirectoryReader response....\n",
      "\u001b[0m\n",
      "Response:\n",
      "--------------------------------------------------------------------------------\n",
      "\u001b[31m## Share Repurchases\n",
      "\n",
      "| Three Months Ended June 30, 2024 | Six Months Ended June 30, 2024 |\n",
      "|---|---|\n",
      "| **Shares** | **Amount** | **Shares** | **Amount** |\n",
      "| Class A share repurchases | 19 million | 43 million | $6,615 million |\n",
      "| Class C share repurchases | 73 million | 160 million | $25,040 million |\n",
      "| **Total share repurchases** | **92 million** | **203 million** | **$31,655 million** |\n",
      "\n",
      "**Notes:**\n",
      "\n",
      "* Shares repurchased include unsettled repurchases as of June 30, 2024.\n",
      "* For additional information, see Note 9 of the Notes to Consolidated Financial Statements included in Item 1 of this Quarterly Report on Form 10-Q.\n",
      "\u001b[0m\n",
      "--------------------------------------------------------------------------------\n",
      "Source Documents:\n",
      "--------------------------------------------------------------------------------\n",
      "Sample Text: The repurchase program does not have an expiration date. For additional information related to share\n",
      "Relevance score: 0.673\n",
      "File Name: google_2024_q2.pdf\n",
      "Page #: 49\n",
      "File Path: /usr/local/google/home/noabe/projects/llama/llama_parse_rag/run_parse/data/google_2024_q2.pdf\n",
      "--------------------------------------------------------------------------------\n",
      "Sample Text: During the three and six months ended June 30, 2024 , we repurchased and subsequently retired 92 mil\n",
      "Relevance score: 0.662\n",
      "File Name: google_2024_q2.pdf\n",
      "Page #: 46\n",
      "File Path: /usr/local/google/home/noabe/projects/llama/llama_parse_rag/run_parse/data/google_2024_q2.pdf\n",
      "--------------------------------------------------------------------------------\n",
      "\u001b[34mLlamaIndex LangChainNodeParser on LlamaIndex response....\n",
      "\u001b[0m\n",
      "Response:\n",
      "--------------------------------------------------------------------------------\n",
      "\u001b[31m## Share Repurchases\n",
      "\n",
      "| Three Months Ended June 30, 2024 | Six Months Ended June 30, 2024 |\n",
      "|---|---|\n",
      "| **Shares** | **Amount** | **Shares** | **Amount** |\n",
      "| Class A share repurchases | 19 | $3,265 | 43 | $6,615 |\n",
      "| Class C share repurchases | 73 | $12,333 | 160 | $25,040 |\n",
      "| **Total share repurchases** | 92 | $15,598 | 203 | $31,655 | \n",
      "\u001b[0m\n",
      "--------------------------------------------------------------------------------\n",
      "Source Documents:\n",
      "--------------------------------------------------------------------------------\n",
      "Sample Text: Total  19,330  72,477  91,807 \n",
      "(1)Repurchases are being executed from time to time, subject to gener\n",
      "Relevance score: 0.696\n",
      "File Name: google_2024_q2.pdf\n",
      "Page #: 49\n",
      "File Path: /usr/local/google/home/noabe/projects/llama/llama_parse_rag/run_parse/data/google_2024_q2.pdf\n",
      "--------------------------------------------------------------------------------\n",
      "Sample Text: Class C shares. During the three and six months ended June 30, 2024 , we repurchased $15.6 billion  \n",
      "Relevance score: 0.691\n",
      "File Name: google_2024_q2.pdf\n",
      "Page #: 27\n",
      "File Path: /usr/local/google/home/noabe/projects/llama/llama_parse_rag/run_parse/data/google_2024_q2.pdf\n",
      "--------------------------------------------------------------------------------\n",
      "\u001b[34mLlamaParse Simple response....\n",
      "\u001b[0m\n",
      "Response:\n",
      "--------------------------------------------------------------------------------\n",
      "\u001b[31m## Share Repurchases\n",
      "\n",
      "| Three Months Ended June 30, 2024 | Six Months Ended June 30, 2024 |\n",
      "|---|---|\n",
      "| Shares | Amount | Shares | Amount |\n",
      "| Class A share repurchases | 19 | $3,265 | 43 | $6,615 |\n",
      "| Class C share repurchases | 73 | $12,333 | 160 | $25,040 |\n",
      "| Total share repurchases | 92 | $15,598 | 203 | $31,655 |\n",
      "\n",
      "**Notes:**\n",
      "\n",
      "* Shares repurchased include unsettled repurchases as of June 30, 2024.\n",
      "* For additional information, see Note 9 of the Notes to Consolidated Financial Statements included in Item 1 of this Quarterly Report on Form 10-Q.\n",
      "\u001b[0m\n",
      "--------------------------------------------------------------------------------\n",
      "Source Documents:\n",
      "--------------------------------------------------------------------------------\n",
      "Sample Text: The repurchase program does not have an expiration date. For additional information related to share\n",
      "Relevance score: 0.676\n",
      "File Name: google_2024_q2.pdf\n",
      "Page #: None\n",
      "File Path: data/google_2024_q2.pdf\n",
      "--------------------------------------------------------------------------------\n",
      "Sample Text: During the three and six months ended June 30, 2024, we repurchased and subsequently retired 92 mill\n",
      "Relevance score: 0.660\n",
      "File Name: google_2024_q2.pdf\n",
      "Page #: None\n",
      "File Path: data/google_2024_q2.pdf\n",
      "--------------------------------------------------------------------------------\n",
      "\u001b[34mLlamaParse on Vertex AI response....\n",
      "\u001b[0m\n",
      "Response:\n",
      "--------------------------------------------------------------------------------\n",
      "\u001b[31m## Share Repurchases\n",
      "\n",
      "| Class of Shares | Three Months Ended June 30, 2024 | Six Months Ended June 30, 2024 |\n",
      "|---|---|---|\n",
      "| Class A | 19 million shares for $3,265 million | 43 million shares for $6,615 million |\n",
      "| Class C | 73 million shares for $12,333 million | 160 million shares for $25,040 million |\n",
      "| **Total** | **92 million shares for $15,598 million** | **203 million shares for $31,655 million** |\n",
      "\n",
      "**Note:** Shares repurchased include unsettled repurchases as of June 30, 2024.\n",
      "\u001b[0m\n",
      "--------------------------------------------------------------------------------\n",
      "Source Documents:\n",
      "--------------------------------------------------------------------------------\n",
      "Sample Text: The repurchase program does not have an expiration date. For additional information related to share\n",
      "Relevance score: 0.678\n",
      "File Name: None\n",
      "Page #: None\n",
      "File Path: None\n",
      "--------------------------------------------------------------------------------\n",
      "Sample Text: During the three and six months ended June 30, 2024, we repurchased and subsequently retired 92 mill\n",
      "Relevance score: 0.652\n",
      "File Name: None\n",
      "Page #: None\n",
      "File Path: None\n",
      "--------------------------------------------------------------------------------\n",
      "###################################################\n",
      "\n",
      "\n"
     ]
    }
   ],
   "source": [
    "run_query(query_idx=4)"
   ]
  },
  {
   "cell_type": "markdown",
   "metadata": {},
   "source": [
    "## Observations\n",
    "\n",
    "### Answer Key\n",
    "| Query                                                                                                | Answer           | Citation page |\n",
    "|------------------------------------------------------------------------------------------------------|------------------|---------------|\n",
    "| \"What are the total cash, cash equivalents, and marketable securities as of Dec 23 2023\"             | $110,916 million | 5             |\n",
    "| \"Total investments with fair value change reflected in other comprehensive income as of Dec 23 2023\" | $78,917 million  | 13            |\n",
    "| \"What is the corporate debt securities unrealized loss as of Dec 31 2023 for 12 months or greater?   | 592 million      | 15            |\n",
    "| \"What is the coupon rate for total outstanding debt\"                                                 | 0.45-2.25%       | 22            |\n",
    "| \"Provide the table of share repurchases\"                                                             | Table            | 27 or 49      |\n",
    "\n",
    "### Generated Answers\n",
    "| Document Parsing Technique               | Query 1 | Query 2 | Query 3 | Query 4 | Query 5 |\n",
    "|------------------------------------------|---------|---------|---------|---------|---------|\n",
    "| LlamaIndex - SimpleDirectoryReader       | (✓)     | (✓)     | (✓)     | (✓)     | (✓)     |\n",
    "| LlamaIndex - LangChainNodeParser         | (✓)     | (✓)     | (✓)     | (✓)     | (✓)     |\n",
    "| LlamaParse - SimpleDirectoryReader       |  (✓)    |  (✓)    |      (✓)|    (✓)  |     (✓) |\n",
    "| LlamaParse - Vertex AI Vector Search       |  (✓)    |  (✓)    |      (✓)|    (✓)  |     (✓) |\n",
    "\n",
    "## Conclusion\n",
    "\n",
    "There are many ways to customize your data ingestion and retrieval pipelines for custom RAG applications. This notebook was an overview to a handful of options that work in combination with Google's Gemini models. "
   ]
  }
 ],
 "metadata": {
  "kernelspec": {
   "display_name": ".venv",
   "language": "python",
   "name": "python3"
  },
  "language_info": {
   "codemirror_mode": {
    "name": "ipython",
    "version": 3
   },
   "file_extension": ".py",
   "mimetype": "text/x-python",
   "name": "python",
   "nbconvert_exporter": "python",
   "pygments_lexer": "ipython3",
   "version": "3.10.12"
  }
 },
 "nbformat": 4,
 "nbformat_minor": 2
}
