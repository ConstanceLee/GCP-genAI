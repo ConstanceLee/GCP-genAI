{
  "cells": [
    {
      "cell_type": "code",
      "execution_count": null,
      "metadata": {
        "id": "ur8xi4C7S06n"
      },
      "outputs": [],
      "source": [
        "# Copyright 2024 Google LLC\n",
        "#\n",
        "# Licensed under the Apache License, Version 2.0 (the \"License\");\n",
        "# you may not use this file except in compliance with the License.\n",
        "# You may obtain a copy of the License at\n",
        "#\n",
        "#     https://www.apache.org/licenses/LICENSE-2.0\n",
        "#\n",
        "# Unless required by applicable law or agreed to in writing, software\n",
        "# distributed under the License is distributed on an \"AS IS\" BASIS,\n",
        "# WITHOUT WARRANTIES OR CONDITIONS OF ANY KIND, either express or implied.\n",
        "# See the License for the specific language governing permissions and\n",
        "# limitations under the License."
      ]
    },
    {
      "cell_type": "markdown",
      "metadata": {
        "id": "JAPoU8Sm5E6e"
      },
      "source": [
        "# Rapid Eval SDK GA - Define Your Own Metrics\n",
        "\n",
        "{TODO: Update the links below. Use the next code cell to generate the HTML, then delete the code cell.}\n",
        "\n",
        "<table align=\"left\">\n",
        "  <td style=\"text-align: center\">\n",
        "    <a href=\"https://colab.research.google.com/github/GoogleCloudPlatform/generative-ai/blob/main/notebook_template.ipynb\">\n",
        "      <img width=\"32px\" src=\"https://www.gstatic.com/pantheon/images/bigquery/welcome_page/colab-logo.svg\" alt=\"Google Colaboratory logo\"><br> Open in Colab\n",
        "    </a>\n",
        "  </td>\n",
        "  <td style=\"text-align: center\">\n",
        "    <a href=\"https://console.cloud.google.com/vertex-ai/colab/import/https:%2F%2Fraw.githubusercontent.com%2FGoogleCloudPlatform%2Fgenerative-ai%2Fmain%2Fnotebook_template.ipynb\">\n",
        "      <img width=\"32px\" src=\"https://lh3.googleusercontent.com/JmcxdQi-qOpctIvWKgPtrzZdJJK-J3sWE1RsfjZNwshCFgE_9fULcNpuXYTilIR2hjwN\" alt=\"Google Cloud Colab Enterprise logo\"><br> Open in Colab Enterprise\n",
        "    </a>\n",
        "  </td>\n",
        "  <td style=\"text-align: center\">\n",
        "    <a href=\"https://console.cloud.google.com/vertex-ai/workbench/deploy-notebook?download_url=https://raw.githubusercontent.com/GoogleCloudPlatform/generative-ai/main/notebook_template.ipynb\">\n",
        "      <img src=\"https://www.gstatic.com/images/branding/gcpiconscolors/vertexai/v1/32px.svg\" alt=\"Vertex AI logo\"><br> Open in Vertex AI Workbench\n",
        "    </a>\n",
        "  </td>\n",
        "  <td style=\"text-align: center\">\n",
        "    <a href=\"https://github.com/GoogleCloudPlatform/generative-ai/blob/main/notebook_template.ipynb\">\n",
        "      <img width=\"32px\" src=\"https://upload.wikimedia.org/wikipedia/commons/9/91/Octicons-mark-github.svg\" alt=\"GitHub logo\"><br> View on GitHub\n",
        "    </a>\n",
        "  </td>\n",
        "</table>"
      ]
    },
    {
      "cell_type": "markdown",
      "metadata": {
        "id": "84f0f73a0f76"
      },
      "source": [
        "| | |\n",
        "|-|-|\n",
        "| Author(s) [Jason Dai](https://github.com/jsondai) [Bo Zheng](https://github.com/coolalexzb) [Naveksha Sood](https://github.com/navekshasood) |"
      ]
    },
    {
      "cell_type": "markdown",
      "metadata": {
        "id": "tvgnzT1CKxrO"
      },
      "source": [
        "## Overview\n",
        "\n",
        "Use Rapid Evaluation SDK to evaluate multiple prompt templates with your custom defined metrics."
      ]
    },
    {
      "cell_type": "markdown",
      "metadata": {
        "id": "61RBz8LLbxCR"
      },
      "source": [
        "## Get started"
      ]
    },
    {
      "cell_type": "markdown",
      "metadata": {
        "id": "No17Cw5hgx12"
      },
      "source": [
        "### Install Vertex AI SDK and other required packages\n"
      ]
    },
    {
      "cell_type": "code",
      "execution_count": null,
      "metadata": {
        "id": "tFy3H3aPgx12"
      },
      "outputs": [],
      "source": [
        "!pip3 install --upgrade --user --quiet google-cloud-aiplatform[evaluation]"
      ]
    },
    {
      "cell_type": "markdown",
      "metadata": {
        "id": "R5Xep4W9lq-Z"
      },
      "source": [
        "### Restart runtime\n",
        "\n",
        "To use the newly installed packages in this Jupyter runtime, you must restart the runtime. You can do this by running the cell below, which restarts the current kernel.\n",
        "\n",
        "The restart might take a minute or longer. After it's restarted, continue to the next step."
      ]
    },
    {
      "cell_type": "code",
      "execution_count": null,
      "metadata": {
        "id": "XRvKdaPDTznN"
      },
      "outputs": [],
      "source": [
        "import IPython\n",
        "\n",
        "app = IPython.Application.instance()\n",
        "app.kernel.do_shutdown(True)"
      ]
    },
    {
      "cell_type": "markdown",
      "metadata": {
        "id": "SbmM4z7FOBpM"
      },
      "source": [
        "<div class=\"alert alert-block alert-warning\">\n",
        "<b>⚠️ The kernel is going to restart. Wait until it's finished before continuing to the next step. ⚠️</b>\n",
        "</div>\n"
      ]
    },
    {
      "cell_type": "markdown",
      "metadata": {
        "id": "dmWOrTJ3gx13"
      },
      "source": [
        "### Authenticate your notebook environment (Colab only)\n",
        "\n",
        "If you're running this notebook on Google Colab, run the cell below to authenticate your environment."
      ]
    },
    {
      "cell_type": "code",
      "execution_count": null,
      "metadata": {
        "id": "NyKGtVQjgx13"
      },
      "outputs": [],
      "source": [
        "import sys\n",
        "\n",
        "if \"google.colab\" in sys.modules:\n",
        "    from google.colab import auth\n",
        "\n",
        "    auth.authenticate_user()"
      ]
    },
    {
      "cell_type": "markdown",
      "metadata": {
        "id": "DF4l8DTdWgPY"
      },
      "source": [
        "### Set Google Cloud project information and initialize Vertex AI SDK\n",
        "\n",
        "To get started using Vertex AI, you must have an existing Google Cloud project and [enable the Vertex AI API](https://console.cloud.google.com/flows/enableapi?apiid=aiplatform.googleapis.com).\n",
        "\n",
        "Learn more about [setting up a project and a development environment](https://cloud.google.com/vertex-ai/docs/start/cloud-environment)."
      ]
    },
    {
      "cell_type": "code",
      "execution_count": null,
      "metadata": {
        "id": "Nqwi-5ufWp_B"
      },
      "outputs": [],
      "source": [
        "# Use the environment variable if the user doesn't provide Project ID.\n",
        "import os\n",
        "\n",
        "import vertexai\n",
        "\n",
        "PROJECT_ID = \"cloud-llm-preview1\"  # @param {type:\"string\", isTemplate: true}\n",
        "if PROJECT_ID == \"[your-project-id]\":\n",
        "    PROJECT_ID = str(os.environ.get(\"GOOGLE_CLOUD_PROJECT\"))\n",
        "\n",
        "LOCATION = os.environ.get(\"GOOGLE_CLOUD_REGION\", \"us-central1\")\n",
        "\n",
        "vertexai.init(project=PROJECT_ID, location=LOCATION)"
      ]
    },
    {
      "cell_type": "markdown",
      "metadata": {
        "id": "5303c05f7aa6"
      },
      "source": [
        "### Import libraries"
      ]
    },
    {
      "cell_type": "code",
      "execution_count": null,
      "metadata": {
        "id": "6fc324893334"
      },
      "outputs": [],
      "source": [
        "# General\n",
        "import inspect\n",
        "from uuid import uuid4\n",
        "from google.colab import auth\n",
        "from IPython.display import display, Markdown, HTML\n",
        "import json\n",
        "import plotly.graph_objects as go\n",
        "import matplotlib.pyplot as plt\n",
        "import logging\n",
        "import random\n",
        "import string\n",
        "import warnings\n",
        "\n",
        "# Main\n",
        "import pandas as pd\n",
        "from google.cloud import aiplatform\n",
        "from vertexai.generative_models import GenerativeModel, HarmCategory, HarmBlockThreshold\n",
        "\n",
        "from vertexai.evaluation import (\n",
        "    EvalTask,\n",
        "    CustomMetric,\n",
        "    PointwiseMetric,\n",
        "    PairwiseMetric,\n",
        "    PointwiseMetricPromptTemplate,\n",
        "    PairwiseMetricPromptTemplate,\n",
        "    MetricPromptTemplateExamples,\n",
        ")"
      ]
    },
    {
      "cell_type": "code",
      "source": [
        "logging.getLogger(\"urllib3.connectionpool\").setLevel(logging.ERROR)\n",
        "warnings.filterwarnings(\"ignore\")"
      ],
      "metadata": {
        "id": "KqA_Q8LcD4Ws"
      },
      "execution_count": null,
      "outputs": []
    },
    {
      "cell_type": "markdown",
      "metadata": {
        "id": "e43229f3ad4f"
      },
      "source": [
        "### Helper Functions"
      ]
    },
    {
      "cell_type": "code",
      "execution_count": null,
      "metadata": {
        "id": "cf93d5f0ce00"
      },
      "outputs": [],
      "source": [
        "def print_doc(function):\n",
        "    \"\"\"Print the docstring of a function.\"\"\"\n",
        "    print(f\"{function.__name__}:\\n{inspect.getdoc(function)}\\n\")\n",
        "\n",
        "def display_explanations(eval_result, metrics=None, n=1):\n",
        "    \"\"\"Display the explanations.\"\"\"\n",
        "    style = \"white-space: pre-wrap; width: 1500px; overflow-x: auto;\"\n",
        "    metrics_table = eval_result.metrics_table\n",
        "    df = metrics_table.sample(n=n)\n",
        "\n",
        "    if metrics:\n",
        "          df = df.filter(\n",
        "              ['response', 'baseline_model_response'] +\n",
        "              [metric for metric in df.columns if any(selected_metric in metric for selected_metric in metrics)]\n",
        "          )\n",
        "    for index, row in df.iterrows():\n",
        "      for col in df.columns:\n",
        "        display(\n",
        "            HTML(\n",
        "                f\"<div style='{style}'><h4>{col}:</h4>{row[col]}</div>\"\n",
        "            )\n",
        "        )\n",
        "      display(HTML(\"<hr>\"))\n",
        "\n",
        "def display_eval_result(eval_result, title=None, metrics = None):\n",
        "    \"\"\"Display the evaluation results.\"\"\"\n",
        "    summary_metrics, metrics_table = eval_result.summary_metrics, eval_result.metrics_table\n",
        "\n",
        "    metrics_df = pd.DataFrame.from_dict(summary_metrics, orient='index').T\n",
        "    if metrics:\n",
        "      metrics_df = metrics_df.filter([metric for metric in metrics_df.columns if any(selected_metric in metric for selected_metric in metrics)])\n",
        "      metrics_table = metrics_table.filter([metric for metric in metrics_table.columns if any(selected_metric in metric for selected_metric in metrics)])\n",
        "\n",
        "    if title:\n",
        "      # Display the title with Markdown for emphasis\n",
        "      display(Markdown(f\"## {title}\"))\n",
        "    # Display the summary metrics DataFrame\n",
        "    display(Markdown(\"### Summary Metrics\"))\n",
        "    display(metrics_df)\n",
        "    # Display the metrics table DataFrame\n",
        "    display(Markdown(f\"### Row-based Metrics\"))\n",
        "    display(metrics_table)\n",
        "\n",
        "def display_radar_plot(eval_results, metrics = None):\n",
        "  \"\"\"Plot the radar plot.\"\"\"\n",
        "  fig = go.Figure()\n",
        "  for item in eval_results:\n",
        "    eval_result, title = item\n",
        "    summary_metrics = eval_result.summary_metrics\n",
        "    if metrics:\n",
        "      summary_metrics = {k.replace('/mean',''): summary_metrics[k] for k, v in summary_metrics.items() if any(selected_metric+'/mean' in k for selected_metric in metrics)}\n",
        "    fig.add_trace(go.Scatterpolar(\n",
        "          r=list(summary_metrics.values()),\n",
        "          theta=list(summary_metrics.keys()),\n",
        "          fill='toself',\n",
        "          name=title\n",
        "    ))\n",
        "  fig.update_layout(\n",
        "    polar=dict(\n",
        "      radialaxis=dict(\n",
        "        visible=True,\n",
        "        range=[0, 5]\n",
        "      )),\n",
        "    showlegend=True\n",
        "  )\n",
        "  fig.show()\n",
        "\n",
        "def display_bar_plot(eval_results_list, metrics=None):\n",
        "\n",
        "  fig = go.Figure()\n",
        "  data = []\n",
        "\n",
        "  for eval_results in eval_results_list:\n",
        "    eval_result, title = eval_results[0], eval_results[1]\n",
        "\n",
        "    summary_metrics = eval_result.summary_metrics\n",
        "    mean_summary_metrics = [f\"{metric}/mean\" for metric in metrics]\n",
        "    updated_summary_metrics = []\n",
        "    if metrics:\n",
        "      for k, v in summary_metrics.items():\n",
        "        if k in mean_summary_metrics:\n",
        "          updated_summary_metrics.append((k, v))\n",
        "      summary_metrics = dict(updated_summary_metrics)\n",
        "      # summary_metrics = {k: summary_metrics[k] for k, v in summary_metrics.items() if any(selected_metric in k for selected_metric in metrics)}\n",
        "\n",
        "    data.append(go.Bar(\n",
        "          x=list(summary_metrics.keys()),\n",
        "          y=list(summary_metrics.values()),\n",
        "          name=title,\n",
        "    ))\n",
        "\n",
        "  fig = go.Figure(data=data)\n",
        "\n",
        "  # Change the bar mode\n",
        "  fig.update_layout(barmode='group', showlegend=True)\n",
        "  fig.show()\n",
        "\n",
        "def sample_pairwise_result(eval_result, n=1, metric=None):\n",
        "    \"\"\"Display a random row of pairwise metric result with model responses.\"\"\"\n",
        "    style = \"white-space: pre-wrap; width: 800px; overflow-x: auto;\"\n",
        "    df = eval_result.metrics_table\n",
        "    df = df.sample(n=n)\n",
        "    for index, row in df.iterrows():\n",
        "          display(\n",
        "              HTML(\n",
        "                  f\"<h2>Prompt:</h2> <div style='{style}'>{row['prompt']}</div>\"\n",
        "              )\n",
        "          )\n",
        "          display(\n",
        "              HTML(\n",
        "                  f\"<h2>Baseline Model Response:</h2> <div style='{style}'>{row['baseline_model_response']}</div>\"\n",
        "              )\n",
        "          )\n",
        "          display(\n",
        "              HTML(\n",
        "                  f\"<h2>Candidate Model Response:</h2> <div style='{style}'>{row['response']}</div>\"\n",
        "              )\n",
        "          )\n",
        "          display(\n",
        "              HTML(\n",
        "                  f\"<h2>Explanation:</h2> <div style='{style}'>{row[f'{metric}/explanation']}</div>\"\n",
        "              )\n",
        "          )\n",
        "          display(\n",
        "              HTML(\n",
        "                  f\"<h2>Winner:</h2> <div style='{style}'>{row[f'{metric}/pairwise_choice']}</div>\"\n",
        "              )\n",
        "          )\n",
        "          display(HTML(\"<hr>\"))\n",
        "\n",
        "def display_pairwise_win_rate(eval_result, metric=None):\n",
        "    \"\"\"Display pairwise aggregated metrics\"\"\"\n",
        "    summary_metrics = eval_result.summary_metrics\n",
        "    candidate_model_win_rate = round(summary_metrics[f\"{metric}/candidate_model_win_rate\"] * 100)\n",
        "    display(\n",
        "        HTML(\n",
        "            f\"<h3>Win rate: Autorater prefers Candidate Model over Baseline Model {candidate_model_win_rate}% of time.</h3>\"\n",
        "        )\n",
        "    )\n",
        "\n",
        "def generate_uuid(length: int = 8) -> str:\n",
        "    \"\"\"Generate a uuid of a specified length (default=8).\"\"\"\n",
        "    return \"\".join(random.choices(string.ascii_lowercase + string.digits, k=length))"
      ]
    },
    {
      "cell_type": "markdown",
      "metadata": {
        "id": "2a4e033321ad"
      },
      "source": [
        "## Define an Evaluation Dataset"
      ]
    },
    {
      "cell_type": "code",
      "source": [
        "instruction = 'Summarize the following article: \\n'\n",
        "\n",
        "context = [\n",
        "    'Typhoon Phanfone has killed at least one person, a US airman on Okinawa who was washed away by high waves. Thousands of households have lost power and Japan\\'s two largest airlines have suspended many flights. The storm also forced the suspension of the search for people missing after last week\\'s volcanic eruption. The storm-tracking website Tropical Storm Risk forecasts that Phanfone will rapidly lose power over the next few hours as it goes further into the Pacific Ocean. Typhoon Phanfone was downgraded from an earlier status of a super typhoon, but the Japan Meteorological Agency had warned it was still a dangerous storm. Japan averages 11 typhoons a year, according to its weather agency. The typhoon made landfall on Monday morning near the central city of Hamamatsu, with winds of up to 180 km/h (112 mph). The airman was one of three US military personnel swept away by high waves whipped up by the typhoon off southern Okinawa island, where the US has a large military base. The remaining two are still missing. A police spokesman said they had been taking photographs of the sea. A university student who was surfing off the seas of Kanagawa Prefecture, south of Tokyo, was also missing, national broadcast NHK reports. It said at least 10 people had been injured and 9,500 houses were without power. The storm was expected to deposit about 100mm of rain on Tokyo over 24 hours, according to the Transport Ministry website. Many schools were closed on Monday and two car companies in Japan halted production at some plants ahead of the storm. More than 174 domestic flights were affected nationwide, NHK state broadcaster said on Sunday. On Sunday, heavy rain delayed the Japanese Formula One Grand Prix in Suzaka. French driver Jules Bianchi lost control in the wet conditions and crashed, sustaining a severe head injury.',\n",
        "    'The blaze started at the detached building in Drivers End in Codicote, near Welwyn, during the morning. There was another fire at the building 20 years ago, after which fire-proof foil was placed under the thatch, which is protecting the main building. More than 15 fire engines and support vehicles were called to tackle the blaze. Roads in the area were closed and traffic diverted.',\n",
        "    'The 18-year-old fell at the New Charter Academy on Broadoak Road in Ashton-under-Lyne at about 09:10 BST, Greater Manchester Police (GMP) said. GMP said he had gone to Manchester Royal Infirmary and his condition was \"serious\". Principal Jenny Langley said the school would remain \"fully open\" while police investigated. \"Our thoughts are with the family and we\\'re doing everything we can to support them along with staff and pupils,\" she said.',\n",
        "    'But Belgian-born Dutchman Max Verstappen was unable to drive a car legally on his own in either country. That all changed on Wednesday when the youngster turned 18 and passed his driving test at the first attempt. Despite having competed in 14 grands prix since his debut in Australia in March, Verstappen admitted to feeling the pressure during his test. \"It\\'s a relief,\" said the Toro Rosso driver, who finished ninth in Japan on Sunday and had only started driving lessons a week ago. \"I was a bit nervous to make mistakes, but the exam went well.\" A bonus of turning 18 is that Verstappen will now be able to drink the champagne if he ever makes it onto the podium.',\n",
        "]\n",
        "\n",
        "reference = [\n",
        "    'A powerful typhoon has brought many parts of Japan to a standstill and briefly battered Tokyo before heading out to sea.',\n",
        "    'A major fire has been burning in the thatched roof of a large property in Hertfordshire.',\n",
        "    'A student has been taken to hospital after falling from a balcony at a Greater Manchester school.',\n",
        "    'He is Formula 1\\'s youngest ever driver and in charge of a car that can reach over 200mph.',\n",
        "]\n",
        "\n",
        "response = [\n",
        "    'Typhoon Phanfone, while downgraded from super typhoon status, caused significant disruption and tragedy in Japan. One US airman died after being swept away by high waves, with two more missing. The storm caused power outages for thousands, flight cancellations, and the suspension of rescue efforts for missing volcano victims. Heavy rain and strong winds led to school and factory closures, transportation disruptions, and at least 10 injuries. The typhoon is expected to weaken as it moves over the Pacific Ocean.',\n",
        "    'A large fire broke out in a detached thatched building in Codicote, near Welwyn. This is the second fire at the building in 20 years. Thankfully, fire-proof foil installed after the previous fire is protecting the main building. Over 15 fire engines and support vehicles responded, closing roads and diverting traffic in the area.',\n",
        "    \"An 18-year-old student at New Charter Academy in Ashton-under-Lyne suffered a serious fall and was hospitalized. The incident is under investigation by Greater Manchester Police, but the school remains open. The principal expressed support for the student's family and the school community.\",\n",
        "    \"Max Verstappen, a Formula One driver, was finally able to get his driver's license at age 18. Despite already competing in 14 Grand Prix races, he was not of legal driving age in his native countries. He admitted to being nervous but passed the test on his first attempt.  As an added bonus of turning 18, Verstappen can now enjoy champagne on the podium if he places.\"\n",
        "]\n",
        "\n",
        "eval_dataset = pd.DataFrame({\n",
        "    \"prompt\"       : [instruction + item for item in context],\n",
        "    \"reference\"    : reference,\n",
        "})"
      ],
      "metadata": {
        "id": "Kbrh64wBflN7"
      },
      "execution_count": null,
      "outputs": []
    },
    {
      "cell_type": "markdown",
      "source": [
        "## Define Your Own Metrics"
      ],
      "metadata": {
        "id": "ptDa6fsdh_b1"
      }
    },
    {
      "cell_type": "markdown",
      "source": [
        "### Templated Customization - Pointwise Metric"
      ],
      "metadata": {
        "id": "8H0vKMv21tWZ"
      }
    },
    {
      "cell_type": "code",
      "source": [
        "criteria = {\n",
        "    \"Proper Grammar\": \"The language's grammar rules are correctly followed, including but not limited to sentence structures, verb tenses, subject-verb agreement, proper punctuation, and capitalization.\",\n",
        "    \"Smooth\": \"Sentences flow smoothly and are easy to read, avoiding awkward phrasing or run-on sentences. Ideas and sentences connect logically, using transitions effectively where needed.\",\n",
        "    \"Appropriate word choice\": \"Words chosen are appropriate and purposeful given their relative context and positioning in the text. Vocabulary demonstrates prompt understanding.\"\n",
        "}\n",
        "\n",
        "pointwise_rating_rubric = {\n",
        "    \"5\": \"Completly Coherent: The writing has a seamless logical flow, is expertly organized, and maintains exceptional cohesion throughout.\",\n",
        "    \"4\": \"Mostly coherent: The writing demonstrates strong logical flow, a clear structure, and demonstrates good cohesion.\",\n",
        "    \"3\": \"Somewhat coherent: The writing's logical flow is mostly understandable, it has a recognizable structure, and cohesion is present but could be stronger.\",\n",
        "    \"2\": \"Somewhat incoherent: The writing lacks a clear logical flow, organizational structure is weak, and cohesion is inconsistent or confusing.\",\n",
        "    \"1\": \"Completely incoherent: The writing is highly illogical, lacks any clear organization, and has little to no cohesion.\",\n",
        "}"
      ],
      "metadata": {
        "id": "caI_VfJAEdIQ"
      },
      "execution_count": null,
      "outputs": []
    },
    {
      "cell_type": "code",
      "source": [
        "# The metric prompt template contains default prompts pre-defined for unspecified components.\n",
        "linguistic_acceptability_metric_prompt_template = PointwiseMetricPromptTemplate(\n",
        "    criteria=criteria,\n",
        "    rating_rubric=pointwise_rating_rubric,\n",
        "    input_variables=[\"prompt\"],\n",
        ")\n",
        "\n",
        "# Display the assembled prompt template that will be sent to Gen AI Eval Service\n",
        "# along with the input data for model-based evaluation.\n",
        "print(linguistic_acceptability_metric_prompt_template.prompt_data)"
      ],
      "metadata": {
        "id": "m44KHgkPh-qF"
      },
      "execution_count": null,
      "outputs": []
    },
    {
      "cell_type": "code",
      "source": [
        "# Model to be evaluated\n",
        "generation_config = {\"temperature\": 0.5, \"max_output_tokens\": 256, \"top_k\": 1}\n",
        "\n",
        "model = GenerativeModel(\n",
        "    'gemini-1.5-pro',\n",
        "    generation_config=generation_config\n",
        ")"
      ],
      "metadata": {
        "id": "UQavwTyAEnkO"
      },
      "execution_count": null,
      "outputs": []
    },
    {
      "cell_type": "code",
      "source": [
        "# Define this lcustom \"inguistic_acceptability\" model-based metric.\n",
        "linguistic_acceptability = PointwiseMetric(\n",
        "    metric=\"linguistic_acceptability\",\n",
        "    metric_prompt_template=linguistic_acceptability_metric_prompt_template,\n",
        ")\n",
        "\n",
        "linguistic_acceptability_eval_task = EvalTask(\n",
        "    dataset=eval_dataset,\n",
        "    metrics=[linguistic_acceptability],\n",
        ")\n",
        "\n",
        "linguistic_acceptability_result = linguistic_acceptability_eval_task.evaluate(\n",
        "    model=model,\n",
        ")"
      ],
      "metadata": {
        "id": "ghmHodc4h-76"
      },
      "execution_count": null,
      "outputs": []
    },
    {
      "cell_type": "code",
      "source": [
        "display_eval_result(linguistic_acceptability_result)"
      ],
      "metadata": {
        "id": "zDoDBIMXh--w"
      },
      "execution_count": null,
      "outputs": []
    },
    {
      "cell_type": "code",
      "source": [
        "display_explanations(linguistic_acceptability_result, metrics=['linguistic_acceptability'], n=1)"
      ],
      "metadata": {
        "id": "VDFYbN1u3SxV"
      },
      "execution_count": null,
      "outputs": []
    },
    {
      "cell_type": "markdown",
      "source": [
        "### Templated Customization - Pairwise Metric"
      ],
      "metadata": {
        "id": "6Lso-CcH2mAv"
      }
    },
    {
      "cell_type": "code",
      "source": [
        "baseline_model = GenerativeModel(\n",
        "  'gemini-1.0-pro',\n",
        ")"
      ],
      "metadata": {
        "id": "BbMOOazn2mKF"
      },
      "execution_count": null,
      "outputs": []
    },
    {
      "cell_type": "code",
      "source": [
        "pairwise_rating_rubric = {\n",
        "    \"A\": \"Response A answers the given question as per the criteria better than response B.\",\n",
        "    \"SAME\": \"Response A and B answers the given question equally well as per the criteria.\",\n",
        "    \"B\": \"Response B answers the given question as per the criteria better than response A.\",\n",
        "}\n",
        "\n",
        "pairwise_linguistic_acceptability_prompt_template = PairwiseMetricPromptTemplate(\n",
        "    criteria=criteria,\n",
        "    rating_rubric=pairwise_rating_rubric,\n",
        "    input_variables=[\"prompt\"],\n",
        ")\n",
        "\n",
        "pairwise_linguistic_acceptability = PairwiseMetric(\n",
        "    metric=\"pairwise_linguistic_acceptability\",\n",
        "    metric_prompt_template=pairwise_linguistic_acceptability_prompt_template,\n",
        "    baseline_model=baseline_model\n",
        ")\n",
        "\n",
        "print(pairwise_linguistic_acceptability_prompt_template.prompt_data)"
      ],
      "metadata": {
        "id": "5tNjD6Y82mMb"
      },
      "execution_count": null,
      "outputs": []
    },
    {
      "cell_type": "code",
      "source": [
        "pairwise_eval_task = EvalTask(\n",
        "    dataset=eval_dataset,\n",
        "    metrics=[pairwise_linguistic_acceptability],\n",
        ")\n",
        "\n",
        "pairwise_result = pairwise_eval_task.evaluate(\n",
        "    model=model,\n",
        ")"
      ],
      "metadata": {
        "id": "aAFGz5iO2mOp"
      },
      "execution_count": null,
      "outputs": []
    },
    {
      "cell_type": "code",
      "source": [
        "display_eval_result(pairwise_result)"
      ],
      "metadata": {
        "id": "EagIMRW72mQr"
      },
      "execution_count": null,
      "outputs": []
    },
    {
      "cell_type": "code",
      "source": [
        "sample_pairwise_result(pairwise_result, metric='pairwise_linguistic_acceptability')"
      ],
      "metadata": {
        "id": "mAV7CcS321Ej"
      },
      "execution_count": null,
      "outputs": []
    },
    {
      "cell_type": "markdown",
      "source": [
        "### Free-form customization - Pointwise Metric"
      ],
      "metadata": {
        "id": "2rgvtWD6iI03"
      }
    },
    {
      "cell_type": "code",
      "source": [
        "free_form_pointwise_metric_prompt = \"\"\"\n",
        "# Instruction\n",
        "You are an expert evaluator. Your task is to evaluate the quality of the responses generated by AI models.\n",
        "We will provide you with the user prompt and an AI-generated responses.\n",
        "You should first read the user prompt carefully for analyzing the task, and then evaluate the quality of the responses based on and Criteria provided in the Evaluation section below.\n",
        "\n",
        "You will assign the response a score from 5, 4, 3, 2, 1, following the Rating Rubric and Evaluation Steps. Give step-by-step explanations for your scoring, and only choose scores from 5, 4, 3, 2, 1.\n",
        "\n",
        "# Evaluation\n",
        "## Metric Definition\n",
        "You will be assessing Text Quality, which measures how effectively the text conveys clear, accurate, and engaging information that directly addresses the user's prompt, considering factors like fluency, coherence, relevance, and conciseness.\n",
        "\n",
        "## Criteria\n",
        "Coherence: The response presents ideas in a logical and organized manner, with clear transitions and a consistent focus, making it easy to follow and understand.\n",
        "Fluency: The text flows smoothly and naturally, adhering to grammatical rules and using appropriate vocabulary.\n",
        "Instruction following: The response demonstrates a clear understanding of the summarization task instructions, satisfying all of the instruction's requirements.\n",
        "Groundedness: The response contains information included only in the context. The response does not reference any outside information.\n",
        "Verbosity: The response is appropriately concise, providing sufficient detail without using complex language to thoroughly address the prompt without being overly wordy or excessively brief.\n",
        "\n",
        "## Rating Rubric\n",
        "5: (Very good). Exceptionally clear, coherent, fluent, and concise. Fully adheres to instructions and stays grounded.\n",
        "4: (Good). Well-written, coherent, and fluent. Mostly adheres to instructions and stays grounded. Minor room for improvement.\n",
        "3: (Ok). Adequate writing with decent coherence and fluency. Partially fulfills instructions and may contain minor ungrounded information. Could be more concise.\n",
        "2: (Bad). Poorly written, lacking coherence and fluency. Struggles to adhere to instructions and may include ungrounded information. Issues with conciseness.\n",
        "1: (Very bad). Very poorly written, incoherent, and non-fluent. Fails to follow instructions and contains substantial ungrounded information. Severely lacking in conciseness.\n",
        "\n",
        "## Evaluation Steps\n",
        "STEP 1: Assess the response in aspects of all criteria provided. Provide assessment according to each criterion.\n",
        "STEP 2: Score based on the rating rubric. Give a brief rationale to explain your evaluation considering each individual criterion.\n",
        "\n",
        "# User Inputs and AI-generated Response\n",
        "## User Inputs\n",
        "### Prompt\n",
        "{prompt}\n",
        "\n",
        "## AI-generated Response\n",
        "{response}\n",
        "\"\"\""
      ],
      "metadata": {
        "id": "SL5HxMWpiM7P"
      },
      "execution_count": null,
      "outputs": []
    },
    {
      "cell_type": "code",
      "source": [
        "free_form_pointwise_text_quality_metric = PointwiseMetric(\n",
        "    metric=\"free_form_pointwise_text_quality\",\n",
        "    metric_prompt_template=free_form_pointwise_metric_prompt,\n",
        ")\n",
        "\n",
        "\n",
        "free_form_pointwise_eval_task = EvalTask(\n",
        "    dataset=eval_dataset,\n",
        "    metrics=[free_form_pointwise_text_quality_metric],\n",
        ")\n",
        "\n",
        "free_form_pointwise_result = free_form_pointwise_eval_task.evaluate(\n",
        "    model=model\n",
        ")"
      ],
      "metadata": {
        "id": "34BypD7B0KtD"
      },
      "execution_count": null,
      "outputs": []
    },
    {
      "cell_type": "code",
      "source": [
        "display_eval_result(free_form_pointwise_result)"
      ],
      "metadata": {
        "id": "0w75WjB30Vgp"
      },
      "execution_count": null,
      "outputs": []
    },
    {
      "cell_type": "markdown",
      "source": [
        "### Free-form customization - Pairwise Metric"
      ],
      "metadata": {
        "id": "jc-cq8L_3Dxu"
      }
    },
    {
      "cell_type": "code",
      "source": [
        "free_form_pairwise_metric_prompt = \"\"\"\n",
        "# Instruction\n",
        "You are an expert evaluator. Your task is to evaluate the quality of the responses generated by two AI models. We will provide you with the user input and a pair of AI-generated responses (Response A and Response B).\n",
        "You should first read the user input carefully for analyzing the task, and then evaluate the quality of the responses based on the Criteria provided in the Evaluation section below.\n",
        "You will first judge responses individually, following the Rating Rubric and Evaluation Steps.\n",
        "Then you will give step-by-step explanations for your judgement, compare results to declare the winner based on the Rating Rubric and Evaluation Steps.\n",
        "\n",
        "# Evaluation\n",
        "## Metric Definition\n",
        "You will be assessing the verbosity of each model's response, which measures its conciseness and ability to provide sufficient detail without being overly wordy or excessively brief.\n",
        "\n",
        "## Criteria\n",
        "Verbosity: The response is appropriately concise, providing sufficient detail without using complex language to thoroughly address the prompt without being overly wordy  or excessively brief.\n",
        "\n",
        "## Rating Rubric\n",
        "\"A\": Response A is more appropriately concise than Response B. It strikes a better balance between providing sufficient detail and avoiding unnecessary wordiness or excessive brevity.\n",
        "\"SAME\": Response A and B are equally concise. They both strike the same level of balance between providing sufficient detail and avoiding unnecessary wordiness or excessive brevity.\n",
        "\"B\": Response B is more appropriately concise than Response A. It strikes a better balance between providing sufficient detail and avoiding unnecessary wordiness or excessive brevity.\n",
        "\n",
        "## Evaluation Steps\n",
        "STEP 1: Analyze Response A based on the Verbosity criterion regarding completeness, conciseness, and overall balance.\n",
        "STEP 2: Analyze Response B based on the Verbosity criterion regarding completeness, conciseness, and overall balance.\n",
        "STEP 3: Compare the overall performance of Response A and Response B based on your analyses and assessment.\n",
        "STEP 4: Output your preference of \"A\", \"SAME\" or \"B\" to the pairwise_choice field according to the Rating Rubric.\n",
        "STEP 5: Output your assessment reasoning in the explanation field, justifying your choice by highlighting the specific strengths and weaknesses of each response in terms of verbosity.\n",
        "\n",
        "# User Inputs and AI-generated Responses\n",
        "## User Inputs\n",
        "### Prompt\n",
        "{prompt}\n",
        "\n",
        "# AI-generated Responses\n",
        "\n",
        "### Response A\n",
        "{baseline_model_response}\n",
        "\n",
        "### Response B\n",
        "{response}\n",
        "\"\"\""
      ],
      "metadata": {
        "id": "qW6NqKPI3C2Q"
      },
      "execution_count": null,
      "outputs": []
    },
    {
      "cell_type": "code",
      "source": [
        "free_form_pairwise_metric = PairwiseMetric(\n",
        "    metric=\"free_form_pairwise_verbosity\",\n",
        "    metric_prompt_template=free_form_pairwise_metric_prompt,\n",
        "    baseline_model=baseline_model\n",
        ")\n",
        "free_form_pairwise_eval_task = EvalTask(\n",
        "  dataset=eval_dataset,\n",
        "  metrics=[free_form_pairwise_metric],\n",
        ")\n",
        "\n",
        "free_form_pariwise_result = free_form_pairwise_eval_task.evaluate(\n",
        "\tmodel=model,\n",
        ")"
      ],
      "metadata": {
        "id": "9xAiFfx03KoX"
      },
      "execution_count": null,
      "outputs": []
    },
    {
      "cell_type": "code",
      "source": [
        "display_eval_result(free_form_pariwise_result)"
      ],
      "metadata": {
        "id": "hePAk0BT3Mp5"
      },
      "execution_count": null,
      "outputs": []
    }
  ],
  "metadata": {
    "colab": {
      "toc_visible": true,
      "provenance": [
        {
          "file_id": "1UzZRW4ylHUQHYGLI4eUlMLatn7xUY4G7",
          "timestamp": 1724707915092
        },
        {
          "file_id": "https://github.com/GoogleCloudPlatform/generative-ai/blob/main/notebook_template.ipynb",
          "timestamp": 1724704461801
        }
      ]
    },
    "kernelspec": {
      "display_name": "Python 3",
      "name": "python3"
    }
  },
  "nbformat": 4,
  "nbformat_minor": 0
}
