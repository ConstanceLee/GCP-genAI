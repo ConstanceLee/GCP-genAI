{
  "cells": [
    {
      "cell_type": "code",
      "execution_count": null,
      "metadata": {
        "id": "OsXAs2gcIpbC"
      },
      "outputs": [],
      "source": [
        "# Copyright 2024 Google LLC\n",
        "#\n",
        "# Licensed under the Apache License, Version 2.0 (the \"License\");\n",
        "# you may not use this file except in compliance with the License.\n",
        "# You may obtain a copy of the License at\n",
        "#\n",
        "#     https://www.apache.org/licenses/LICENSE-2.0\n",
        "#\n",
        "# Unless required by applicable law or agreed to in writing, software\n",
        "# distributed under the License is distributed on an \"AS IS\" BASIS,\n",
        "# WITHOUT WARRANTIES OR CONDITIONS OF ANY KIND, either express or implied.\n",
        "# See the License for the specific language governing permissions and\n",
        "# limitations under the License."
      ]
    },
    {
      "cell_type": "markdown",
      "metadata": {
        "id": "WKiAD3qCCtOu"
      },
      "source": [
        " # Evaluate Generative Model Tool Use | Rapid Evaluation SDK Tutorial\n",
        "\n",
        " <table align=\"left\">\n",
        "  <td style=\"text-align: center\">\n",
        "    <a href=\"https://colab.research.google.com/github/GoogleCloudPlatform/generative-ai/blob/main/gemini/evaluation/gemini_function_calling_evaluation_rapid_evaluation_sdk.ipynb\">\n",
        "      <img src=\"https://cloud.google.com/ml-engine/images/colab-logo-32px.png\" alt=\"Google Colaboratory logo\"><br> Open in Colab\n",
        "    </a>\n",
        "  </td>\n",
        "  <td style=\"text-align: center\">\n",
        "    <a href=\"https://console.cloud.google.com/vertex-ai/colab/import/https:%2F%2Fraw.githubusercontent.com%2FGoogleCloudPlatform%2Fgenerative-ai%2Fmain%2Fgemini%2Fevaluation%2Fgemini_function_calling_evaluation_rapid_evaluation_sdk.ipynb\">\n",
        "      <img width=\"32px\" src=\"https://lh3.googleusercontent.com/JmcxdQi-qOpctIvWKgPtrzZdJJK-J3sWE1RsfjZNwshCFgE_9fULcNpuXYTilIR2hjwN\" alt=\"Google Cloud Colab Enterprise logo\"><br> Open in Colab Enterprise\n",
        "    </a>\n",
        "  </td>    \n",
        "  <td style=\"text-align: center\">\n",
        "    <a href=\"https://console.cloud.google.com/vertex-ai/workbench/deploy-notebook?download_url=https://raw.githubusercontent.com/GoogleCloudPlatform/generative-ai/main/gemini/evaluation/gemini_function_calling_evaluation_rapid_evaluation_sdk.ipynb\">\n",
        "      <img src=\"https://lh3.googleusercontent.com/UiNooY4LUgW_oTvpsNhPpQzsstV5W8F7rYgxgGBD85cWJoLmrOzhVs_ksK_vgx40SHs7jCqkTkCk=e14-rj-sc0xffffff-h130-w32\" alt=\"Vertex AI logo\"><br> Open in Workbench\n",
        "    </a>\n",
        "  </td>\n",
        "  <td style=\"text-align: center\">\n",
        "    <a href=\"https://github.com/GoogleCloudPlatform/generative-ai/blob/main/gemini/evaluation/gemini_function_calling_evaluation_rapid_evaluation_sdk.ipynb\">\n",
        "      <img src=\"https://cloud.google.com/ml-engine/images/github-logo-32px.png\" alt=\"GitHub logo\"><br> View on GitHub\n",
        "    </a>\n",
        "  </td>\n",
        "</table>"
      ]
    },
    {
      "cell_type": "markdown",
      "metadata": {
        "id": "0922hY8RI11o"
      },
      "source": [
        "| | |\n",
        "|-|-|\n",
        "|Author(s) | [Jason Dai](https://github.com/jsondai),  [Bo Zheng](https://github.com/coolalexzb) |"
      ]
    },
    {
      "cell_type": "markdown",
      "metadata": {
        "id": "fmNXwtYGCtOv"
      },
      "source": [
        "## Overview\n",
        "\n",
        "* Define an API function and a Tool for Gemini model, and evaluate the Gemini tool use quality."
      ]
    },
    {
      "cell_type": "markdown",
      "metadata": {
        "id": "58zvbIBKCtOv"
      },
      "source": [
        "## Getting Started"
      ]
    },
    {
      "cell_type": "markdown",
      "metadata": {
        "id": "rHKucTJ9CtOv"
      },
      "source": [
        "### Install Vertex AI SDK for Rapid Evaluation"
      ]
    },
    {
      "cell_type": "code",
      "execution_count": 1,
      "metadata": {
        "id": "6DnneQRilTFW",
        "executionInfo": {
          "status": "ok",
          "timestamp": 1724806699110,
          "user_tz": 420,
          "elapsed": 13276,
          "user": {
            "displayName": "Bo Zheng",
            "userId": "08840623371328739114"
          }
        }
      },
      "outputs": [],
      "source": [
        "%pip install --upgrade --user --quiet google-cloud-aiplatform[evaluation]"
      ]
    },
    {
      "cell_type": "markdown",
      "source": [],
      "metadata": {
        "id": "_ktZeJ5CDvTY"
      }
    },
    {
      "cell_type": "markdown",
      "metadata": {
        "id": "nWC8oDQCCtOw"
      },
      "source": [
        "### Restart runtime\n",
        "To use the newly installed packages in this Jupyter runtime, you must restart the runtime. You can do this by running the cell below, which restarts the current kernel.\n",
        "\n",
        "The restart might take a minute or longer. After it's restarted, continue to the next step."
      ]
    },
    {
      "cell_type": "code",
      "execution_count": 2,
      "metadata": {
        "id": "dCkOvWuOCtOw",
        "colab": {
          "base_uri": "https://localhost:8080/"
        },
        "executionInfo": {
          "status": "ok",
          "timestamp": 1724806699111,
          "user_tz": 420,
          "elapsed": 9,
          "user": {
            "displayName": "Bo Zheng",
            "userId": "08840623371328739114"
          }
        },
        "outputId": "54dc9949-541e-4053-d2cb-decd1583110d"
      },
      "outputs": [
        {
          "output_type": "execute_result",
          "data": {
            "text/plain": [
              "{'status': 'ok', 'restart': True}"
            ]
          },
          "metadata": {},
          "execution_count": 2
        }
      ],
      "source": [
        "import IPython\n",
        "\n",
        "app = IPython.Application.instance()\n",
        "app.kernel.do_shutdown(True)"
      ]
    },
    {
      "cell_type": "markdown",
      "metadata": {
        "id": "h4pNZoFdCtOw"
      },
      "source": [
        "<div class=\"alert alert-block alert-warning\">\n",
        "<b>⚠️ The kernel is going to restart. Wait until it's finished before continuing to the next step. ⚠️</b>\n",
        "</div>\n"
      ]
    },
    {
      "cell_type": "markdown",
      "metadata": {
        "id": "NdCE9EV5CtOw"
      },
      "source": [
        "### Authenticate your notebook environment (Colab only)"
      ]
    },
    {
      "cell_type": "code",
      "execution_count": 1,
      "metadata": {
        "id": "ZiX59CNjCtOx",
        "executionInfo": {
          "status": "ok",
          "timestamp": 1724806719994,
          "user_tz": 420,
          "elapsed": 10263,
          "user": {
            "displayName": "Bo Zheng",
            "userId": "08840623371328739114"
          }
        }
      },
      "outputs": [],
      "source": [
        "import sys\n",
        "\n",
        "if \"google.colab\" in sys.modules:\n",
        "    from google.colab import auth\n",
        "\n",
        "    auth.authenticate_user()"
      ]
    },
    {
      "cell_type": "markdown",
      "metadata": {
        "id": "X4FOrb_sCtOx"
      },
      "source": [
        "### Set Google Cloud project information and initialize Vertex AI SDK"
      ]
    },
    {
      "cell_type": "code",
      "execution_count": 2,
      "metadata": {
        "id": "G2LhRUspCtOx",
        "executionInfo": {
          "status": "ok",
          "timestamp": 1724806728904,
          "user_tz": 420,
          "elapsed": 8911,
          "user": {
            "displayName": "Bo Zheng",
            "userId": "08840623371328739114"
          }
        }
      },
      "outputs": [],
      "source": [
        "PROJECT_ID = \"cloud-llm-preview1\"  # @param {type:\"string\"}\n",
        "LOCATION = \"us-central1\"  # @param {type:\"string\"}\n",
        "\n",
        "\n",
        "import vertexai\n",
        "\n",
        "vertexai.init(project=PROJECT_ID, location=LOCATION)"
      ]
    },
    {
      "cell_type": "markdown",
      "metadata": {
        "id": "1EvqYQT2CtOx"
      },
      "source": [
        "### Import libraries"
      ]
    },
    {
      "cell_type": "code",
      "execution_count": 3,
      "metadata": {
        "id": "eHDPrnbQlTFX",
        "executionInfo": {
          "status": "ok",
          "timestamp": 1724806728904,
          "user_tz": 420,
          "elapsed": 2,
          "user": {
            "displayName": "Bo Zheng",
            "userId": "08840623371328739114"
          }
        }
      },
      "outputs": [],
      "source": [
        "# General\n",
        "import inspect\n",
        "from uuid import uuid4\n",
        "from google.colab import auth\n",
        "from IPython.display import display, Markdown, HTML\n",
        "import json\n",
        "import plotly.graph_objects as go\n",
        "import matplotlib.pyplot as plt\n",
        "import logging\n",
        "from tqdm import tqdm\n",
        "import warnings\n",
        "import random\n",
        "import string\n",
        "import os\n",
        "\n",
        "# Main\n",
        "import vertexai\n",
        "from vertexai.evaluation import (\n",
        "    EvalTask,\n",
        "    PromptTemplate,\n",
        "    CustomMetric,\n",
        ")\n",
        "import pandas as pd\n",
        "from google.cloud import aiplatform\n",
        "from vertexai.generative_models import GenerativeModel, HarmCategory, HarmBlockThreshold"
      ]
    },
    {
      "cell_type": "markdown",
      "metadata": {
        "id": "GEv1ZxXPlTFX"
      },
      "source": [
        "### Library settings"
      ]
    },
    {
      "cell_type": "code",
      "execution_count": 4,
      "metadata": {
        "id": "ilX3gNbllTFX",
        "executionInfo": {
          "status": "ok",
          "timestamp": 1724806728904,
          "user_tz": 420,
          "elapsed": 1,
          "user": {
            "displayName": "Bo Zheng",
            "userId": "08840623371328739114"
          }
        }
      },
      "outputs": [],
      "source": [
        "logging.getLogger(\"urllib3.connectionpool\").setLevel(logging.ERROR)\n",
        "warnings.filterwarnings(\"ignore\")"
      ]
    },
    {
      "cell_type": "markdown",
      "metadata": {
        "id": "o4nrCUUnlTFX"
      },
      "source": [
        "### Helper functions"
      ]
    },
    {
      "cell_type": "code",
      "execution_count": 5,
      "metadata": {
        "id": "HohglC48lTFX",
        "executionInfo": {
          "status": "ok",
          "timestamp": 1724806728904,
          "user_tz": 420,
          "elapsed": 1,
          "user": {
            "displayName": "Bo Zheng",
            "userId": "08840623371328739114"
          }
        }
      },
      "outputs": [],
      "source": [
        "def generate_uuid(length: int = 8) -> str:\n",
        "    \"\"\"Generate a uuid of a specified length (default=8).\"\"\"\n",
        "    return \"\".join(random.choices(string.ascii_lowercase + string.digits, k=length))\n",
        "\n",
        "\n",
        "def print_doc(function):\n",
        "    print(f\"{function.__name__}:\\n{inspect.getdoc(function)}\\n\")\n",
        "\n",
        "\n",
        "def display_eval_report(eval_result, metrics=None):\n",
        "    \"\"\"Display the evaluation results.\"\"\"\n",
        "\n",
        "    title, summary_metrics, report_df = eval_result\n",
        "    metrics_df = pd.DataFrame.from_dict(summary_metrics, orient=\"index\").T\n",
        "    if metrics:\n",
        "        metrics_df = metrics_df.filter(\n",
        "            [\n",
        "                metric\n",
        "                for metric in metrics_df.columns\n",
        "                if any(selected_metric in metric for selected_metric in metrics)\n",
        "            ]\n",
        "        )\n",
        "        report_df = report_df.filter(\n",
        "            [\n",
        "                metric\n",
        "                for metric in report_df.columns\n",
        "                if any(selected_metric in metric for selected_metric in metrics)\n",
        "            ]\n",
        "        )\n",
        "\n",
        "    # Display the title with Markdown for emphasis\n",
        "    display(Markdown(f\"## {title}\"))\n",
        "\n",
        "    # Display the metrics DataFrame\n",
        "    display(Markdown(\"### Summary Metrics\"))\n",
        "    display(metrics_df)\n",
        "\n",
        "    # Display the detailed report DataFrame\n",
        "    display(Markdown(f\"### Report Metrics\"))\n",
        "    display(report_df)\n",
        "\n",
        "\n",
        "def display_explanations(df, metrics=None, n=1):\n",
        "    style = \"white-space: pre-wrap; width: 800px; overflow-x: auto;\"\n",
        "    df = df.sample(n=n)\n",
        "    if metrics:\n",
        "        df = df.filter(\n",
        "            [\"instruction\", \"context\", \"reference\", \"completed_prompt\", \"response\"]\n",
        "            + [\n",
        "                metric\n",
        "                for metric in df.columns\n",
        "                if any(selected_metric in metric for selected_metric in metrics)\n",
        "            ]\n",
        "        )\n",
        "\n",
        "    for index, row in df.iterrows():\n",
        "        for col in df.columns:\n",
        "            display(HTML(f\"<h2>{col}:</h2> <div style='{style}'>{row[col]}</div>\"))\n",
        "        display(HTML(\"<hr>\"))\n",
        "\n",
        "\n",
        "def plot_radar_plot(eval_results, metrics=None):\n",
        "    fig = go.Figure()\n",
        "\n",
        "    for eval_result in eval_results:\n",
        "        title, summary_metrics, report_df = eval_result\n",
        "\n",
        "        if metrics:\n",
        "            summary_metrics = {\n",
        "                k: summary_metrics[k]\n",
        "                for k, v in summary_metrics.items()\n",
        "                if any(selected_metric in k for selected_metric in metrics)\n",
        "            }\n",
        "\n",
        "        fig.add_trace(\n",
        "            go.Scatterpolar(\n",
        "                r=list(summary_metrics.values()),\n",
        "                theta=list(summary_metrics.keys()),\n",
        "                fill=\"toself\",\n",
        "                name=title,\n",
        "            )\n",
        "        )\n",
        "\n",
        "    fig.update_layout(\n",
        "        polar=dict(radialaxis=dict(visible=True, range=[0, 5])), showlegend=True\n",
        "    )\n",
        "\n",
        "    fig.show()\n",
        "\n",
        "\n",
        "def plot_bar_plot(eval_results, metrics=None):\n",
        "    fig = go.Figure()\n",
        "    data = []\n",
        "\n",
        "    for eval_result in eval_results:\n",
        "        title, summary_metrics, _ = eval_result\n",
        "        if metrics:\n",
        "            summary_metrics = {\n",
        "                k: summary_metrics[k]\n",
        "                for k, v in summary_metrics.items()\n",
        "                if any(selected_metric in k for selected_metric in metrics)\n",
        "            }\n",
        "\n",
        "        data.append(\n",
        "            go.Bar(\n",
        "                x=list(summary_metrics.keys()),\n",
        "                y=list(summary_metrics.values()),\n",
        "                name=title,\n",
        "            )\n",
        "        )\n",
        "\n",
        "    fig = go.Figure(data=data)\n",
        "\n",
        "    # Change the bar mode\n",
        "    fig.update_layout(barmode=\"group\")\n",
        "    fig.show()\n",
        "\n",
        "\n",
        "def print_aggregated_metrics(job):\n",
        "    \"\"\"Print AutoMetrics\"\"\"\n",
        "\n",
        "    rougeLSum = round(job.rougeLSum, 3) * 100\n",
        "    display(\n",
        "        HTML(\n",
        "            f\"<h3>The {rougeLSum}% of the reference summary is represented by LLM when considering the longest common subsequence (LCS) of words.</h3>\"\n",
        "        )\n",
        "    )\n",
        "\n",
        "\n",
        "def print_autosxs_judgments(df, n=3):\n",
        "    \"\"\"Print AutoSxS judgments in the notebook\"\"\"\n",
        "\n",
        "    style = \"white-space: pre-wrap; width: 800px; overflow-x: auto;\"\n",
        "    df = df.sample(n=n)\n",
        "\n",
        "    for index, row in df.iterrows():\n",
        "        if row[\"confidence\"] >= 0.5:\n",
        "            display(\n",
        "                HTML(\n",
        "                    f\"<h2>Document:</h2> <div style='{style}'>{row['id_columns']['document']}</div>\"\n",
        "                )\n",
        "            )\n",
        "            display(\n",
        "                HTML(\n",
        "                    f\"<h2>Response A:</h2> <div style='{style}'>{row['response_a']}</div>\"\n",
        "                )\n",
        "            )\n",
        "            display(\n",
        "                HTML(\n",
        "                    f\"<h2>Response B:</h2> <div style='{style}'>{row['response_b']}</div>\"\n",
        "                )\n",
        "            )\n",
        "            display(\n",
        "                HTML(\n",
        "                    f\"<h2>Explanation:</h2> <div style='{style}'>{row['explanation']}</div>\"\n",
        "                )\n",
        "            )\n",
        "            display(\n",
        "                HTML(\n",
        "                    f\"<h2>Confidence score:</h2> <div style='{style}'>{row['confidence']}</div>\"\n",
        "                )\n",
        "            )\n",
        "            display(HTML(\"<hr>\"))\n",
        "\n",
        "\n",
        "def print_autosxs_win_metrics(scores):\n",
        "    \"\"\"Print AutoSxS aggregated metrics\"\"\"\n",
        "\n",
        "    score_b = round(scores[\"autosxs_model_b_win_rate\"] * 100)\n",
        "    display(\n",
        "        HTML(\n",
        "            f\"<h3>AutoSxS Autorater prefers {score_b}% of time Model B over Model A </h3>\"\n",
        "        )\n",
        "    )"
      ]
    },
    {
      "cell_type": "markdown",
      "metadata": {
        "id": "RPBjzk96w9gV"
      },
      "source": [
        "## Evaluate Tool use and Function Calling quality for Gemini"
      ]
    },
    {
      "cell_type": "markdown",
      "metadata": {
        "id": "iY5hG6VMnS_s"
      },
      "source": [
        "#### Tool evaluation metrics\n",
        "\n",
        "* `tool_call_valid`\n",
        "* `tool_name_match`\n",
        "* `tool_parameter_key_match`\n",
        "* `tool_parameter_kv_match`"
      ]
    },
    {
      "cell_type": "code",
      "execution_count": 6,
      "metadata": {
        "id": "vcZ2UikInZe0",
        "executionInfo": {
          "status": "ok",
          "timestamp": 1724806728904,
          "user_tz": 420,
          "elapsed": 1,
          "user": {
            "displayName": "Bo Zheng",
            "userId": "08840623371328739114"
          }
        }
      },
      "outputs": [],
      "source": [
        "tool_metrics = [\"tool_call_valid\", \"tool_name_match\", \"tool_parameter_key_match\", \"tool_parameter_kv_match\"]"
      ]
    },
    {
      "cell_type": "markdown",
      "metadata": {
        "id": "dJgpakfIw9gc"
      },
      "source": [
        "### 1. Evaluate a Bring-Your-Own-Prediction dataset\n",
        "\n",
        "Generative model's tool use quality can be evaluated if the eval dataset contains saved model tool call responses, and expected references."
      ]
    },
    {
      "cell_type": "code",
      "execution_count": 7,
      "metadata": {
        "id": "d6Euv-SQw9gc",
        "executionInfo": {
          "status": "ok",
          "timestamp": 1724806729124,
          "user_tz": 420,
          "elapsed": 1,
          "user": {
            "displayName": "Bo Zheng",
            "userId": "08840623371328739114"
          }
        }
      },
      "outputs": [],
      "source": [
        "response = [\n",
        "    '{\"content\": \"\", \"tool_calls\": [{\"name\": \"book_tickets\", \"arguments\": {\"movie\": \"Mission Impossible Dead Reckoning Part 1\", \"theater\": \"Regal Edwards 14\", \"location\": \"Mountain View CA\", \"showtime\": \"7:30\", \"date\": \"2024-03-30\", \"num_tix\": \"2\"}}]}',\n",
        "    '{\"content\": \"\", \"tool_calls\": [{\"name\": \"book_tickets\", \"arguments\": {\"movie\": \"Mission Impossible Dead Reckoning Part 1\", \"theater\": \"Regal Edwards 14\", \"location\": \"Mountain View CA\", \"showtime\": \"7:30\", \"date\": \"2024-03-30\", \"num_tix\": \"2\"}}]}',\n",
        "    '{\"content\": \"\", \"tool_calls\": [{\"name\": \"book_tickets\", \"arguments\": {\"movie\": \"Mission Impossible Dead Reckoning Part 1\", \"theater\": \"Regal Edwards 14\"}}]}',\n",
        "    '{\"content\": \"\", \"tool_calls\": [{\"name\": \"book_tickets\", \"arguments\": {\"movie\": \"Mission Impossible Dead Reckoning Part 1\", \"theater\": \"Cinemark\", \"location\": \"Mountain View CA\", \"showtime\": \"5:30\", \"date\": \"2024-03-30\", \"num_tix\": \"2\"}}]}',\n",
        "]\n",
        "\n",
        "reference = [\n",
        "    '{\"content\": \"\", \"tool_calls\": [{\"name\": \"book_tickets\", \"arguments\": {\"movie\": \"Mission Impossible Dead Reckoning Part 1\", \"theater\": \"Regal Edwards 14\", \"location\": \"Mountain View CA\", \"showtime\": \"7:30\", \"date\": \"2024-03-30\", \"num_tix\": \"2\"}}]}',\n",
        "    '{\"content\": \"\", \"tool_calls\": [{\"name\": \"book_tickets\", \"arguments\": {\"movie\": \"Godzilla\", \"theater\": \"Regal Edwards 14\", \"location\": \"Mountain View CA\", \"showtime\": \"9:30\", \"date\": \"2024-03-30\", \"num_tix\": \"2\"}}]}',\n",
        "    '{\"content\": \"\", \"tool_calls\": [{\"name\": \"book_tickets\", \"arguments\": {\"movie\": \"Mission Impossible Dead Reckoning Part 1\", \"theater\": \"Regal Edwards 14\", \"location\": \"Mountain View CA\", \"showtime\": \"7:30\", \"date\": \"2024-03-30\", \"num_tix\": \"2\"}}]}',\n",
        "    '{\"content\": \"\", \"tool_calls\": [{\"name\": \"book_tickets\", \"arguments\": {\"movie\": \"Mission Impossible Dead Reckoning Part 1\", \"theater\": \"Regal Edwards 14\", \"location\": \"Mountain View CA\", \"showtime\": \"7:30\", \"date\": \"2024-03-30\", \"num_tix\": \"2\"}}]}',\n",
        "]\n",
        "\n",
        "eval_dataset = pd.DataFrame(\n",
        "    {\n",
        "        \"response\": response,\n",
        "        \"reference\": reference,\n",
        "    }\n",
        ")"
      ]
    },
    {
      "cell_type": "markdown",
      "metadata": {
        "id": "PyUj7kOnnNtH"
      },
      "source": [
        "#### Define EvalTask"
      ]
    },
    {
      "cell_type": "code",
      "execution_count": 8,
      "metadata": {
        "id": "tYl6A1zInObM",
        "executionInfo": {
          "status": "ok",
          "timestamp": 1724806729371,
          "user_tz": 420,
          "elapsed": 1,
          "user": {
            "displayName": "Bo Zheng",
            "userId": "08840623371328739114"
          }
        }
      },
      "outputs": [],
      "source": [
        "experiment_name = \"eval-saved-llm-tool-use\"  # @param {type:\"string\"}\n",
        "\n",
        "tool_use_eval_task = EvalTask(\n",
        "    dataset=eval_dataset,\n",
        "    metrics=tool_metrics,\n",
        "    experiment=experiment_name,\n",
        ")"
      ]
    },
    {
      "cell_type": "code",
      "execution_count": 9,
      "metadata": {
        "id": "l8U4KVzAhsP2",
        "colab": {
          "base_uri": "https://localhost:8080/",
          "height": 530
        },
        "executionInfo": {
          "status": "ok",
          "timestamp": 1724806793749,
          "user_tz": 420,
          "elapsed": 64168,
          "user": {
            "displayName": "Bo Zheng",
            "userId": "08840623371328739114"
          }
        },
        "outputId": "5030f441-bfb6-45df-a9b2-f89f952594f3"
      },
      "outputs": [
        {
          "output_type": "display_data",
          "data": {
            "text/plain": [
              "<IPython.core.display.HTML object>"
            ],
            "text/html": [
              "\n",
              "        \n",
              "    <link rel=\"stylesheet\" href=\"https://fonts.googleapis.com/icon?family=Material+Icons\">\n",
              "    <style>\n",
              "      .view-vertex-resource,\n",
              "      .view-vertex-resource:hover,\n",
              "      .view-vertex-resource:visited {\n",
              "        position: relative;\n",
              "        display: inline-flex;\n",
              "        flex-direction: row;\n",
              "        height: 32px;\n",
              "        padding: 0 12px;\n",
              "          margin: 4px 18px;\n",
              "        gap: 4px;\n",
              "        border-radius: 4px;\n",
              "\n",
              "        align-items: center;\n",
              "        justify-content: center;\n",
              "        background-color: rgb(255, 255, 255);\n",
              "        color: rgb(51, 103, 214);\n",
              "\n",
              "        font-family: Roboto,\"Helvetica Neue\",sans-serif;\n",
              "        font-size: 13px;\n",
              "        font-weight: 500;\n",
              "        text-transform: uppercase;\n",
              "        text-decoration: none !important;\n",
              "\n",
              "        transition: box-shadow 280ms cubic-bezier(0.4, 0, 0.2, 1) 0s;\n",
              "        box-shadow: 0px 3px 1px -2px rgba(0,0,0,0.2), 0px 2px 2px 0px rgba(0,0,0,0.14), 0px 1px 5px 0px rgba(0,0,0,0.12);\n",
              "      }\n",
              "      .view-vertex-resource:active {\n",
              "        box-shadow: 0px 5px 5px -3px rgba(0,0,0,0.2),0px 8px 10px 1px rgba(0,0,0,0.14),0px 3px 14px 2px rgba(0,0,0,0.12);\n",
              "      }\n",
              "      .view-vertex-resource:active .view-vertex-ripple::before {\n",
              "        position: absolute;\n",
              "        top: 0;\n",
              "        bottom: 0;\n",
              "        left: 0;\n",
              "        right: 0;\n",
              "        border-radius: 4px;\n",
              "        pointer-events: none;\n",
              "\n",
              "        content: '';\n",
              "        background-color: rgb(51, 103, 214);\n",
              "        opacity: 0.12;\n",
              "      }\n",
              "      .view-vertex-icon {\n",
              "        font-size: 18px;\n",
              "      }\n",
              "    </style>\n",
              "  \n",
              "        <a class=\"view-vertex-resource\" id=\"view-vertex-resource-b8bb6485-1045-4cfb-bb4d-b7855d48425d\" href=\"#view-view-vertex-resource-b8bb6485-1045-4cfb-bb4d-b7855d48425d\">\n",
              "          <span class=\"material-icons view-vertex-icon\">science</span>\n",
              "          <span>View Experiment</span>\n",
              "        </a>\n",
              "        \n",
              "        <script>\n",
              "          (function () {\n",
              "            const link = document.getElementById('view-vertex-resource-b8bb6485-1045-4cfb-bb4d-b7855d48425d');\n",
              "            link.addEventListener('click', (e) => {\n",
              "              if (window.google?.colab?.openUrl) {\n",
              "                window.google.colab.openUrl('https://console.cloud.google.com/vertex-ai/experiments/locations/us-central1/experiments/eval-saved-llm-tool-use/runs?project=cloud-llm-preview1');\n",
              "              } else {\n",
              "                window.open('https://console.cloud.google.com/vertex-ai/experiments/locations/us-central1/experiments/eval-saved-llm-tool-use/runs?project=cloud-llm-preview1', '_blank');\n",
              "              }\n",
              "              e.stopPropagation();\n",
              "              e.preventDefault();\n",
              "            });\n",
              "          })();\n",
              "        </script>\n",
              "    "
            ]
          },
          "metadata": {}
        },
        {
          "output_type": "stream",
          "name": "stderr",
          "text": [
            "INFO:google.cloud.aiplatform.metadata.experiment_resources:Associating projects/801452371447/locations/us-central1/metadataStores/default/contexts/eval-saved-llm-tool-use-eval-xytqqjs4 to Experiment: eval-saved-llm-tool-use\n"
          ]
        },
        {
          "output_type": "display_data",
          "data": {
            "text/plain": [
              "<IPython.core.display.HTML object>"
            ],
            "text/html": [
              "\n",
              "        \n",
              "    <link rel=\"stylesheet\" href=\"https://fonts.googleapis.com/icon?family=Material+Icons\">\n",
              "    <style>\n",
              "      .view-vertex-resource,\n",
              "      .view-vertex-resource:hover,\n",
              "      .view-vertex-resource:visited {\n",
              "        position: relative;\n",
              "        display: inline-flex;\n",
              "        flex-direction: row;\n",
              "        height: 32px;\n",
              "        padding: 0 12px;\n",
              "          margin: 4px 18px;\n",
              "        gap: 4px;\n",
              "        border-radius: 4px;\n",
              "\n",
              "        align-items: center;\n",
              "        justify-content: center;\n",
              "        background-color: rgb(255, 255, 255);\n",
              "        color: rgb(51, 103, 214);\n",
              "\n",
              "        font-family: Roboto,\"Helvetica Neue\",sans-serif;\n",
              "        font-size: 13px;\n",
              "        font-weight: 500;\n",
              "        text-transform: uppercase;\n",
              "        text-decoration: none !important;\n",
              "\n",
              "        transition: box-shadow 280ms cubic-bezier(0.4, 0, 0.2, 1) 0s;\n",
              "        box-shadow: 0px 3px 1px -2px rgba(0,0,0,0.2), 0px 2px 2px 0px rgba(0,0,0,0.14), 0px 1px 5px 0px rgba(0,0,0,0.12);\n",
              "      }\n",
              "      .view-vertex-resource:active {\n",
              "        box-shadow: 0px 5px 5px -3px rgba(0,0,0,0.2),0px 8px 10px 1px rgba(0,0,0,0.14),0px 3px 14px 2px rgba(0,0,0,0.12);\n",
              "      }\n",
              "      .view-vertex-resource:active .view-vertex-ripple::before {\n",
              "        position: absolute;\n",
              "        top: 0;\n",
              "        bottom: 0;\n",
              "        left: 0;\n",
              "        right: 0;\n",
              "        border-radius: 4px;\n",
              "        pointer-events: none;\n",
              "\n",
              "        content: '';\n",
              "        background-color: rgb(51, 103, 214);\n",
              "        opacity: 0.12;\n",
              "      }\n",
              "      .view-vertex-icon {\n",
              "        font-size: 18px;\n",
              "      }\n",
              "    </style>\n",
              "  \n",
              "        <a class=\"view-vertex-resource\" id=\"view-vertex-resource-aad887f4-f5ea-4279-95db-425a031c3150\" href=\"#view-view-vertex-resource-aad887f4-f5ea-4279-95db-425a031c3150\">\n",
              "          <span class=\"material-icons view-vertex-icon\">science</span>\n",
              "          <span>View Experiment Run</span>\n",
              "        </a>\n",
              "        \n",
              "        <script>\n",
              "          (function () {\n",
              "            const link = document.getElementById('view-vertex-resource-aad887f4-f5ea-4279-95db-425a031c3150');\n",
              "            link.addEventListener('click', (e) => {\n",
              "              if (window.google?.colab?.openUrl) {\n",
              "                window.google.colab.openUrl('https://console.cloud.google.com/vertex-ai/experiments/locations/us-central1/experiments/eval-saved-llm-tool-use/runs/eval-saved-llm-tool-use-eval-xytqqjs4?project=cloud-llm-preview1');\n",
              "              } else {\n",
              "                window.open('https://console.cloud.google.com/vertex-ai/experiments/locations/us-central1/experiments/eval-saved-llm-tool-use/runs/eval-saved-llm-tool-use-eval-xytqqjs4?project=cloud-llm-preview1', '_blank');\n",
              "              }\n",
              "              e.stopPropagation();\n",
              "              e.preventDefault();\n",
              "            });\n",
              "          })();\n",
              "        </script>\n",
              "    "
            ]
          },
          "metadata": {}
        },
        {
          "output_type": "stream",
          "name": "stderr",
          "text": [
            "INFO:vertexai.evaluation._evaluation:Computing metrics with a total of 16 Vertex online evaluation service requests.\n",
            "100%|██████████| 16/16 [01:00<00:00,  3.77s/it]\n",
            "INFO:vertexai.evaluation._evaluation:All 16 metric requests are successfully computed.\n",
            "INFO:vertexai.evaluation._evaluation:Evaluation Took:60.321914217000085 seconds\n"
          ]
        },
        {
          "output_type": "display_data",
          "data": {
            "text/plain": [
              "<IPython.core.display.Markdown object>"
            ],
            "text/markdown": "## Tool Use Quality Evaluation Metrics"
          },
          "metadata": {}
        },
        {
          "output_type": "display_data",
          "data": {
            "text/plain": [
              "<IPython.core.display.Markdown object>"
            ],
            "text/markdown": "### Summary Metrics"
          },
          "metadata": {}
        },
        {
          "output_type": "display_data",
          "data": {
            "text/plain": [
              "   row_count  tool_call_valid/mean  tool_call_valid/std  tool_name_match/mean  \\\n",
              "0        4.0                   1.0                  0.0                   1.0   \n",
              "\n",
              "   tool_name_match/std  tool_parameter_key_match/mean  \\\n",
              "0                  0.0                         0.8325   \n",
              "\n",
              "   tool_parameter_key_match/std  tool_parameter_kv_match/mean  \\\n",
              "0                         0.335                        0.6675   \n",
              "\n",
              "   tool_parameter_kv_match/std  \n",
              "0                     0.273542  "
            ],
            "text/html": [
              "\n",
              "  <div id=\"df-816fef4e-2d0b-4892-90b2-bd9ef5e1731f\" class=\"colab-df-container\">\n",
              "    <div>\n",
              "<style scoped>\n",
              "    .dataframe tbody tr th:only-of-type {\n",
              "        vertical-align: middle;\n",
              "    }\n",
              "\n",
              "    .dataframe tbody tr th {\n",
              "        vertical-align: top;\n",
              "    }\n",
              "\n",
              "    .dataframe thead th {\n",
              "        text-align: right;\n",
              "    }\n",
              "</style>\n",
              "<table border=\"1\" class=\"dataframe\">\n",
              "  <thead>\n",
              "    <tr style=\"text-align: right;\">\n",
              "      <th></th>\n",
              "      <th>row_count</th>\n",
              "      <th>tool_call_valid/mean</th>\n",
              "      <th>tool_call_valid/std</th>\n",
              "      <th>tool_name_match/mean</th>\n",
              "      <th>tool_name_match/std</th>\n",
              "      <th>tool_parameter_key_match/mean</th>\n",
              "      <th>tool_parameter_key_match/std</th>\n",
              "      <th>tool_parameter_kv_match/mean</th>\n",
              "      <th>tool_parameter_kv_match/std</th>\n",
              "    </tr>\n",
              "  </thead>\n",
              "  <tbody>\n",
              "    <tr>\n",
              "      <th>0</th>\n",
              "      <td>4.0</td>\n",
              "      <td>1.0</td>\n",
              "      <td>0.0</td>\n",
              "      <td>1.0</td>\n",
              "      <td>0.0</td>\n",
              "      <td>0.8325</td>\n",
              "      <td>0.335</td>\n",
              "      <td>0.6675</td>\n",
              "      <td>0.273542</td>\n",
              "    </tr>\n",
              "  </tbody>\n",
              "</table>\n",
              "</div>\n",
              "    <div class=\"colab-df-buttons\">\n",
              "\n",
              "  <div class=\"colab-df-container\">\n",
              "    <button class=\"colab-df-convert\" onclick=\"convertToInteractive('df-816fef4e-2d0b-4892-90b2-bd9ef5e1731f')\"\n",
              "            title=\"Convert this dataframe to an interactive table.\"\n",
              "            style=\"display:none;\">\n",
              "\n",
              "  <svg xmlns=\"http://www.w3.org/2000/svg\" height=\"24px\" viewBox=\"0 -960 960 960\">\n",
              "    <path d=\"M120-120v-720h720v720H120Zm60-500h600v-160H180v160Zm220 220h160v-160H400v160Zm0 220h160v-160H400v160ZM180-400h160v-160H180v160Zm440 0h160v-160H620v160ZM180-180h160v-160H180v160Zm440 0h160v-160H620v160Z\"/>\n",
              "  </svg>\n",
              "    </button>\n",
              "\n",
              "  <style>\n",
              "    .colab-df-container {\n",
              "      display:flex;\n",
              "      gap: 12px;\n",
              "    }\n",
              "\n",
              "    .colab-df-convert {\n",
              "      background-color: #E8F0FE;\n",
              "      border: none;\n",
              "      border-radius: 50%;\n",
              "      cursor: pointer;\n",
              "      display: none;\n",
              "      fill: #1967D2;\n",
              "      height: 32px;\n",
              "      padding: 0 0 0 0;\n",
              "      width: 32px;\n",
              "    }\n",
              "\n",
              "    .colab-df-convert:hover {\n",
              "      background-color: #E2EBFA;\n",
              "      box-shadow: 0px 1px 2px rgba(60, 64, 67, 0.3), 0px 1px 3px 1px rgba(60, 64, 67, 0.15);\n",
              "      fill: #174EA6;\n",
              "    }\n",
              "\n",
              "    .colab-df-buttons div {\n",
              "      margin-bottom: 4px;\n",
              "    }\n",
              "\n",
              "    [theme=dark] .colab-df-convert {\n",
              "      background-color: #3B4455;\n",
              "      fill: #D2E3FC;\n",
              "    }\n",
              "\n",
              "    [theme=dark] .colab-df-convert:hover {\n",
              "      background-color: #434B5C;\n",
              "      box-shadow: 0px 1px 3px 1px rgba(0, 0, 0, 0.15);\n",
              "      filter: drop-shadow(0px 1px 2px rgba(0, 0, 0, 0.3));\n",
              "      fill: #FFFFFF;\n",
              "    }\n",
              "  </style>\n",
              "\n",
              "    <script>\n",
              "      const buttonEl =\n",
              "        document.querySelector('#df-816fef4e-2d0b-4892-90b2-bd9ef5e1731f button.colab-df-convert');\n",
              "      buttonEl.style.display =\n",
              "        google.colab.kernel.accessAllowed ? 'block' : 'none';\n",
              "\n",
              "      async function convertToInteractive(key) {\n",
              "        const element = document.querySelector('#df-816fef4e-2d0b-4892-90b2-bd9ef5e1731f');\n",
              "        const dataTable =\n",
              "          await google.colab.kernel.invokeFunction('convertToInteractive',\n",
              "                                                    [key], {});\n",
              "        if (!dataTable) return;\n",
              "\n",
              "        const docLinkHtml = 'Like what you see? Visit the ' +\n",
              "          '<a target=\"_blank\" href=https://colab.research.google.com/notebooks/data_table.ipynb>data table notebook</a>'\n",
              "          + ' to learn more about interactive tables.';\n",
              "        element.innerHTML = '';\n",
              "        dataTable['output_type'] = 'display_data';\n",
              "        await google.colab.output.renderOutput(dataTable, element);\n",
              "        const docLink = document.createElement('div');\n",
              "        docLink.innerHTML = docLinkHtml;\n",
              "        element.appendChild(docLink);\n",
              "      }\n",
              "    </script>\n",
              "  </div>\n",
              "\n",
              "\n",
              "    </div>\n",
              "  </div>\n"
            ],
            "application/vnd.google.colaboratory.intrinsic+json": {
              "type": "dataframe",
              "summary": "{\n  \"name\": \")\",\n  \"rows\": 1,\n  \"fields\": [\n    {\n      \"column\": \"row_count\",\n      \"properties\": {\n        \"dtype\": \"number\",\n        \"std\": null,\n        \"min\": 4.0,\n        \"max\": 4.0,\n        \"num_unique_values\": 1,\n        \"samples\": [\n          4.0\n        ],\n        \"semantic_type\": \"\",\n        \"description\": \"\"\n      }\n    },\n    {\n      \"column\": \"tool_call_valid/mean\",\n      \"properties\": {\n        \"dtype\": \"number\",\n        \"std\": null,\n        \"min\": 1.0,\n        \"max\": 1.0,\n        \"num_unique_values\": 1,\n        \"samples\": [\n          1.0\n        ],\n        \"semantic_type\": \"\",\n        \"description\": \"\"\n      }\n    },\n    {\n      \"column\": \"tool_call_valid/std\",\n      \"properties\": {\n        \"dtype\": \"number\",\n        \"std\": null,\n        \"min\": 0.0,\n        \"max\": 0.0,\n        \"num_unique_values\": 1,\n        \"samples\": [\n          0.0\n        ],\n        \"semantic_type\": \"\",\n        \"description\": \"\"\n      }\n    },\n    {\n      \"column\": \"tool_name_match/mean\",\n      \"properties\": {\n        \"dtype\": \"number\",\n        \"std\": null,\n        \"min\": 1.0,\n        \"max\": 1.0,\n        \"num_unique_values\": 1,\n        \"samples\": [\n          1.0\n        ],\n        \"semantic_type\": \"\",\n        \"description\": \"\"\n      }\n    },\n    {\n      \"column\": \"tool_name_match/std\",\n      \"properties\": {\n        \"dtype\": \"number\",\n        \"std\": null,\n        \"min\": 0.0,\n        \"max\": 0.0,\n        \"num_unique_values\": 1,\n        \"samples\": [\n          0.0\n        ],\n        \"semantic_type\": \"\",\n        \"description\": \"\"\n      }\n    },\n    {\n      \"column\": \"tool_parameter_key_match/mean\",\n      \"properties\": {\n        \"dtype\": \"number\",\n        \"std\": null,\n        \"min\": 0.8325,\n        \"max\": 0.8325,\n        \"num_unique_values\": 1,\n        \"samples\": [\n          0.8325\n        ],\n        \"semantic_type\": \"\",\n        \"description\": \"\"\n      }\n    },\n    {\n      \"column\": \"tool_parameter_key_match/std\",\n      \"properties\": {\n        \"dtype\": \"number\",\n        \"std\": null,\n        \"min\": 0.33499999999999996,\n        \"max\": 0.33499999999999996,\n        \"num_unique_values\": 1,\n        \"samples\": [\n          0.33499999999999996\n        ],\n        \"semantic_type\": \"\",\n        \"description\": \"\"\n      }\n    },\n    {\n      \"column\": \"tool_parameter_kv_match/mean\",\n      \"properties\": {\n        \"dtype\": \"number\",\n        \"std\": null,\n        \"min\": 0.6675,\n        \"max\": 0.6675,\n        \"num_unique_values\": 1,\n        \"samples\": [\n          0.6675\n        ],\n        \"semantic_type\": \"\",\n        \"description\": \"\"\n      }\n    },\n    {\n      \"column\": \"tool_parameter_kv_match/std\",\n      \"properties\": {\n        \"dtype\": \"number\",\n        \"std\": null,\n        \"min\": 0.2735415873317986,\n        \"max\": 0.2735415873317986,\n        \"num_unique_values\": 1,\n        \"samples\": [\n          0.2735415873317986\n        ],\n        \"semantic_type\": \"\",\n        \"description\": \"\"\n      }\n    }\n  ]\n}"
            }
          },
          "metadata": {}
        },
        {
          "output_type": "display_data",
          "data": {
            "text/plain": [
              "<IPython.core.display.Markdown object>"
            ],
            "text/markdown": "### Report Metrics"
          },
          "metadata": {}
        },
        {
          "output_type": "display_data",
          "data": {
            "text/plain": [
              "                                            response  \\\n",
              "0  {\"content\": \"\", \"tool_calls\": [{\"name\": \"book_...   \n",
              "1  {\"content\": \"\", \"tool_calls\": [{\"name\": \"book_...   \n",
              "2  {\"content\": \"\", \"tool_calls\": [{\"name\": \"book_...   \n",
              "3  {\"content\": \"\", \"tool_calls\": [{\"name\": \"book_...   \n",
              "\n",
              "                                           reference  tool_call_valid/score  \\\n",
              "0  {\"content\": \"\", \"tool_calls\": [{\"name\": \"book_...                    1.0   \n",
              "1  {\"content\": \"\", \"tool_calls\": [{\"name\": \"book_...                    1.0   \n",
              "2  {\"content\": \"\", \"tool_calls\": [{\"name\": \"book_...                    1.0   \n",
              "3  {\"content\": \"\", \"tool_calls\": [{\"name\": \"book_...                    1.0   \n",
              "\n",
              "   tool_name_match/score  tool_parameter_key_match/score  \\\n",
              "0                    1.0                            1.00   \n",
              "1                    1.0                            1.00   \n",
              "2                    1.0                            0.33   \n",
              "3                    1.0                            1.00   \n",
              "\n",
              "   tool_parameter_kv_match/score  \n",
              "0                           1.00  \n",
              "1                           0.67  \n",
              "2                           0.33  \n",
              "3                           0.67  "
            ],
            "text/html": [
              "\n",
              "  <div id=\"df-479a6f53-2fdf-4d01-a036-1625639286a1\" class=\"colab-df-container\">\n",
              "    <div>\n",
              "<style scoped>\n",
              "    .dataframe tbody tr th:only-of-type {\n",
              "        vertical-align: middle;\n",
              "    }\n",
              "\n",
              "    .dataframe tbody tr th {\n",
              "        vertical-align: top;\n",
              "    }\n",
              "\n",
              "    .dataframe thead th {\n",
              "        text-align: right;\n",
              "    }\n",
              "</style>\n",
              "<table border=\"1\" class=\"dataframe\">\n",
              "  <thead>\n",
              "    <tr style=\"text-align: right;\">\n",
              "      <th></th>\n",
              "      <th>response</th>\n",
              "      <th>reference</th>\n",
              "      <th>tool_call_valid/score</th>\n",
              "      <th>tool_name_match/score</th>\n",
              "      <th>tool_parameter_key_match/score</th>\n",
              "      <th>tool_parameter_kv_match/score</th>\n",
              "    </tr>\n",
              "  </thead>\n",
              "  <tbody>\n",
              "    <tr>\n",
              "      <th>0</th>\n",
              "      <td>{\"content\": \"\", \"tool_calls\": [{\"name\": \"book_...</td>\n",
              "      <td>{\"content\": \"\", \"tool_calls\": [{\"name\": \"book_...</td>\n",
              "      <td>1.0</td>\n",
              "      <td>1.0</td>\n",
              "      <td>1.00</td>\n",
              "      <td>1.00</td>\n",
              "    </tr>\n",
              "    <tr>\n",
              "      <th>1</th>\n",
              "      <td>{\"content\": \"\", \"tool_calls\": [{\"name\": \"book_...</td>\n",
              "      <td>{\"content\": \"\", \"tool_calls\": [{\"name\": \"book_...</td>\n",
              "      <td>1.0</td>\n",
              "      <td>1.0</td>\n",
              "      <td>1.00</td>\n",
              "      <td>0.67</td>\n",
              "    </tr>\n",
              "    <tr>\n",
              "      <th>2</th>\n",
              "      <td>{\"content\": \"\", \"tool_calls\": [{\"name\": \"book_...</td>\n",
              "      <td>{\"content\": \"\", \"tool_calls\": [{\"name\": \"book_...</td>\n",
              "      <td>1.0</td>\n",
              "      <td>1.0</td>\n",
              "      <td>0.33</td>\n",
              "      <td>0.33</td>\n",
              "    </tr>\n",
              "    <tr>\n",
              "      <th>3</th>\n",
              "      <td>{\"content\": \"\", \"tool_calls\": [{\"name\": \"book_...</td>\n",
              "      <td>{\"content\": \"\", \"tool_calls\": [{\"name\": \"book_...</td>\n",
              "      <td>1.0</td>\n",
              "      <td>1.0</td>\n",
              "      <td>1.00</td>\n",
              "      <td>0.67</td>\n",
              "    </tr>\n",
              "  </tbody>\n",
              "</table>\n",
              "</div>\n",
              "    <div class=\"colab-df-buttons\">\n",
              "\n",
              "  <div class=\"colab-df-container\">\n",
              "    <button class=\"colab-df-convert\" onclick=\"convertToInteractive('df-479a6f53-2fdf-4d01-a036-1625639286a1')\"\n",
              "            title=\"Convert this dataframe to an interactive table.\"\n",
              "            style=\"display:none;\">\n",
              "\n",
              "  <svg xmlns=\"http://www.w3.org/2000/svg\" height=\"24px\" viewBox=\"0 -960 960 960\">\n",
              "    <path d=\"M120-120v-720h720v720H120Zm60-500h600v-160H180v160Zm220 220h160v-160H400v160Zm0 220h160v-160H400v160ZM180-400h160v-160H180v160Zm440 0h160v-160H620v160ZM180-180h160v-160H180v160Zm440 0h160v-160H620v160Z\"/>\n",
              "  </svg>\n",
              "    </button>\n",
              "\n",
              "  <style>\n",
              "    .colab-df-container {\n",
              "      display:flex;\n",
              "      gap: 12px;\n",
              "    }\n",
              "\n",
              "    .colab-df-convert {\n",
              "      background-color: #E8F0FE;\n",
              "      border: none;\n",
              "      border-radius: 50%;\n",
              "      cursor: pointer;\n",
              "      display: none;\n",
              "      fill: #1967D2;\n",
              "      height: 32px;\n",
              "      padding: 0 0 0 0;\n",
              "      width: 32px;\n",
              "    }\n",
              "\n",
              "    .colab-df-convert:hover {\n",
              "      background-color: #E2EBFA;\n",
              "      box-shadow: 0px 1px 2px rgba(60, 64, 67, 0.3), 0px 1px 3px 1px rgba(60, 64, 67, 0.15);\n",
              "      fill: #174EA6;\n",
              "    }\n",
              "\n",
              "    .colab-df-buttons div {\n",
              "      margin-bottom: 4px;\n",
              "    }\n",
              "\n",
              "    [theme=dark] .colab-df-convert {\n",
              "      background-color: #3B4455;\n",
              "      fill: #D2E3FC;\n",
              "    }\n",
              "\n",
              "    [theme=dark] .colab-df-convert:hover {\n",
              "      background-color: #434B5C;\n",
              "      box-shadow: 0px 1px 3px 1px rgba(0, 0, 0, 0.15);\n",
              "      filter: drop-shadow(0px 1px 2px rgba(0, 0, 0, 0.3));\n",
              "      fill: #FFFFFF;\n",
              "    }\n",
              "  </style>\n",
              "\n",
              "    <script>\n",
              "      const buttonEl =\n",
              "        document.querySelector('#df-479a6f53-2fdf-4d01-a036-1625639286a1 button.colab-df-convert');\n",
              "      buttonEl.style.display =\n",
              "        google.colab.kernel.accessAllowed ? 'block' : 'none';\n",
              "\n",
              "      async function convertToInteractive(key) {\n",
              "        const element = document.querySelector('#df-479a6f53-2fdf-4d01-a036-1625639286a1');\n",
              "        const dataTable =\n",
              "          await google.colab.kernel.invokeFunction('convertToInteractive',\n",
              "                                                    [key], {});\n",
              "        if (!dataTable) return;\n",
              "\n",
              "        const docLinkHtml = 'Like what you see? Visit the ' +\n",
              "          '<a target=\"_blank\" href=https://colab.research.google.com/notebooks/data_table.ipynb>data table notebook</a>'\n",
              "          + ' to learn more about interactive tables.';\n",
              "        element.innerHTML = '';\n",
              "        dataTable['output_type'] = 'display_data';\n",
              "        await google.colab.output.renderOutput(dataTable, element);\n",
              "        const docLink = document.createElement('div');\n",
              "        docLink.innerHTML = docLinkHtml;\n",
              "        element.appendChild(docLink);\n",
              "      }\n",
              "    </script>\n",
              "  </div>\n",
              "\n",
              "\n",
              "<div id=\"df-0b4c17a5-b85a-46c6-8026-480fdc87a2f9\">\n",
              "  <button class=\"colab-df-quickchart\" onclick=\"quickchart('df-0b4c17a5-b85a-46c6-8026-480fdc87a2f9')\"\n",
              "            title=\"Suggest charts\"\n",
              "            style=\"display:none;\">\n",
              "\n",
              "<svg xmlns=\"http://www.w3.org/2000/svg\" height=\"24px\"viewBox=\"0 0 24 24\"\n",
              "     width=\"24px\">\n",
              "    <g>\n",
              "        <path d=\"M19 3H5c-1.1 0-2 .9-2 2v14c0 1.1.9 2 2 2h14c1.1 0 2-.9 2-2V5c0-1.1-.9-2-2-2zM9 17H7v-7h2v7zm4 0h-2V7h2v10zm4 0h-2v-4h2v4z\"/>\n",
              "    </g>\n",
              "</svg>\n",
              "  </button>\n",
              "\n",
              "<style>\n",
              "  .colab-df-quickchart {\n",
              "      --bg-color: #E8F0FE;\n",
              "      --fill-color: #1967D2;\n",
              "      --hover-bg-color: #E2EBFA;\n",
              "      --hover-fill-color: #174EA6;\n",
              "      --disabled-fill-color: #AAA;\n",
              "      --disabled-bg-color: #DDD;\n",
              "  }\n",
              "\n",
              "  [theme=dark] .colab-df-quickchart {\n",
              "      --bg-color: #3B4455;\n",
              "      --fill-color: #D2E3FC;\n",
              "      --hover-bg-color: #434B5C;\n",
              "      --hover-fill-color: #FFFFFF;\n",
              "      --disabled-bg-color: #3B4455;\n",
              "      --disabled-fill-color: #666;\n",
              "  }\n",
              "\n",
              "  .colab-df-quickchart {\n",
              "    background-color: var(--bg-color);\n",
              "    border: none;\n",
              "    border-radius: 50%;\n",
              "    cursor: pointer;\n",
              "    display: none;\n",
              "    fill: var(--fill-color);\n",
              "    height: 32px;\n",
              "    padding: 0;\n",
              "    width: 32px;\n",
              "  }\n",
              "\n",
              "  .colab-df-quickchart:hover {\n",
              "    background-color: var(--hover-bg-color);\n",
              "    box-shadow: 0 1px 2px rgba(60, 64, 67, 0.3), 0 1px 3px 1px rgba(60, 64, 67, 0.15);\n",
              "    fill: var(--button-hover-fill-color);\n",
              "  }\n",
              "\n",
              "  .colab-df-quickchart-complete:disabled,\n",
              "  .colab-df-quickchart-complete:disabled:hover {\n",
              "    background-color: var(--disabled-bg-color);\n",
              "    fill: var(--disabled-fill-color);\n",
              "    box-shadow: none;\n",
              "  }\n",
              "\n",
              "  .colab-df-spinner {\n",
              "    border: 2px solid var(--fill-color);\n",
              "    border-color: transparent;\n",
              "    border-bottom-color: var(--fill-color);\n",
              "    animation:\n",
              "      spin 1s steps(1) infinite;\n",
              "  }\n",
              "\n",
              "  @keyframes spin {\n",
              "    0% {\n",
              "      border-color: transparent;\n",
              "      border-bottom-color: var(--fill-color);\n",
              "      border-left-color: var(--fill-color);\n",
              "    }\n",
              "    20% {\n",
              "      border-color: transparent;\n",
              "      border-left-color: var(--fill-color);\n",
              "      border-top-color: var(--fill-color);\n",
              "    }\n",
              "    30% {\n",
              "      border-color: transparent;\n",
              "      border-left-color: var(--fill-color);\n",
              "      border-top-color: var(--fill-color);\n",
              "      border-right-color: var(--fill-color);\n",
              "    }\n",
              "    40% {\n",
              "      border-color: transparent;\n",
              "      border-right-color: var(--fill-color);\n",
              "      border-top-color: var(--fill-color);\n",
              "    }\n",
              "    60% {\n",
              "      border-color: transparent;\n",
              "      border-right-color: var(--fill-color);\n",
              "    }\n",
              "    80% {\n",
              "      border-color: transparent;\n",
              "      border-right-color: var(--fill-color);\n",
              "      border-bottom-color: var(--fill-color);\n",
              "    }\n",
              "    90% {\n",
              "      border-color: transparent;\n",
              "      border-bottom-color: var(--fill-color);\n",
              "    }\n",
              "  }\n",
              "</style>\n",
              "\n",
              "  <script>\n",
              "    async function quickchart(key) {\n",
              "      const quickchartButtonEl =\n",
              "        document.querySelector('#' + key + ' button');\n",
              "      quickchartButtonEl.disabled = true;  // To prevent multiple clicks.\n",
              "      quickchartButtonEl.classList.add('colab-df-spinner');\n",
              "      try {\n",
              "        const charts = await google.colab.kernel.invokeFunction(\n",
              "            'suggestCharts', [key], {});\n",
              "      } catch (error) {\n",
              "        console.error('Error during call to suggestCharts:', error);\n",
              "      }\n",
              "      quickchartButtonEl.classList.remove('colab-df-spinner');\n",
              "      quickchartButtonEl.classList.add('colab-df-quickchart-complete');\n",
              "    }\n",
              "    (() => {\n",
              "      let quickchartButtonEl =\n",
              "        document.querySelector('#df-0b4c17a5-b85a-46c6-8026-480fdc87a2f9 button');\n",
              "      quickchartButtonEl.style.display =\n",
              "        google.colab.kernel.accessAllowed ? 'block' : 'none';\n",
              "    })();\n",
              "  </script>\n",
              "</div>\n",
              "\n",
              "    </div>\n",
              "  </div>\n"
            ],
            "application/vnd.google.colaboratory.intrinsic+json": {
              "type": "dataframe",
              "summary": "{\n  \"name\": \")\",\n  \"rows\": 4,\n  \"fields\": [\n    {\n      \"column\": \"response\",\n      \"properties\": {\n        \"dtype\": \"string\",\n        \"num_unique_values\": 3,\n        \"samples\": [\n          \"{\\\"content\\\": \\\"\\\", \\\"tool_calls\\\": [{\\\"name\\\": \\\"book_tickets\\\", \\\"arguments\\\": {\\\"movie\\\": \\\"Mission Impossible Dead Reckoning Part 1\\\", \\\"theater\\\": \\\"Regal Edwards 14\\\", \\\"location\\\": \\\"Mountain View CA\\\", \\\"showtime\\\": \\\"7:30\\\", \\\"date\\\": \\\"2024-03-30\\\", \\\"num_tix\\\": \\\"2\\\"}}]}\",\n          \"{\\\"content\\\": \\\"\\\", \\\"tool_calls\\\": [{\\\"name\\\": \\\"book_tickets\\\", \\\"arguments\\\": {\\\"movie\\\": \\\"Mission Impossible Dead Reckoning Part 1\\\", \\\"theater\\\": \\\"Regal Edwards 14\\\"}}]}\",\n          \"{\\\"content\\\": \\\"\\\", \\\"tool_calls\\\": [{\\\"name\\\": \\\"book_tickets\\\", \\\"arguments\\\": {\\\"movie\\\": \\\"Mission Impossible Dead Reckoning Part 1\\\", \\\"theater\\\": \\\"Cinemark\\\", \\\"location\\\": \\\"Mountain View CA\\\", \\\"showtime\\\": \\\"5:30\\\", \\\"date\\\": \\\"2024-03-30\\\", \\\"num_tix\\\": \\\"2\\\"}}]}\"\n        ],\n        \"semantic_type\": \"\",\n        \"description\": \"\"\n      }\n    },\n    {\n      \"column\": \"reference\",\n      \"properties\": {\n        \"dtype\": \"string\",\n        \"num_unique_values\": 2,\n        \"samples\": [\n          \"{\\\"content\\\": \\\"\\\", \\\"tool_calls\\\": [{\\\"name\\\": \\\"book_tickets\\\", \\\"arguments\\\": {\\\"movie\\\": \\\"Godzilla\\\", \\\"theater\\\": \\\"Regal Edwards 14\\\", \\\"location\\\": \\\"Mountain View CA\\\", \\\"showtime\\\": \\\"9:30\\\", \\\"date\\\": \\\"2024-03-30\\\", \\\"num_tix\\\": \\\"2\\\"}}]}\",\n          \"{\\\"content\\\": \\\"\\\", \\\"tool_calls\\\": [{\\\"name\\\": \\\"book_tickets\\\", \\\"arguments\\\": {\\\"movie\\\": \\\"Mission Impossible Dead Reckoning Part 1\\\", \\\"theater\\\": \\\"Regal Edwards 14\\\", \\\"location\\\": \\\"Mountain View CA\\\", \\\"showtime\\\": \\\"7:30\\\", \\\"date\\\": \\\"2024-03-30\\\", \\\"num_tix\\\": \\\"2\\\"}}]}\"\n        ],\n        \"semantic_type\": \"\",\n        \"description\": \"\"\n      }\n    },\n    {\n      \"column\": \"tool_call_valid/score\",\n      \"properties\": {\n        \"dtype\": \"number\",\n        \"std\": 0.0,\n        \"min\": 1.0,\n        \"max\": 1.0,\n        \"num_unique_values\": 1,\n        \"samples\": [\n          1.0\n        ],\n        \"semantic_type\": \"\",\n        \"description\": \"\"\n      }\n    },\n    {\n      \"column\": \"tool_name_match/score\",\n      \"properties\": {\n        \"dtype\": \"number\",\n        \"std\": 0.0,\n        \"min\": 1.0,\n        \"max\": 1.0,\n        \"num_unique_values\": 1,\n        \"samples\": [\n          1.0\n        ],\n        \"semantic_type\": \"\",\n        \"description\": \"\"\n      }\n    },\n    {\n      \"column\": \"tool_parameter_key_match/score\",\n      \"properties\": {\n        \"dtype\": \"number\",\n        \"std\": 0.33499999999999996,\n        \"min\": 0.33,\n        \"max\": 1.0,\n        \"num_unique_values\": 2,\n        \"samples\": [\n          0.33\n        ],\n        \"semantic_type\": \"\",\n        \"description\": \"\"\n      }\n    },\n    {\n      \"column\": \"tool_parameter_kv_match/score\",\n      \"properties\": {\n        \"dtype\": \"number\",\n        \"std\": 0.2735415873317986,\n        \"min\": 0.33,\n        \"max\": 1.0,\n        \"num_unique_values\": 3,\n        \"samples\": [\n          1.0\n        ],\n        \"semantic_type\": \"\",\n        \"description\": \"\"\n      }\n    }\n  ]\n}"
            }
          },
          "metadata": {}
        }
      ],
      "source": [
        "run_id = generate_uuid()\n",
        "\n",
        "experiment_run_name = f\"eval-{run_id}\"\n",
        "\n",
        "eval_result = tool_use_eval_task.evaluate(experiment_run_name=experiment_run_name)\n",
        "display_eval_report(\n",
        "    (\n",
        "        f\"Tool Use Quality Evaluation Metrics\",\n",
        "        eval_result.summary_metrics,\n",
        "        eval_result.metrics_table,\n",
        "    )\n",
        ")"
      ]
    },
    {
      "cell_type": "code",
      "execution_count": 10,
      "metadata": {
        "id": "3WXnsT2qo-OD",
        "colab": {
          "base_uri": "https://localhost:8080/",
          "height": 313
        },
        "executionInfo": {
          "status": "ok",
          "timestamp": 1724806799551,
          "user_tz": 420,
          "elapsed": 5804,
          "user": {
            "displayName": "Bo Zheng",
            "userId": "08840623371328739114"
          }
        },
        "outputId": "762688a5-d196-4985-ee46-8505c7eec7ff"
      },
      "outputs": [
        {
          "output_type": "display_data",
          "data": {
            "text/plain": [
              "           experiment_name       run_name              run_type     state  \\\n",
              "0  eval-saved-llm-tool-use  eval-xytqqjs4  system.ExperimentRun  COMPLETE   \n",
              "1  eval-saved-llm-tool-use  eval-gvt9ozdj  system.ExperimentRun  COMPLETE   \n",
              "2  eval-saved-llm-tool-use  eval-lui23h92  system.ExperimentRun  COMPLETE   \n",
              "3  eval-saved-llm-tool-use  eval-b438g09x  system.ExperimentRun    FAILED   \n",
              "4  eval-saved-llm-tool-use  eval-3qx77913  system.ExperimentRun  COMPLETE   \n",
              "\n",
              "   metric.tool_name_match/std  metric.tool_name_match/mean  \\\n",
              "0                         0.0                          1.0   \n",
              "1                         0.0                          1.0   \n",
              "2                         0.0                          1.0   \n",
              "3                         NaN                          NaN   \n",
              "4                         0.0                          1.0   \n",
              "\n",
              "   metric.tool_call_valid/mean  metric.tool_parameter_key_match/mean  \\\n",
              "0                          1.0                                0.8325   \n",
              "1                          1.0                                0.8325   \n",
              "2                          1.0                                0.8325   \n",
              "3                          NaN                                   NaN   \n",
              "4                          1.0                                0.8325   \n",
              "\n",
              "   metric.tool_parameter_kv_match/mean  metric.tool_parameter_key_match/std  \\\n",
              "0                               0.6675                                0.335   \n",
              "1                               0.6675                                0.335   \n",
              "2                               0.6675                                0.335   \n",
              "3                                  NaN                                  NaN   \n",
              "4                               0.6675                                0.335   \n",
              "\n",
              "   metric.row_count  metric.tool_parameter_kv_match/std  \\\n",
              "0               4.0                            0.273542   \n",
              "1               4.0                            0.273542   \n",
              "2               4.0                            0.273542   \n",
              "3               NaN                                 NaN   \n",
              "4               4.0                            0.273542   \n",
              "\n",
              "   metric.tool_call_valid/std  \n",
              "0                         0.0  \n",
              "1                         0.0  \n",
              "2                         0.0  \n",
              "3                         NaN  \n",
              "4                         0.0  "
            ],
            "text/html": [
              "\n",
              "  <div id=\"df-1e19c202-32cc-4b83-bf01-74125e0e9252\" class=\"colab-df-container\">\n",
              "    <div>\n",
              "<style scoped>\n",
              "    .dataframe tbody tr th:only-of-type {\n",
              "        vertical-align: middle;\n",
              "    }\n",
              "\n",
              "    .dataframe tbody tr th {\n",
              "        vertical-align: top;\n",
              "    }\n",
              "\n",
              "    .dataframe thead th {\n",
              "        text-align: right;\n",
              "    }\n",
              "</style>\n",
              "<table border=\"1\" class=\"dataframe\">\n",
              "  <thead>\n",
              "    <tr style=\"text-align: right;\">\n",
              "      <th></th>\n",
              "      <th>experiment_name</th>\n",
              "      <th>run_name</th>\n",
              "      <th>run_type</th>\n",
              "      <th>state</th>\n",
              "      <th>metric.tool_name_match/std</th>\n",
              "      <th>metric.tool_name_match/mean</th>\n",
              "      <th>metric.tool_call_valid/mean</th>\n",
              "      <th>metric.tool_parameter_key_match/mean</th>\n",
              "      <th>metric.tool_parameter_kv_match/mean</th>\n",
              "      <th>metric.tool_parameter_key_match/std</th>\n",
              "      <th>metric.row_count</th>\n",
              "      <th>metric.tool_parameter_kv_match/std</th>\n",
              "      <th>metric.tool_call_valid/std</th>\n",
              "    </tr>\n",
              "  </thead>\n",
              "  <tbody>\n",
              "    <tr>\n",
              "      <th>0</th>\n",
              "      <td>eval-saved-llm-tool-use</td>\n",
              "      <td>eval-xytqqjs4</td>\n",
              "      <td>system.ExperimentRun</td>\n",
              "      <td>COMPLETE</td>\n",
              "      <td>0.0</td>\n",
              "      <td>1.0</td>\n",
              "      <td>1.0</td>\n",
              "      <td>0.8325</td>\n",
              "      <td>0.6675</td>\n",
              "      <td>0.335</td>\n",
              "      <td>4.0</td>\n",
              "      <td>0.273542</td>\n",
              "      <td>0.0</td>\n",
              "    </tr>\n",
              "    <tr>\n",
              "      <th>1</th>\n",
              "      <td>eval-saved-llm-tool-use</td>\n",
              "      <td>eval-gvt9ozdj</td>\n",
              "      <td>system.ExperimentRun</td>\n",
              "      <td>COMPLETE</td>\n",
              "      <td>0.0</td>\n",
              "      <td>1.0</td>\n",
              "      <td>1.0</td>\n",
              "      <td>0.8325</td>\n",
              "      <td>0.6675</td>\n",
              "      <td>0.335</td>\n",
              "      <td>4.0</td>\n",
              "      <td>0.273542</td>\n",
              "      <td>0.0</td>\n",
              "    </tr>\n",
              "    <tr>\n",
              "      <th>2</th>\n",
              "      <td>eval-saved-llm-tool-use</td>\n",
              "      <td>eval-lui23h92</td>\n",
              "      <td>system.ExperimentRun</td>\n",
              "      <td>COMPLETE</td>\n",
              "      <td>0.0</td>\n",
              "      <td>1.0</td>\n",
              "      <td>1.0</td>\n",
              "      <td>0.8325</td>\n",
              "      <td>0.6675</td>\n",
              "      <td>0.335</td>\n",
              "      <td>4.0</td>\n",
              "      <td>0.273542</td>\n",
              "      <td>0.0</td>\n",
              "    </tr>\n",
              "    <tr>\n",
              "      <th>3</th>\n",
              "      <td>eval-saved-llm-tool-use</td>\n",
              "      <td>eval-b438g09x</td>\n",
              "      <td>system.ExperimentRun</td>\n",
              "      <td>FAILED</td>\n",
              "      <td>NaN</td>\n",
              "      <td>NaN</td>\n",
              "      <td>NaN</td>\n",
              "      <td>NaN</td>\n",
              "      <td>NaN</td>\n",
              "      <td>NaN</td>\n",
              "      <td>NaN</td>\n",
              "      <td>NaN</td>\n",
              "      <td>NaN</td>\n",
              "    </tr>\n",
              "    <tr>\n",
              "      <th>4</th>\n",
              "      <td>eval-saved-llm-tool-use</td>\n",
              "      <td>eval-3qx77913</td>\n",
              "      <td>system.ExperimentRun</td>\n",
              "      <td>COMPLETE</td>\n",
              "      <td>0.0</td>\n",
              "      <td>1.0</td>\n",
              "      <td>1.0</td>\n",
              "      <td>0.8325</td>\n",
              "      <td>0.6675</td>\n",
              "      <td>0.335</td>\n",
              "      <td>4.0</td>\n",
              "      <td>0.273542</td>\n",
              "      <td>0.0</td>\n",
              "    </tr>\n",
              "  </tbody>\n",
              "</table>\n",
              "</div>\n",
              "    <div class=\"colab-df-buttons\">\n",
              "\n",
              "  <div class=\"colab-df-container\">\n",
              "    <button class=\"colab-df-convert\" onclick=\"convertToInteractive('df-1e19c202-32cc-4b83-bf01-74125e0e9252')\"\n",
              "            title=\"Convert this dataframe to an interactive table.\"\n",
              "            style=\"display:none;\">\n",
              "\n",
              "  <svg xmlns=\"http://www.w3.org/2000/svg\" height=\"24px\" viewBox=\"0 -960 960 960\">\n",
              "    <path d=\"M120-120v-720h720v720H120Zm60-500h600v-160H180v160Zm220 220h160v-160H400v160Zm0 220h160v-160H400v160ZM180-400h160v-160H180v160Zm440 0h160v-160H620v160ZM180-180h160v-160H180v160Zm440 0h160v-160H620v160Z\"/>\n",
              "  </svg>\n",
              "    </button>\n",
              "\n",
              "  <style>\n",
              "    .colab-df-container {\n",
              "      display:flex;\n",
              "      gap: 12px;\n",
              "    }\n",
              "\n",
              "    .colab-df-convert {\n",
              "      background-color: #E8F0FE;\n",
              "      border: none;\n",
              "      border-radius: 50%;\n",
              "      cursor: pointer;\n",
              "      display: none;\n",
              "      fill: #1967D2;\n",
              "      height: 32px;\n",
              "      padding: 0 0 0 0;\n",
              "      width: 32px;\n",
              "    }\n",
              "\n",
              "    .colab-df-convert:hover {\n",
              "      background-color: #E2EBFA;\n",
              "      box-shadow: 0px 1px 2px rgba(60, 64, 67, 0.3), 0px 1px 3px 1px rgba(60, 64, 67, 0.15);\n",
              "      fill: #174EA6;\n",
              "    }\n",
              "\n",
              "    .colab-df-buttons div {\n",
              "      margin-bottom: 4px;\n",
              "    }\n",
              "\n",
              "    [theme=dark] .colab-df-convert {\n",
              "      background-color: #3B4455;\n",
              "      fill: #D2E3FC;\n",
              "    }\n",
              "\n",
              "    [theme=dark] .colab-df-convert:hover {\n",
              "      background-color: #434B5C;\n",
              "      box-shadow: 0px 1px 3px 1px rgba(0, 0, 0, 0.15);\n",
              "      filter: drop-shadow(0px 1px 2px rgba(0, 0, 0, 0.3));\n",
              "      fill: #FFFFFF;\n",
              "    }\n",
              "  </style>\n",
              "\n",
              "    <script>\n",
              "      const buttonEl =\n",
              "        document.querySelector('#df-1e19c202-32cc-4b83-bf01-74125e0e9252 button.colab-df-convert');\n",
              "      buttonEl.style.display =\n",
              "        google.colab.kernel.accessAllowed ? 'block' : 'none';\n",
              "\n",
              "      async function convertToInteractive(key) {\n",
              "        const element = document.querySelector('#df-1e19c202-32cc-4b83-bf01-74125e0e9252');\n",
              "        const dataTable =\n",
              "          await google.colab.kernel.invokeFunction('convertToInteractive',\n",
              "                                                    [key], {});\n",
              "        if (!dataTable) return;\n",
              "\n",
              "        const docLinkHtml = 'Like what you see? Visit the ' +\n",
              "          '<a target=\"_blank\" href=https://colab.research.google.com/notebooks/data_table.ipynb>data table notebook</a>'\n",
              "          + ' to learn more about interactive tables.';\n",
              "        element.innerHTML = '';\n",
              "        dataTable['output_type'] = 'display_data';\n",
              "        await google.colab.output.renderOutput(dataTable, element);\n",
              "        const docLink = document.createElement('div');\n",
              "        docLink.innerHTML = docLinkHtml;\n",
              "        element.appendChild(docLink);\n",
              "      }\n",
              "    </script>\n",
              "  </div>\n",
              "\n",
              "\n",
              "<div id=\"df-446cb271-97fd-40d5-9d7c-5856525c5bbb\">\n",
              "  <button class=\"colab-df-quickchart\" onclick=\"quickchart('df-446cb271-97fd-40d5-9d7c-5856525c5bbb')\"\n",
              "            title=\"Suggest charts\"\n",
              "            style=\"display:none;\">\n",
              "\n",
              "<svg xmlns=\"http://www.w3.org/2000/svg\" height=\"24px\"viewBox=\"0 0 24 24\"\n",
              "     width=\"24px\">\n",
              "    <g>\n",
              "        <path d=\"M19 3H5c-1.1 0-2 .9-2 2v14c0 1.1.9 2 2 2h14c1.1 0 2-.9 2-2V5c0-1.1-.9-2-2-2zM9 17H7v-7h2v7zm4 0h-2V7h2v10zm4 0h-2v-4h2v4z\"/>\n",
              "    </g>\n",
              "</svg>\n",
              "  </button>\n",
              "\n",
              "<style>\n",
              "  .colab-df-quickchart {\n",
              "      --bg-color: #E8F0FE;\n",
              "      --fill-color: #1967D2;\n",
              "      --hover-bg-color: #E2EBFA;\n",
              "      --hover-fill-color: #174EA6;\n",
              "      --disabled-fill-color: #AAA;\n",
              "      --disabled-bg-color: #DDD;\n",
              "  }\n",
              "\n",
              "  [theme=dark] .colab-df-quickchart {\n",
              "      --bg-color: #3B4455;\n",
              "      --fill-color: #D2E3FC;\n",
              "      --hover-bg-color: #434B5C;\n",
              "      --hover-fill-color: #FFFFFF;\n",
              "      --disabled-bg-color: #3B4455;\n",
              "      --disabled-fill-color: #666;\n",
              "  }\n",
              "\n",
              "  .colab-df-quickchart {\n",
              "    background-color: var(--bg-color);\n",
              "    border: none;\n",
              "    border-radius: 50%;\n",
              "    cursor: pointer;\n",
              "    display: none;\n",
              "    fill: var(--fill-color);\n",
              "    height: 32px;\n",
              "    padding: 0;\n",
              "    width: 32px;\n",
              "  }\n",
              "\n",
              "  .colab-df-quickchart:hover {\n",
              "    background-color: var(--hover-bg-color);\n",
              "    box-shadow: 0 1px 2px rgba(60, 64, 67, 0.3), 0 1px 3px 1px rgba(60, 64, 67, 0.15);\n",
              "    fill: var(--button-hover-fill-color);\n",
              "  }\n",
              "\n",
              "  .colab-df-quickchart-complete:disabled,\n",
              "  .colab-df-quickchart-complete:disabled:hover {\n",
              "    background-color: var(--disabled-bg-color);\n",
              "    fill: var(--disabled-fill-color);\n",
              "    box-shadow: none;\n",
              "  }\n",
              "\n",
              "  .colab-df-spinner {\n",
              "    border: 2px solid var(--fill-color);\n",
              "    border-color: transparent;\n",
              "    border-bottom-color: var(--fill-color);\n",
              "    animation:\n",
              "      spin 1s steps(1) infinite;\n",
              "  }\n",
              "\n",
              "  @keyframes spin {\n",
              "    0% {\n",
              "      border-color: transparent;\n",
              "      border-bottom-color: var(--fill-color);\n",
              "      border-left-color: var(--fill-color);\n",
              "    }\n",
              "    20% {\n",
              "      border-color: transparent;\n",
              "      border-left-color: var(--fill-color);\n",
              "      border-top-color: var(--fill-color);\n",
              "    }\n",
              "    30% {\n",
              "      border-color: transparent;\n",
              "      border-left-color: var(--fill-color);\n",
              "      border-top-color: var(--fill-color);\n",
              "      border-right-color: var(--fill-color);\n",
              "    }\n",
              "    40% {\n",
              "      border-color: transparent;\n",
              "      border-right-color: var(--fill-color);\n",
              "      border-top-color: var(--fill-color);\n",
              "    }\n",
              "    60% {\n",
              "      border-color: transparent;\n",
              "      border-right-color: var(--fill-color);\n",
              "    }\n",
              "    80% {\n",
              "      border-color: transparent;\n",
              "      border-right-color: var(--fill-color);\n",
              "      border-bottom-color: var(--fill-color);\n",
              "    }\n",
              "    90% {\n",
              "      border-color: transparent;\n",
              "      border-bottom-color: var(--fill-color);\n",
              "    }\n",
              "  }\n",
              "</style>\n",
              "\n",
              "  <script>\n",
              "    async function quickchart(key) {\n",
              "      const quickchartButtonEl =\n",
              "        document.querySelector('#' + key + ' button');\n",
              "      quickchartButtonEl.disabled = true;  // To prevent multiple clicks.\n",
              "      quickchartButtonEl.classList.add('colab-df-spinner');\n",
              "      try {\n",
              "        const charts = await google.colab.kernel.invokeFunction(\n",
              "            'suggestCharts', [key], {});\n",
              "      } catch (error) {\n",
              "        console.error('Error during call to suggestCharts:', error);\n",
              "      }\n",
              "      quickchartButtonEl.classList.remove('colab-df-spinner');\n",
              "      quickchartButtonEl.classList.add('colab-df-quickchart-complete');\n",
              "    }\n",
              "    (() => {\n",
              "      let quickchartButtonEl =\n",
              "        document.querySelector('#df-446cb271-97fd-40d5-9d7c-5856525c5bbb button');\n",
              "      quickchartButtonEl.style.display =\n",
              "        google.colab.kernel.accessAllowed ? 'block' : 'none';\n",
              "    })();\n",
              "  </script>\n",
              "</div>\n",
              "\n",
              "    </div>\n",
              "  </div>\n"
            ],
            "application/vnd.google.colaboratory.intrinsic+json": {
              "type": "dataframe",
              "summary": "{\n  \"name\": \"tool_use_eval_task\",\n  \"rows\": 5,\n  \"fields\": [\n    {\n      \"column\": \"experiment_name\",\n      \"properties\": {\n        \"dtype\": \"category\",\n        \"num_unique_values\": 1,\n        \"samples\": [\n          \"eval-saved-llm-tool-use\"\n        ],\n        \"semantic_type\": \"\",\n        \"description\": \"\"\n      }\n    },\n    {\n      \"column\": \"run_name\",\n      \"properties\": {\n        \"dtype\": \"string\",\n        \"num_unique_values\": 5,\n        \"samples\": [\n          \"eval-gvt9ozdj\"\n        ],\n        \"semantic_type\": \"\",\n        \"description\": \"\"\n      }\n    },\n    {\n      \"column\": \"run_type\",\n      \"properties\": {\n        \"dtype\": \"category\",\n        \"num_unique_values\": 1,\n        \"samples\": [\n          \"system.ExperimentRun\"\n        ],\n        \"semantic_type\": \"\",\n        \"description\": \"\"\n      }\n    },\n    {\n      \"column\": \"state\",\n      \"properties\": {\n        \"dtype\": \"category\",\n        \"num_unique_values\": 2,\n        \"samples\": [\n          \"FAILED\"\n        ],\n        \"semantic_type\": \"\",\n        \"description\": \"\"\n      }\n    },\n    {\n      \"column\": \"metric.tool_name_match/std\",\n      \"properties\": {\n        \"dtype\": \"number\",\n        \"std\": 0.0,\n        \"min\": 0.0,\n        \"max\": 0.0,\n        \"num_unique_values\": 1,\n        \"samples\": [\n          0.0\n        ],\n        \"semantic_type\": \"\",\n        \"description\": \"\"\n      }\n    },\n    {\n      \"column\": \"metric.tool_name_match/mean\",\n      \"properties\": {\n        \"dtype\": \"number\",\n        \"std\": 0.0,\n        \"min\": 1.0,\n        \"max\": 1.0,\n        \"num_unique_values\": 1,\n        \"samples\": [\n          1.0\n        ],\n        \"semantic_type\": \"\",\n        \"description\": \"\"\n      }\n    },\n    {\n      \"column\": \"metric.tool_call_valid/mean\",\n      \"properties\": {\n        \"dtype\": \"number\",\n        \"std\": 0.0,\n        \"min\": 1.0,\n        \"max\": 1.0,\n        \"num_unique_values\": 1,\n        \"samples\": [\n          1.0\n        ],\n        \"semantic_type\": \"\",\n        \"description\": \"\"\n      }\n    },\n    {\n      \"column\": \"metric.tool_parameter_key_match/mean\",\n      \"properties\": {\n        \"dtype\": \"number\",\n        \"std\": 0.0,\n        \"min\": 0.8325,\n        \"max\": 0.8325,\n        \"num_unique_values\": 1,\n        \"samples\": [\n          0.8325\n        ],\n        \"semantic_type\": \"\",\n        \"description\": \"\"\n      }\n    },\n    {\n      \"column\": \"metric.tool_parameter_kv_match/mean\",\n      \"properties\": {\n        \"dtype\": \"number\",\n        \"std\": 0.0,\n        \"min\": 0.6675,\n        \"max\": 0.6675,\n        \"num_unique_values\": 1,\n        \"samples\": [\n          0.6675\n        ],\n        \"semantic_type\": \"\",\n        \"description\": \"\"\n      }\n    },\n    {\n      \"column\": \"metric.tool_parameter_key_match/std\",\n      \"properties\": {\n        \"dtype\": \"number\",\n        \"std\": 0.0,\n        \"min\": 0.33499999999999996,\n        \"max\": 0.33499999999999996,\n        \"num_unique_values\": 1,\n        \"samples\": [\n          0.33499999999999996\n        ],\n        \"semantic_type\": \"\",\n        \"description\": \"\"\n      }\n    },\n    {\n      \"column\": \"metric.row_count\",\n      \"properties\": {\n        \"dtype\": \"number\",\n        \"std\": 0.0,\n        \"min\": 4.0,\n        \"max\": 4.0,\n        \"num_unique_values\": 1,\n        \"samples\": [\n          4.0\n        ],\n        \"semantic_type\": \"\",\n        \"description\": \"\"\n      }\n    },\n    {\n      \"column\": \"metric.tool_parameter_kv_match/std\",\n      \"properties\": {\n        \"dtype\": \"number\",\n        \"std\": 0.0,\n        \"min\": 0.2735415873317986,\n        \"max\": 0.2735415873317986,\n        \"num_unique_values\": 1,\n        \"samples\": [\n          0.2735415873317986\n        ],\n        \"semantic_type\": \"\",\n        \"description\": \"\"\n      }\n    },\n    {\n      \"column\": \"metric.tool_call_valid/std\",\n      \"properties\": {\n        \"dtype\": \"number\",\n        \"std\": 0.0,\n        \"min\": 0.0,\n        \"max\": 0.0,\n        \"num_unique_values\": 1,\n        \"samples\": [\n          0.0\n        ],\n        \"semantic_type\": \"\",\n        \"description\": \"\"\n      }\n    }\n  ]\n}"
            }
          },
          "metadata": {}
        }
      ],
      "source": [
        "tool_use_eval_task.display_runs()"
      ]
    },
    {
      "cell_type": "markdown",
      "metadata": {
        "id": "oxow7GrIRgxo"
      },
      "source": [
        "## 2. Tool Use and Function Calling with Gemini\n",
        "\n",
        "[Function Calling Documentation](https://cloud.google.com/vertex-ai/generative-ai/docs/multimodal/function-calling)"
      ]
    },
    {
      "cell_type": "markdown",
      "metadata": {
        "id": "Ew82QX0QWxYa"
      },
      "source": [
        "### Define a function and tool\n",
        "\n",
        "Define an API specification and register the function in a tool with the latest version of [Vertex AI SDK for Python](https://cloud.google.com/vertex-ai/docs/python-sdk/use-vertex-ai-python-sdk).\n",
        "\n"
      ]
    },
    {
      "cell_type": "code",
      "execution_count": 11,
      "metadata": {
        "id": "LiuafKieQgjF",
        "executionInfo": {
          "status": "ok",
          "timestamp": 1724806799551,
          "user_tz": 420,
          "elapsed": 3,
          "user": {
            "displayName": "Bo Zheng",
            "userId": "08840623371328739114"
          }
        }
      },
      "outputs": [],
      "source": [
        "from vertexai.generative_models import (\n",
        "    Content,\n",
        "    FunctionDeclaration,\n",
        "    GenerativeModel,\n",
        "    Part,\n",
        "    Tool,\n",
        ")\n",
        "\n",
        "book_tickets_func = FunctionDeclaration(\n",
        "    name=\"book_tickets\",\n",
        "    description=\"Book movie tickets\",\n",
        "    parameters={\n",
        "        \"type\": \"object\",\n",
        "        \"properties\": {\n",
        "            \"movie\": {\"type\": \"string\", \"description\": \"The title of the movie.\"},\n",
        "            \"theater\": {\n",
        "                \"type\": \"string\",\n",
        "                \"description\": \"The name of the movie theater.\",\n",
        "            },\n",
        "            \"location\": {\n",
        "                \"type\": \"string\",\n",
        "                \"description\": \"The location of the movie theater.\",\n",
        "            },\n",
        "            \"showtime\": {\n",
        "                \"type\": \"string\",\n",
        "                \"description\": \"The showtime of the movie in ISO 8601 format.\",\n",
        "            },\n",
        "            \"date\": {\n",
        "                \"type\": \"string\",\n",
        "                \"description\": \"The date of the movie in ISO 8601 format.\",\n",
        "            },\n",
        "            \"num_tix\": {\n",
        "                \"type\": \"string\",\n",
        "                \"description\": \"The integer number of tickets to book.\",\n",
        "            },\n",
        "        },\n",
        "        \"required\": [\n",
        "            \"movie\",\n",
        "            \"theater\",\n",
        "            \"location\",\n",
        "            \"showtime\",\n",
        "            \"date\",\n",
        "            \"num_tix\",\n",
        "        ],\n",
        "    },\n",
        ")\n",
        "\n",
        "\n",
        "book_tickets_tool = Tool(\n",
        "    function_declarations=[book_tickets_func],\n",
        ")"
      ]
    },
    {
      "cell_type": "markdown",
      "metadata": {
        "id": "QQgreOFGXJNF"
      },
      "source": [
        "### Generate a function call\n",
        "\n",
        "Prompt the Gemini model and include the tool that you defined."
      ]
    },
    {
      "cell_type": "code",
      "execution_count": 19,
      "metadata": {
        "id": "pNevmS2ngB0Z",
        "colab": {
          "base_uri": "https://localhost:8080/"
        },
        "executionInfo": {
          "status": "ok",
          "timestamp": 1724806821485,
          "user_tz": 420,
          "elapsed": 2999,
          "user": {
            "displayName": "Bo Zheng",
            "userId": "08840623371328739114"
          }
        },
        "outputId": "d21e6d98-3d63-403e-e223-959a571f56bb"
      },
      "outputs": [
        {
          "output_type": "execute_result",
          "data": {
            "text/plain": [
              "role: \"model\"\n",
              "parts {\n",
              "  function_call {\n",
              "    name: \"book_tickets\"\n",
              "    args {\n",
              "      fields {\n",
              "        key: \"date\"\n",
              "        value {\n",
              "          string_value: \"2024-03-30\"\n",
              "        }\n",
              "      }\n",
              "      fields {\n",
              "        key: \"location\"\n",
              "        value {\n",
              "          string_value: \"Mountain View, CA\"\n",
              "        }\n",
              "      }\n",
              "      fields {\n",
              "        key: \"movie\"\n",
              "        value {\n",
              "          string_value: \"Mission Impossible Dead Reckoning Part 1\"\n",
              "        }\n",
              "      }\n",
              "      fields {\n",
              "        key: \"num_tix\"\n",
              "        value {\n",
              "          string_value: \"2\"\n",
              "        }\n",
              "      }\n",
              "      fields {\n",
              "        key: \"showtime\"\n",
              "        value {\n",
              "          string_value: \"19:30:00\"\n",
              "        }\n",
              "      }\n",
              "      fields {\n",
              "        key: \"theater\"\n",
              "        value {\n",
              "          string_value: \"Regal Edwards 14\"\n",
              "        }\n",
              "      }\n",
              "    }\n",
              "  }\n",
              "}"
            ]
          },
          "metadata": {},
          "execution_count": 19
        }
      ],
      "source": [
        "prompt = \"\"\"I'd like to book 2 tickets for the movie \"Mission Impossible Dead Reckoning Part 1\"\n",
        "at the Regal Edwards 14 theater in Mountain View, CA. The showtime is 7:30 PM on March 30th, 2024.\n",
        "\"\"\"\n",
        "\n",
        "gemini_model = GenerativeModel(\"gemini-1.5-pro\")\n",
        "\n",
        "gemini_response = gemini_model.generate_content(\n",
        "    prompt,\n",
        "    tools=[book_tickets_tool],\n",
        ")\n",
        "\n",
        "gemini_response.candidates[0].content"
      ]
    },
    {
      "cell_type": "markdown",
      "metadata": {
        "id": "lOAbbxFFXkdn"
      },
      "source": [
        "###  Unpack the Gemini response into a Python dictionary"
      ]
    },
    {
      "cell_type": "code",
      "execution_count": 20,
      "metadata": {
        "id": "x84XHpuWXmu6",
        "colab": {
          "base_uri": "https://localhost:8080/",
          "height": 36
        },
        "executionInfo": {
          "status": "ok",
          "timestamp": 1724806821485,
          "user_tz": 420,
          "elapsed": 5,
          "user": {
            "displayName": "Bo Zheng",
            "userId": "08840623371328739114"
          }
        },
        "outputId": "9cf0ca97-ac99-4bfa-acdf-975d54e834fb"
      },
      "outputs": [
        {
          "output_type": "execute_result",
          "data": {
            "text/plain": [
              "'{\"content\": \"\", \"tool_calls\": [{\"name\": \"book_tickets\", \"arguments\": {\"theater\": \"Regal Edwards 14\", \"showtime\": \"19:30:00\", \"num_tix\": \"2\", \"date\": \"2024-03-30\", \"location\": \"Mountain View, CA\", \"movie\": \"Mission Impossible Dead Reckoning Part 1\"}}]}'"
            ],
            "application/vnd.google.colaboratory.intrinsic+json": {
              "type": "string"
            }
          },
          "metadata": {},
          "execution_count": 20
        }
      ],
      "source": [
        "def unpack_response(response):\n",
        "    output = {}\n",
        "    function_call = {}\n",
        "    for key, value in response.candidates[0].content.parts[0].to_dict().items():\n",
        "        function_call[key] = value\n",
        "    output[\"content\"] = \"\"\n",
        "    output[\"tool_calls\"] = [function_call[\"function_call\"]]\n",
        "    output[\"tool_calls\"][0][\"arguments\"] = output[\"tool_calls\"][0].pop(\"args\")\n",
        "    return json.dumps(output)\n",
        "\n",
        "\n",
        "response = unpack_response(gemini_response)\n",
        "response"
      ]
    },
    {
      "cell_type": "markdown",
      "metadata": {
        "id": "fsLT0B75aJYz"
      },
      "source": [
        "### Evaluate the Gemini's Function Call Response"
      ]
    },
    {
      "cell_type": "code",
      "execution_count": 21,
      "metadata": {
        "id": "kgzK90mybqbK",
        "executionInfo": {
          "status": "ok",
          "timestamp": 1724806821485,
          "user_tz": 420,
          "elapsed": 4,
          "user": {
            "displayName": "Bo Zheng",
            "userId": "08840623371328739114"
          }
        }
      },
      "outputs": [],
      "source": [
        "reference = json.dumps(\n",
        "    {\n",
        "        \"content\": \"\",\n",
        "        \"tool_calls\": [\n",
        "            {\n",
        "                \"name\": \"book_tickets\",\n",
        "                \"arguments\": {\n",
        "                    \"movie\": \"Mission Impossible Dead Reckoning Part 1\",\n",
        "                    \"theater\": \"Regal Edwards 14\",\n",
        "                    \"location\": \"Mountain View CA\",\n",
        "                    \"showtime\": \"7:30\",\n",
        "                    \"date\": \"2024-03-30\",\n",
        "                    \"num_tix\": \"2\",\n",
        "                },\n",
        "            }\n",
        "        ],\n",
        "    }\n",
        ")\n",
        "\n",
        "eval_dataset = pd.DataFrame({\"response\": [response], \"reference\": [reference]})"
      ]
    },
    {
      "cell_type": "code",
      "execution_count": 22,
      "metadata": {
        "id": "ttRycKaCg6GG",
        "colab": {
          "base_uri": "https://localhost:8080/"
        },
        "executionInfo": {
          "status": "ok",
          "timestamp": 1724806821485,
          "user_tz": 420,
          "elapsed": 4,
          "user": {
            "displayName": "Bo Zheng",
            "userId": "08840623371328739114"
          }
        },
        "outputId": "d2bba648-3c85-4957-b49d-d9ac4c4d2737"
      },
      "outputs": [
        {
          "output_type": "execute_result",
          "data": {
            "text/plain": [
              "{'content': '',\n",
              " 'tool_calls': [{'name': 'book_tickets',\n",
              "   'arguments': {'movie': 'Mission Impossible Dead Reckoning Part 1',\n",
              "    'theater': 'Regal Edwards 14',\n",
              "    'location': 'Mountain View CA',\n",
              "    'showtime': '7:30',\n",
              "    'date': '2024-03-30',\n",
              "    'num_tix': '2'}}]}"
            ]
          },
          "metadata": {},
          "execution_count": 22
        }
      ],
      "source": [
        "# Expected Tool Call Response\n",
        "json.loads(eval_dataset.reference[0])"
      ]
    },
    {
      "cell_type": "code",
      "execution_count": 23,
      "metadata": {
        "id": "k5SmLtFAdVCh",
        "colab": {
          "base_uri": "https://localhost:8080/"
        },
        "executionInfo": {
          "status": "ok",
          "timestamp": 1724806821485,
          "user_tz": 420,
          "elapsed": 3,
          "user": {
            "displayName": "Bo Zheng",
            "userId": "08840623371328739114"
          }
        },
        "outputId": "f0459033-9832-4707-88a5-899c8f67337c"
      },
      "outputs": [
        {
          "output_type": "execute_result",
          "data": {
            "text/plain": [
              "{'content': '',\n",
              " 'tool_calls': [{'name': 'book_tickets',\n",
              "   'arguments': {'theater': 'Regal Edwards 14',\n",
              "    'showtime': '19:30:00',\n",
              "    'num_tix': '2',\n",
              "    'date': '2024-03-30',\n",
              "    'location': 'Mountain View, CA',\n",
              "    'movie': 'Mission Impossible Dead Reckoning Part 1'}}]}"
            ]
          },
          "metadata": {},
          "execution_count": 23
        }
      ],
      "source": [
        "# Actual Gemini Tool Call Response\n",
        "json.loads(eval_dataset.response[0])"
      ]
    },
    {
      "cell_type": "code",
      "execution_count": 24,
      "metadata": {
        "id": "gUqjfQH5aJE2",
        "executionInfo": {
          "status": "ok",
          "timestamp": 1724806821485,
          "user_tz": 420,
          "elapsed": 3,
          "user": {
            "displayName": "Bo Zheng",
            "userId": "08840623371328739114"
          }
        }
      },
      "outputs": [],
      "source": [
        "experiment_name = \"eval-gemini-model-function-call\"  # @param {type:\"string\"}\n",
        "\n",
        "gemini_functiona_call_eval_task = EvalTask(\n",
        "    dataset=eval_dataset,\n",
        "    metrics=tool_metrics,\n",
        "    experiment=experiment_name,\n",
        ")"
      ]
    },
    {
      "cell_type": "code",
      "execution_count": null,
      "metadata": {
        "id": "r3MfX9QCZxHW",
        "colab": {
          "base_uri": "https://localhost:8080/",
          "height": 149
        },
        "outputId": "d97b49a7-83f1-4e09-9546-e62ba3ad7522"
      },
      "outputs": [
        {
          "output_type": "display_data",
          "data": {
            "text/plain": [
              "<IPython.core.display.HTML object>"
            ],
            "text/html": [
              "\n",
              "        \n",
              "    <link rel=\"stylesheet\" href=\"https://fonts.googleapis.com/icon?family=Material+Icons\">\n",
              "    <style>\n",
              "      .view-vertex-resource,\n",
              "      .view-vertex-resource:hover,\n",
              "      .view-vertex-resource:visited {\n",
              "        position: relative;\n",
              "        display: inline-flex;\n",
              "        flex-direction: row;\n",
              "        height: 32px;\n",
              "        padding: 0 12px;\n",
              "          margin: 4px 18px;\n",
              "        gap: 4px;\n",
              "        border-radius: 4px;\n",
              "\n",
              "        align-items: center;\n",
              "        justify-content: center;\n",
              "        background-color: rgb(255, 255, 255);\n",
              "        color: rgb(51, 103, 214);\n",
              "\n",
              "        font-family: Roboto,\"Helvetica Neue\",sans-serif;\n",
              "        font-size: 13px;\n",
              "        font-weight: 500;\n",
              "        text-transform: uppercase;\n",
              "        text-decoration: none !important;\n",
              "\n",
              "        transition: box-shadow 280ms cubic-bezier(0.4, 0, 0.2, 1) 0s;\n",
              "        box-shadow: 0px 3px 1px -2px rgba(0,0,0,0.2), 0px 2px 2px 0px rgba(0,0,0,0.14), 0px 1px 5px 0px rgba(0,0,0,0.12);\n",
              "      }\n",
              "      .view-vertex-resource:active {\n",
              "        box-shadow: 0px 5px 5px -3px rgba(0,0,0,0.2),0px 8px 10px 1px rgba(0,0,0,0.14),0px 3px 14px 2px rgba(0,0,0,0.12);\n",
              "      }\n",
              "      .view-vertex-resource:active .view-vertex-ripple::before {\n",
              "        position: absolute;\n",
              "        top: 0;\n",
              "        bottom: 0;\n",
              "        left: 0;\n",
              "        right: 0;\n",
              "        border-radius: 4px;\n",
              "        pointer-events: none;\n",
              "\n",
              "        content: '';\n",
              "        background-color: rgb(51, 103, 214);\n",
              "        opacity: 0.12;\n",
              "      }\n",
              "      .view-vertex-icon {\n",
              "        font-size: 18px;\n",
              "      }\n",
              "    </style>\n",
              "  \n",
              "        <a class=\"view-vertex-resource\" id=\"view-vertex-resource-608e2711-f900-48ef-9b1b-1d7ee44cc798\" href=\"#view-view-vertex-resource-608e2711-f900-48ef-9b1b-1d7ee44cc798\">\n",
              "          <span class=\"material-icons view-vertex-icon\">science</span>\n",
              "          <span>View Experiment</span>\n",
              "        </a>\n",
              "        \n",
              "        <script>\n",
              "          (function () {\n",
              "            const link = document.getElementById('view-vertex-resource-608e2711-f900-48ef-9b1b-1d7ee44cc798');\n",
              "            link.addEventListener('click', (e) => {\n",
              "              if (window.google?.colab?.openUrl) {\n",
              "                window.google.colab.openUrl('https://console.cloud.google.com/vertex-ai/experiments/locations/us-central1/experiments/eval-gemini-model-function-call/runs?project=cloud-llm-preview1');\n",
              "              } else {\n",
              "                window.open('https://console.cloud.google.com/vertex-ai/experiments/locations/us-central1/experiments/eval-gemini-model-function-call/runs?project=cloud-llm-preview1', '_blank');\n",
              "              }\n",
              "              e.stopPropagation();\n",
              "              e.preventDefault();\n",
              "            });\n",
              "          })();\n",
              "        </script>\n",
              "    "
            ]
          },
          "metadata": {}
        },
        {
          "output_type": "stream",
          "name": "stderr",
          "text": [
            "INFO:google.cloud.aiplatform.metadata.experiment_resources:Associating projects/801452371447/locations/us-central1/metadataStores/default/contexts/eval-gemini-model-function-call-eval-xggthr1p to Experiment: eval-gemini-model-function-call\n"
          ]
        },
        {
          "output_type": "display_data",
          "data": {
            "text/plain": [
              "<IPython.core.display.HTML object>"
            ],
            "text/html": [
              "\n",
              "        \n",
              "    <link rel=\"stylesheet\" href=\"https://fonts.googleapis.com/icon?family=Material+Icons\">\n",
              "    <style>\n",
              "      .view-vertex-resource,\n",
              "      .view-vertex-resource:hover,\n",
              "      .view-vertex-resource:visited {\n",
              "        position: relative;\n",
              "        display: inline-flex;\n",
              "        flex-direction: row;\n",
              "        height: 32px;\n",
              "        padding: 0 12px;\n",
              "          margin: 4px 18px;\n",
              "        gap: 4px;\n",
              "        border-radius: 4px;\n",
              "\n",
              "        align-items: center;\n",
              "        justify-content: center;\n",
              "        background-color: rgb(255, 255, 255);\n",
              "        color: rgb(51, 103, 214);\n",
              "\n",
              "        font-family: Roboto,\"Helvetica Neue\",sans-serif;\n",
              "        font-size: 13px;\n",
              "        font-weight: 500;\n",
              "        text-transform: uppercase;\n",
              "        text-decoration: none !important;\n",
              "\n",
              "        transition: box-shadow 280ms cubic-bezier(0.4, 0, 0.2, 1) 0s;\n",
              "        box-shadow: 0px 3px 1px -2px rgba(0,0,0,0.2), 0px 2px 2px 0px rgba(0,0,0,0.14), 0px 1px 5px 0px rgba(0,0,0,0.12);\n",
              "      }\n",
              "      .view-vertex-resource:active {\n",
              "        box-shadow: 0px 5px 5px -3px rgba(0,0,0,0.2),0px 8px 10px 1px rgba(0,0,0,0.14),0px 3px 14px 2px rgba(0,0,0,0.12);\n",
              "      }\n",
              "      .view-vertex-resource:active .view-vertex-ripple::before {\n",
              "        position: absolute;\n",
              "        top: 0;\n",
              "        bottom: 0;\n",
              "        left: 0;\n",
              "        right: 0;\n",
              "        border-radius: 4px;\n",
              "        pointer-events: none;\n",
              "\n",
              "        content: '';\n",
              "        background-color: rgb(51, 103, 214);\n",
              "        opacity: 0.12;\n",
              "      }\n",
              "      .view-vertex-icon {\n",
              "        font-size: 18px;\n",
              "      }\n",
              "    </style>\n",
              "  \n",
              "        <a class=\"view-vertex-resource\" id=\"view-vertex-resource-e8e46bfb-d995-4fc0-b814-8925ad360a56\" href=\"#view-view-vertex-resource-e8e46bfb-d995-4fc0-b814-8925ad360a56\">\n",
              "          <span class=\"material-icons view-vertex-icon\">science</span>\n",
              "          <span>View Experiment Run</span>\n",
              "        </a>\n",
              "        \n",
              "        <script>\n",
              "          (function () {\n",
              "            const link = document.getElementById('view-vertex-resource-e8e46bfb-d995-4fc0-b814-8925ad360a56');\n",
              "            link.addEventListener('click', (e) => {\n",
              "              if (window.google?.colab?.openUrl) {\n",
              "                window.google.colab.openUrl('https://console.cloud.google.com/vertex-ai/experiments/locations/us-central1/experiments/eval-gemini-model-function-call/runs/eval-gemini-model-function-call-eval-xggthr1p?project=cloud-llm-preview1');\n",
              "              } else {\n",
              "                window.open('https://console.cloud.google.com/vertex-ai/experiments/locations/us-central1/experiments/eval-gemini-model-function-call/runs/eval-gemini-model-function-call-eval-xggthr1p?project=cloud-llm-preview1', '_blank');\n",
              "              }\n",
              "              e.stopPropagation();\n",
              "              e.preventDefault();\n",
              "            });\n",
              "          })();\n",
              "        </script>\n",
              "    "
            ]
          },
          "metadata": {}
        },
        {
          "output_type": "stream",
          "name": "stderr",
          "text": [
            "INFO:vertexai.evaluation._evaluation:Computing metrics with a total of 4 Vertex online evaluation service requests.\n",
            " 50%|█████     | 2/4 [00:04<00:04,  2.32s/it]"
          ]
        }
      ],
      "source": [
        "run_id = generate_uuid()\n",
        "\n",
        "eval_result = gemini_functiona_call_eval_task.evaluate(\n",
        "    experiment_run_name=f\"eval-{run_id}\"\n",
        ")\n",
        "\n",
        "display_eval_report(\n",
        "    (\n",
        "        f\"Gemini Tool Use Quality Evaluation Metrics\",\n",
        "        eval_result.summary_metrics,\n",
        "        eval_result.metrics_table,\n",
        "    )\n",
        ")"
      ]
    }
  ],
  "metadata": {
    "colab": {
      "collapsed_sections": [
        "NeGjzkqKlTFW",
        "GEv1ZxXPlTFX",
        "o4nrCUUnlTFX"
      ],
      "provenance": [
        {
          "file_id": "https://github.com/GoogleCloudPlatform/generative-ai/blob/main/gemini/evaluation/gemini_function_calling_evaluation_rapid_evaluation_sdk.ipynb",
          "timestamp": 1724782404656
        }
      ],
      "toc_visible": true
    },
    "kernelspec": {
      "display_name": "Python 3",
      "name": "python3"
    }
  },
  "nbformat": 4,
  "nbformat_minor": 0
}
